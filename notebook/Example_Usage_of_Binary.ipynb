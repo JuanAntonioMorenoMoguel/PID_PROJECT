{
 "cells": [
  {
   "cell_type": "markdown",
   "metadata": {
    "id": "CDYVtH0HehRw"
   },
   "source": [
    "# Load Drive and Depedency"
   ]
  },
  {
   "cell_type": "code",
   "execution_count": 2,
   "metadata": {
    "colab": {
     "base_uri": "https://localhost:8080/"
    },
    "executionInfo": {
     "elapsed": 24177,
     "status": "ok",
     "timestamp": 1634454557344,
     "user": {
      "displayName": "Kharisma Muzaki Ghufron",
      "photoUrl": "https://lh3.googleusercontent.com/a/default-user=s64",
      "userId": "14730718725881384856"
     },
     "user_tz": -420
    },
    "id": "NtU2LZ_1xFse",
    "outputId": "419a15b2-41eb-499c-c913-65a54a9174d2"
   },
   "outputs": [
    {
     "ename": "ModuleNotFoundError",
     "evalue": "No module named 'google.colab'",
     "output_type": "error",
     "traceback": [
      "\u001b[1;31m---------------------------------------------------------------------------\u001b[0m",
      "\u001b[1;31mModuleNotFoundError\u001b[0m                       Traceback (most recent call last)",
      "Cell \u001b[1;32mIn[2], line 1\u001b[0m\n\u001b[1;32m----> 1\u001b[0m \u001b[38;5;28;01mfrom\u001b[39;00m\u001b[38;5;250m \u001b[39m\u001b[38;5;21;01mgoogle\u001b[39;00m\u001b[38;5;21;01m.\u001b[39;00m\u001b[38;5;21;01mcolab\u001b[39;00m\u001b[38;5;250m \u001b[39m\u001b[38;5;28;01mimport\u001b[39;00m drive\n\u001b[0;32m      2\u001b[0m drive\u001b[38;5;241m.\u001b[39mmount(\u001b[38;5;124m'\u001b[39m\u001b[38;5;124m/content/drive\u001b[39m\u001b[38;5;124m'\u001b[39m)\n\u001b[0;32m      3\u001b[0m \u001b[38;5;66;03m# CHANGE BASED ROOT DIR\u001b[39;00m\n",
      "\u001b[1;31mModuleNotFoundError\u001b[0m: No module named 'google.colab'"
     ]
    }
   ],
   "source": [
    "from google.colab import drive\n",
    "drive.mount('/content/drive')\n",
    "# CHANGE BASED ROOT DIR\n",
    "%cd '/content/drive/MyDrive/Image Retrieval'"
   ]
  },
  {
   "cell_type": "markdown",
   "metadata": {
    "id": "-fJ7pPoz2opO"
   },
   "source": [
    "## Depedency Library"
   ]
  },
  {
   "cell_type": "code",
   "execution_count": 1,
   "metadata": {},
   "outputs": [
    {
     "name": "stdout",
     "output_type": "stream",
     "text": [
      "Collecting numpy\n",
      "  Downloading numpy-2.2.4-cp311-cp311-win_amd64.whl (12.9 MB)\n",
      "     --------------------------------------- 12.9/12.9 MB 12.6 MB/s eta 0:00:00\n",
      "Collecting opencv-python\n",
      "  Downloading opencv_python-4.11.0.86-cp37-abi3-win_amd64.whl (39.5 MB)\n",
      "     --------------------------------------- 39.5/39.5 MB 13.6 MB/s eta 0:00:00\n",
      "Collecting scikit-learn\n",
      "  Downloading scikit_learn-1.6.1-cp311-cp311-win_amd64.whl (11.1 MB)\n",
      "     --------------------------------------- 11.1/11.1 MB 17.2 MB/s eta 0:00:00\n",
      "Collecting pandas\n",
      "  Downloading pandas-2.2.3-cp311-cp311-win_amd64.whl (11.6 MB)\n",
      "     --------------------------------------- 11.6/11.6 MB 18.2 MB/s eta 0:00:00\n",
      "Collecting matplotlib\n",
      "  Downloading matplotlib-3.10.1-cp311-cp311-win_amd64.whl (8.1 MB)\n",
      "     ---------------------------------------- 8.1/8.1 MB 17.8 MB/s eta 0:00:00\n",
      "Collecting tensorflow\n",
      "  Downloading tensorflow-2.19.0-cp311-cp311-win_amd64.whl (375.9 MB)\n",
      "     -------------------------------------- 375.9/375.9 MB 7.4 MB/s eta 0:00:00\n",
      "Collecting scipy>=1.6.0\n",
      "  Downloading scipy-1.15.2-cp311-cp311-win_amd64.whl (41.2 MB)\n",
      "     --------------------------------------- 41.2/41.2 MB 21.8 MB/s eta 0:00:00\n",
      "Collecting joblib>=1.2.0\n",
      "  Downloading joblib-1.4.2-py3-none-any.whl (301 kB)\n",
      "     ------------------------------------- 301.8/301.8 kB 18.2 MB/s eta 0:00:00\n",
      "Collecting threadpoolctl>=3.1.0\n",
      "  Downloading threadpoolctl-3.6.0-py3-none-any.whl (18 kB)\n",
      "Requirement already satisfied: python-dateutil>=2.8.2 in c:\\users\\juamo\\desktop\\pid_project\\venv\\lib\\site-packages (from pandas) (2.9.0.post0)\n",
      "Collecting pytz>=2020.1\n",
      "  Downloading pytz-2025.2-py2.py3-none-any.whl (509 kB)\n",
      "     ------------------------------------- 509.2/509.2 kB 33.3 MB/s eta 0:00:00\n",
      "Collecting tzdata>=2022.7\n",
      "  Downloading tzdata-2025.2-py2.py3-none-any.whl (347 kB)\n",
      "     ------------------------------------- 347.8/347.8 kB 21.1 MB/s eta 0:00:00\n",
      "Collecting contourpy>=1.0.1\n",
      "  Downloading contourpy-1.3.1-cp311-cp311-win_amd64.whl (219 kB)\n",
      "     ---------------------------------------- 219.8/219.8 kB ? eta 0:00:00\n",
      "Collecting cycler>=0.10\n",
      "  Downloading cycler-0.12.1-py3-none-any.whl (8.3 kB)\n",
      "Collecting fonttools>=4.22.0\n",
      "  Downloading fonttools-4.56.0-cp311-cp311-win_amd64.whl (2.2 MB)\n",
      "     ---------------------------------------- 2.2/2.2 MB 28.1 MB/s eta 0:00:00\n",
      "Collecting kiwisolver>=1.3.1\n",
      "  Downloading kiwisolver-1.4.8-cp311-cp311-win_amd64.whl (71 kB)\n",
      "     ---------------------------------------- 72.0/72.0 kB 2.0 MB/s eta 0:00:00\n",
      "Requirement already satisfied: packaging>=20.0 in c:\\users\\juamo\\desktop\\pid_project\\venv\\lib\\site-packages (from matplotlib) (24.2)\n",
      "Collecting pillow>=8\n",
      "  Downloading pillow-11.1.0-cp311-cp311-win_amd64.whl (2.6 MB)\n",
      "     ---------------------------------------- 2.6/2.6 MB 24.0 MB/s eta 0:00:00\n",
      "Collecting pyparsing>=2.3.1\n",
      "  Downloading pyparsing-3.2.3-py3-none-any.whl (111 kB)\n",
      "     ---------------------------------------- 111.1/111.1 kB ? eta 0:00:00\n",
      "Collecting absl-py>=1.0.0\n",
      "  Downloading absl_py-2.2.1-py3-none-any.whl (277 kB)\n",
      "     ------------------------------------- 277.3/277.3 kB 16.7 MB/s eta 0:00:00\n",
      "Collecting astunparse>=1.6.0\n",
      "  Downloading astunparse-1.6.3-py2.py3-none-any.whl (12 kB)\n",
      "Collecting flatbuffers>=24.3.25\n",
      "  Downloading flatbuffers-25.2.10-py2.py3-none-any.whl (30 kB)\n",
      "Collecting gast!=0.5.0,!=0.5.1,!=0.5.2,>=0.2.1\n",
      "  Downloading gast-0.6.0-py3-none-any.whl (21 kB)\n",
      "Collecting google-pasta>=0.1.1\n",
      "  Downloading google_pasta-0.2.0-py3-none-any.whl (57 kB)\n",
      "     ---------------------------------------- 57.5/57.5 kB ? eta 0:00:00\n",
      "Collecting libclang>=13.0.0\n",
      "  Downloading libclang-18.1.1-py2.py3-none-win_amd64.whl (26.4 MB)\n",
      "     --------------------------------------- 26.4/26.4 MB 23.3 MB/s eta 0:00:00\n",
      "Collecting opt-einsum>=2.3.2\n",
      "  Downloading opt_einsum-3.4.0-py3-none-any.whl (71 kB)\n",
      "     ---------------------------------------- 71.9/71.9 kB 4.1 MB/s eta 0:00:00\n",
      "Collecting protobuf!=4.21.0,!=4.21.1,!=4.21.2,!=4.21.3,!=4.21.4,!=4.21.5,<6.0.0dev,>=3.20.3\n",
      "  Downloading protobuf-5.29.4-cp310-abi3-win_amd64.whl (434 kB)\n",
      "     ------------------------------------- 434.5/434.5 kB 26.5 MB/s eta 0:00:00\n",
      "Collecting requests<3,>=2.21.0\n",
      "  Downloading requests-2.32.3-py3-none-any.whl (64 kB)\n",
      "     ---------------------------------------- 64.9/64.9 kB ? eta 0:00:00\n",
      "Requirement already satisfied: setuptools in c:\\users\\juamo\\desktop\\pid_project\\venv\\lib\\site-packages (from tensorflow) (65.5.0)\n",
      "Requirement already satisfied: six>=1.12.0 in c:\\users\\juamo\\desktop\\pid_project\\venv\\lib\\site-packages (from tensorflow) (1.17.0)\n",
      "Collecting termcolor>=1.1.0\n",
      "  Downloading termcolor-2.5.0-py3-none-any.whl (7.8 kB)\n",
      "Requirement already satisfied: typing-extensions>=3.6.6 in c:\\users\\juamo\\desktop\\pid_project\\venv\\lib\\site-packages (from tensorflow) (4.13.0)\n",
      "Collecting wrapt>=1.11.0\n",
      "  Downloading wrapt-1.17.2-cp311-cp311-win_amd64.whl (38 kB)\n",
      "Collecting grpcio<2.0,>=1.24.3\n",
      "  Downloading grpcio-1.71.0-cp311-cp311-win_amd64.whl (4.3 MB)\n",
      "     ---------------------------------------- 4.3/4.3 MB 21.0 MB/s eta 0:00:00\n",
      "Collecting tensorboard~=2.19.0\n",
      "  Downloading tensorboard-2.19.0-py3-none-any.whl (5.5 MB)\n",
      "     ---------------------------------------- 5.5/5.5 MB 27.1 MB/s eta 0:00:00\n",
      "Collecting keras>=3.5.0\n",
      "  Downloading keras-3.9.0-py3-none-any.whl (1.3 MB)\n",
      "     ---------------------------------------- 1.3/1.3 MB 21.5 MB/s eta 0:00:00\n",
      "Collecting numpy\n",
      "  Downloading numpy-2.1.3-cp311-cp311-win_amd64.whl (12.9 MB)\n",
      "     --------------------------------------- 12.9/12.9 MB 25.2 MB/s eta 0:00:00\n",
      "Collecting h5py>=3.11.0\n",
      "  Downloading h5py-3.13.0-cp311-cp311-win_amd64.whl (3.0 MB)\n",
      "     ---------------------------------------- 3.0/3.0 MB 23.6 MB/s eta 0:00:00\n",
      "Collecting ml-dtypes<1.0.0,>=0.5.1\n",
      "  Downloading ml_dtypes-0.5.1-cp311-cp311-win_amd64.whl (209 kB)\n",
      "     ------------------------------------- 209.7/209.7 kB 12.5 MB/s eta 0:00:00\n",
      "Collecting tensorflow-io-gcs-filesystem>=0.23.1\n",
      "  Downloading tensorflow_io_gcs_filesystem-0.31.0-cp311-cp311-win_amd64.whl (1.5 MB)\n",
      "     ---------------------------------------- 1.5/1.5 MB 31.4 MB/s eta 0:00:00\n",
      "Collecting wheel<1.0,>=0.23.0\n",
      "  Downloading wheel-0.45.1-py3-none-any.whl (72 kB)\n",
      "     ---------------------------------------- 72.5/72.5 kB ? eta 0:00:00\n",
      "Collecting rich\n",
      "  Downloading rich-13.9.4-py3-none-any.whl (242 kB)\n",
      "     ------------------------------------- 242.4/242.4 kB 14.5 MB/s eta 0:00:00\n",
      "Collecting namex\n",
      "  Downloading namex-0.0.8-py3-none-any.whl (5.8 kB)\n",
      "Collecting optree\n",
      "  Downloading optree-0.14.1-cp311-cp311-win_amd64.whl (305 kB)\n",
      "     ------------------------------------- 305.8/305.8 kB 18.5 MB/s eta 0:00:00\n",
      "Collecting charset-normalizer<4,>=2\n",
      "  Downloading charset_normalizer-3.4.1-cp311-cp311-win_amd64.whl (102 kB)\n",
      "     -------------------------------------- 102.4/102.4 kB 6.1 MB/s eta 0:00:00\n",
      "Collecting idna<4,>=2.5\n",
      "  Downloading idna-3.10-py3-none-any.whl (70 kB)\n",
      "     ---------------------------------------- 70.4/70.4 kB 3.8 MB/s eta 0:00:00\n",
      "Collecting urllib3<3,>=1.21.1\n",
      "  Downloading urllib3-2.3.0-py3-none-any.whl (128 kB)\n",
      "     -------------------------------------- 128.4/128.4 kB 3.8 MB/s eta 0:00:00\n",
      "Collecting certifi>=2017.4.17\n",
      "  Downloading certifi-2025.1.31-py3-none-any.whl (166 kB)\n",
      "     ---------------------------------------- 166.4/166.4 kB ? eta 0:00:00\n",
      "Collecting markdown>=2.6.8\n",
      "  Downloading Markdown-3.7-py3-none-any.whl (106 kB)\n",
      "     -------------------------------------- 106.3/106.3 kB 6.4 MB/s eta 0:00:00\n",
      "Collecting tensorboard-data-server<0.8.0,>=0.7.0\n",
      "  Downloading tensorboard_data_server-0.7.2-py3-none-any.whl (2.4 kB)\n",
      "Collecting werkzeug>=1.0.1\n",
      "  Downloading werkzeug-3.1.3-py3-none-any.whl (224 kB)\n",
      "     ---------------------------------------- 224.5/224.5 kB ? eta 0:00:00\n",
      "Collecting MarkupSafe>=2.1.1\n",
      "  Downloading MarkupSafe-3.0.2-cp311-cp311-win_amd64.whl (15 kB)\n",
      "Collecting markdown-it-py>=2.2.0\n",
      "  Downloading markdown_it_py-3.0.0-py3-none-any.whl (87 kB)\n",
      "     ---------------------------------------- 87.5/87.5 kB ? eta 0:00:00\n",
      "Requirement already satisfied: pygments<3.0.0,>=2.13.0 in c:\\users\\juamo\\desktop\\pid_project\\venv\\lib\\site-packages (from rich->keras>=3.5.0->tensorflow) (2.19.1)\n",
      "Collecting mdurl~=0.1\n",
      "  Downloading mdurl-0.1.2-py3-none-any.whl (10.0 kB)\n",
      "Installing collected packages: pytz, namex, libclang, flatbuffers, wrapt, wheel, urllib3, tzdata, threadpoolctl, termcolor, tensorflow-io-gcs-filesystem, tensorboard-data-server, pyparsing, protobuf, pillow, optree, opt-einsum, numpy, mdurl, MarkupSafe, markdown, kiwisolver, joblib, idna, grpcio, google-pasta, gast, fonttools, cycler, charset-normalizer, certifi, absl-py, werkzeug, scipy, requests, pandas, opencv-python, ml-dtypes, markdown-it-py, h5py, contourpy, astunparse, tensorboard, scikit-learn, rich, matplotlib, keras, tensorflow\n",
      "Successfully installed MarkupSafe-3.0.2 absl-py-2.2.1 astunparse-1.6.3 certifi-2025.1.31 charset-normalizer-3.4.1 contourpy-1.3.1 cycler-0.12.1 flatbuffers-25.2.10 fonttools-4.56.0 gast-0.6.0 google-pasta-0.2.0 grpcio-1.71.0 h5py-3.13.0 idna-3.10 joblib-1.4.2 keras-3.9.0 kiwisolver-1.4.8 libclang-18.1.1 markdown-3.7 markdown-it-py-3.0.0 matplotlib-3.10.1 mdurl-0.1.2 ml-dtypes-0.5.1 namex-0.0.8 numpy-2.1.3 opencv-python-4.11.0.86 opt-einsum-3.4.0 optree-0.14.1 pandas-2.2.3 pillow-11.1.0 protobuf-5.29.4 pyparsing-3.2.3 pytz-2025.2 requests-2.32.3 rich-13.9.4 scikit-learn-1.6.1 scipy-1.15.2 tensorboard-2.19.0 tensorboard-data-server-0.7.2 tensorflow-2.19.0 tensorflow-io-gcs-filesystem-0.31.0 termcolor-2.5.0 threadpoolctl-3.6.0 tzdata-2025.2 urllib3-2.3.0 werkzeug-3.1.3 wheel-0.45.1 wrapt-1.17.2\n",
      "Note: you may need to restart the kernel to use updated packages.\n"
     ]
    },
    {
     "name": "stderr",
     "output_type": "stream",
     "text": [
      "\n",
      "[notice] A new release of pip available: 22.3 -> 25.0.1\n",
      "[notice] To update, run: python.exe -m pip install --upgrade pip\n"
     ]
    }
   ],
   "source": [
    "%pip install numpy opencv-python scikit-learn pandas matplotlib tensorflow"
   ]
  },
  {
   "cell_type": "code",
   "execution_count": 2,
   "metadata": {
    "executionInfo": {
     "elapsed": 4794,
     "status": "ok",
     "timestamp": 1634454562134,
     "user": {
      "displayName": "Kharisma Muzaki Ghufron",
      "photoUrl": "https://lh3.googleusercontent.com/a/default-user=s64",
      "userId": "14730718725881384856"
     },
     "user_tz": -420
    },
    "id": "SowRlZK22ryn"
   },
   "outputs": [],
   "source": [
    "import numpy as np\n",
    "import json\n",
    "import os\n",
    "import cv2\n",
    "import copy\n",
    "import sklearn.metrics as metric\n",
    "import pandas as pd\n",
    "\n",
    "from tensorflow.keras import layers\n",
    "from tensorflow.keras.models import Model\n",
    "from tensorflow.keras import backend as K\n",
    "from tensorflow.keras.optimizers import Adam\n",
    "from tensorflow.keras.callbacks import ModelCheckpoint \n",
    "\n",
    "import matplotlib.pyplot as plt\n",
    "import matplotlib"
   ]
  },
  {
   "cell_type": "markdown",
   "metadata": {
    "id": "WUvGKck53sP4"
   },
   "source": [
    "# Training Stage"
   ]
  },
  {
   "cell_type": "markdown",
   "metadata": {
    "id": "7k9p8BZ6z3yW"
   },
   "source": [
    "## Core Model AutoEncoder"
   ]
  },
  {
   "cell_type": "code",
   "execution_count": 3,
   "metadata": {
    "executionInfo": {
     "elapsed": 4,
     "status": "ok",
     "timestamp": 1634454562135,
     "user": {
      "displayName": "Kharisma Muzaki Ghufron",
      "photoUrl": "https://lh3.googleusercontent.com/a/default-user=s64",
      "userId": "14730718725881384856"
     },
     "user_tz": -420
    },
    "id": "ZnX3Fr56z91G"
   },
   "outputs": [],
   "source": [
    "class ConvAutoEncoder:\n",
    "    \"\"\"\n",
    "    Core Convolutional AutoEncoder\n",
    "    This class included with build method you can adjust of width height and depth of image\n",
    "    default filters 128, and latent dimension 48\n",
    "    \"\"\"\n",
    "    @staticmethod\n",
    "    def build(width, height, depth, filters=(128,), latent_dim=48):\n",
    "        input_shape = (height, width, depth)\n",
    "        channel_dim = -1\n",
    "        inputs = layers.Input(shape=input_shape)\n",
    "        x = inputs\n",
    "        # Encoder layer\n",
    "        for f in filters:\n",
    "            x = layers.Conv2D(f, (3, 3), strides=2, padding='same')(x)\n",
    "            x = layers.LeakyReLU(negative_slope=0.2)(x)\n",
    "            x = layers.BatchNormalization(axis=channel_dim, name='enc_filter_' + str(f))(x)\n",
    "        volume_size = K.int_shape(x)\n",
    "        x = layers.Flatten()(x)\n",
    "        # Latent layer\n",
    "        latent = layers.Dense(latent_dim, name=\"encoded\")(x)\n",
    "        # Decoder layer\n",
    "        x = layers.Dense(np.prod(volume_size[1:]))(latent)\n",
    "        x = layers.Reshape((volume_size[1], volume_size[2], volume_size[3]))(x)\n",
    "        # Reverse on decoder\n",
    "        for f in filters[::-1]:\n",
    "            x = layers.Conv2DTranspose(f, (3, 3), strides=2, padding='same')(x)\n",
    "            x = layers.LeakyReLU(negative_slope=0.2)(x)\n",
    "            x = layers.BatchNormalization(axis=channel_dim, name='dec_filter_' + str(f))(x)\n",
    "        x = layers.Conv2DTranspose(depth, (3, 3), padding=\"same\")(x)\n",
    "        outputs = layers.Activation(\"sigmoid\", name=\"decoded\")(x)\n",
    "        auto_encoder = Model(inputs, outputs, name=\"auto_encoder\")\n",
    "        return auto_encoder"
   ]
  },
  {
   "cell_type": "markdown",
   "metadata": {
    "id": "4ObFS31Z1VzF"
   },
   "source": []
  },
  {
   "cell_type": "markdown",
   "metadata": {
    "id": "iOFbuzHJ0mf2"
   },
   "source": [
    "## Definition of hyperparameter\n"
   ]
  },
  {
   "cell_type": "code",
   "execution_count": 4,
   "metadata": {
    "executionInfo": {
     "elapsed": 3,
     "status": "ok",
     "timestamp": 1634454562135,
     "user": {
      "displayName": "Kharisma Muzaki Ghufron",
      "photoUrl": "https://lh3.googleusercontent.com/a/default-user=s64",
      "userId": "14730718725881384856"
     },
     "user_tz": -420
    },
    "id": "C8IXMoVG0xB9"
   },
   "outputs": [],
   "source": [
    "EPOCHS = 20\n",
    "INIT_LR = 1e-3\n",
    "BS = 16\n",
    "IMAGE_SIZE = (256, 256)\n",
    "checkpoint_path = \"training_1_40_binary_cp/cp.ckpt\"\n",
    "feature_path = \"training_1_40_binary_feature.json\"\n",
    "model_path = \"training_1_40_binary_model.h5\"\n",
    "history_path = \"training_1_40_binary_history.json\"\n",
    "magnification = \"40X\"\n",
    "base_dataset = \"binary_scenario\"\n",
    "class_dir = ['benign', 'malignant']"
   ]
  },
  {
   "cell_type": "markdown",
   "metadata": {
    "id": "uT5Eja5J0_uW"
   },
   "source": [
    "## Load Image\n",
    "\n",
    "\n",
    "```\n",
    "# Load all available file first then process to load images into variable\n",
    "```\n",
    "\n"
   ]
  },
  {
   "cell_type": "code",
   "execution_count": 14,
   "metadata": {
    "colab": {
     "base_uri": "https://localhost:8080/"
    },
    "executionInfo": {
     "elapsed": 1362122,
     "status": "ok",
     "timestamp": 1634455924254,
     "user": {
      "displayName": "Kharisma Muzaki Ghufron",
      "photoUrl": "https://lh3.googleusercontent.com/a/default-user=s64",
      "userId": "14730718725881384856"
     },
     "user_tz": -420
    },
    "id": "AOufijR61LoF",
    "outputId": "a39327c9-9e4e-4263-a420-7278fb7918c5"
   },
   "outputs": [
    {
     "name": "stdout",
     "output_type": "stream",
     "text": [
      "[INFO] indexing file images BreaKHis dataset...\n",
      "[INFO] load images BreaKHis dataset...\n",
      "['binary_scenario\\\\train\\\\40X\\\\benign\\\\SOB_B_A-14-22549AB-40-002.png', 'binary_scenario\\\\train\\\\40X\\\\benign\\\\SOB_B_A-14-22549AB-40-003.png', 'binary_scenario\\\\train\\\\40X\\\\benign\\\\SOB_B_A-14-22549AB-40-004.png', 'binary_scenario\\\\train\\\\40X\\\\benign\\\\SOB_B_A-14-22549AB-40-005.png', 'binary_scenario\\\\train\\\\40X\\\\benign\\\\SOB_B_A-14-22549AB-40-006.png', 'binary_scenario\\\\train\\\\40X\\\\benign\\\\SOB_B_A-14-22549AB-40-008.png', 'binary_scenario\\\\train\\\\40X\\\\benign\\\\SOB_B_A-14-22549AB-40-009.png', 'binary_scenario\\\\train\\\\40X\\\\benign\\\\SOB_B_A-14-22549AB-40-011.png', 'binary_scenario\\\\train\\\\40X\\\\benign\\\\SOB_B_A-14-22549AB-40-012.png', 'binary_scenario\\\\train\\\\40X\\\\benign\\\\SOB_B_A-14-22549AB-40-013.png', 'binary_scenario\\\\train\\\\40X\\\\benign\\\\SOB_B_A-14-22549AB-40-014.png', 'binary_scenario\\\\train\\\\40X\\\\benign\\\\SOB_B_A-14-22549AB-40-015.png', 'binary_scenario\\\\train\\\\40X\\\\benign\\\\SOB_B_A-14-22549AB-40-016.png', 'binary_scenario\\\\train\\\\40X\\\\benign\\\\SOB_B_A-14-22549AB-40-017.png', 'binary_scenario\\\\train\\\\40X\\\\benign\\\\SOB_B_A-14-22549AB-40-019.png', 'binary_scenario\\\\train\\\\40X\\\\benign\\\\SOB_B_A-14-22549AB-40-020.png', 'binary_scenario\\\\train\\\\40X\\\\benign\\\\SOB_B_A-14-22549AB-40-023.png', 'binary_scenario\\\\train\\\\40X\\\\benign\\\\SOB_B_A-14-22549AB-40-024.png', 'binary_scenario\\\\train\\\\40X\\\\benign\\\\SOB_B_A-14-22549AB-40-025.png', 'binary_scenario\\\\train\\\\40X\\\\benign\\\\SOB_B_A-14-22549AB-40-026.png', 'binary_scenario\\\\train\\\\40X\\\\benign\\\\SOB_B_A-14-22549AB-40-028.png', 'binary_scenario\\\\train\\\\40X\\\\benign\\\\SOB_B_A-14-22549AB-40-029.png', 'binary_scenario\\\\train\\\\40X\\\\benign\\\\SOB_B_A-14-22549CD-40-001.png', 'binary_scenario\\\\train\\\\40X\\\\benign\\\\SOB_B_A-14-22549CD-40-002.png', 'binary_scenario\\\\train\\\\40X\\\\benign\\\\SOB_B_A-14-22549CD-40-003.png', 'binary_scenario\\\\train\\\\40X\\\\benign\\\\SOB_B_A-14-22549CD-40-004.png', 'binary_scenario\\\\train\\\\40X\\\\benign\\\\SOB_B_A-14-22549CD-40-005.png', 'binary_scenario\\\\train\\\\40X\\\\benign\\\\SOB_B_A-14-22549CD-40-006.png', 'binary_scenario\\\\train\\\\40X\\\\benign\\\\SOB_B_A-14-22549CD-40-007.png', 'binary_scenario\\\\train\\\\40X\\\\benign\\\\SOB_B_A-14-22549CD-40-008.png', 'binary_scenario\\\\train\\\\40X\\\\benign\\\\SOB_B_A-14-22549CD-40-009.png', 'binary_scenario\\\\train\\\\40X\\\\benign\\\\SOB_B_A-14-22549CD-40-010.png', 'binary_scenario\\\\train\\\\40X\\\\benign\\\\SOB_B_A-14-22549CD-40-012.png', 'binary_scenario\\\\train\\\\40X\\\\benign\\\\SOB_B_A-14-22549CD-40-013.png', 'binary_scenario\\\\train\\\\40X\\\\benign\\\\SOB_B_A-14-22549CD-40-014.png', 'binary_scenario\\\\train\\\\40X\\\\benign\\\\SOB_B_A-14-22549CD-40-016.png', 'binary_scenario\\\\train\\\\40X\\\\benign\\\\SOB_B_A-14-22549CD-40-017.png', 'binary_scenario\\\\train\\\\40X\\\\benign\\\\SOB_B_A-14-22549CD-40-018.png', 'binary_scenario\\\\train\\\\40X\\\\benign\\\\SOB_B_A-14-22549CD-40-019.png', 'binary_scenario\\\\train\\\\40X\\\\benign\\\\SOB_B_A-14-22549CD-40-021.png', 'binary_scenario\\\\train\\\\40X\\\\benign\\\\SOB_B_A-14-22549CD-40-022.png', 'binary_scenario\\\\train\\\\40X\\\\benign\\\\SOB_B_A-14-22549CD-40-023.png', 'binary_scenario\\\\train\\\\40X\\\\benign\\\\SOB_B_A-14-22549CD-40-024.png', 'binary_scenario\\\\train\\\\40X\\\\benign\\\\SOB_B_A-14-22549CD-40-025.png', 'binary_scenario\\\\train\\\\40X\\\\benign\\\\SOB_B_A-14-22549CD-40-026.png', 'binary_scenario\\\\train\\\\40X\\\\benign\\\\SOB_B_A-14-22549CD-40-028.png', 'binary_scenario\\\\train\\\\40X\\\\benign\\\\SOB_B_A-14-22549CD-40-029.png', 'binary_scenario\\\\train\\\\40X\\\\benign\\\\SOB_B_A-14-22549CD-40-030.png', 'binary_scenario\\\\train\\\\40X\\\\benign\\\\SOB_B_A-14-22549CD-40-032.png', 'binary_scenario\\\\train\\\\40X\\\\benign\\\\SOB_B_A-14-22549CD-40-033.png', 'binary_scenario\\\\train\\\\40X\\\\benign\\\\SOB_B_A-14-22549CD-40-034.png', 'binary_scenario\\\\train\\\\40X\\\\benign\\\\SOB_B_A-14-22549CD-40-035.png', 'binary_scenario\\\\train\\\\40X\\\\benign\\\\SOB_B_A-14-22549G-40-001.png', 'binary_scenario\\\\train\\\\40X\\\\benign\\\\SOB_B_A-14-22549G-40-002.png', 'binary_scenario\\\\train\\\\40X\\\\benign\\\\SOB_B_A-14-22549G-40-003.png', 'binary_scenario\\\\train\\\\40X\\\\benign\\\\SOB_B_A-14-22549G-40-004.png', 'binary_scenario\\\\train\\\\40X\\\\benign\\\\SOB_B_A-14-22549G-40-005.png', 'binary_scenario\\\\train\\\\40X\\\\benign\\\\SOB_B_A-14-22549G-40-006.png', 'binary_scenario\\\\train\\\\40X\\\\benign\\\\SOB_B_A-14-22549G-40-007.png', 'binary_scenario\\\\train\\\\40X\\\\benign\\\\SOB_B_A-14-22549G-40-008.png', 'binary_scenario\\\\train\\\\40X\\\\benign\\\\SOB_B_A-14-22549G-40-009.png', 'binary_scenario\\\\train\\\\40X\\\\benign\\\\SOB_B_A-14-22549G-40-010.png', 'binary_scenario\\\\train\\\\40X\\\\benign\\\\SOB_B_A-14-22549G-40-011.png', 'binary_scenario\\\\train\\\\40X\\\\benign\\\\SOB_B_A-14-22549G-40-012.png', 'binary_scenario\\\\train\\\\40X\\\\benign\\\\SOB_B_A-14-22549G-40-013.png', 'binary_scenario\\\\train\\\\40X\\\\benign\\\\SOB_B_A-14-22549G-40-014.png', 'binary_scenario\\\\train\\\\40X\\\\benign\\\\SOB_B_A-14-22549G-40-015.png', 'binary_scenario\\\\train\\\\40X\\\\benign\\\\SOB_B_A-14-22549G-40-016.png', 'binary_scenario\\\\train\\\\40X\\\\benign\\\\SOB_B_A-14-22549G-40-017.png', 'binary_scenario\\\\train\\\\40X\\\\benign\\\\SOB_B_A-14-22549G-40-018.png', 'binary_scenario\\\\train\\\\40X\\\\benign\\\\SOB_B_A-14-22549G-40-019.png', 'binary_scenario\\\\train\\\\40X\\\\benign\\\\SOB_B_A-14-22549G-40-020.png', 'binary_scenario\\\\train\\\\40X\\\\benign\\\\SOB_B_A-14-22549G-40-021.png', 'binary_scenario\\\\train\\\\40X\\\\benign\\\\SOB_B_A-14-22549G-40-022.png', 'binary_scenario\\\\train\\\\40X\\\\benign\\\\SOB_B_A-14-22549G-40-023.png', 'binary_scenario\\\\train\\\\40X\\\\benign\\\\SOB_B_A-14-22549G-40-024.png', 'binary_scenario\\\\train\\\\40X\\\\benign\\\\SOB_B_A-14-22549G-40-025.png', 'binary_scenario\\\\train\\\\40X\\\\benign\\\\SOB_B_A-14-22549G-40-026.png', 'binary_scenario\\\\train\\\\40X\\\\benign\\\\SOB_B_A-14-22549G-40-027.png', 'binary_scenario\\\\train\\\\40X\\\\benign\\\\SOB_B_A-14-22549G-40-028.png', 'binary_scenario\\\\train\\\\40X\\\\benign\\\\SOB_B_A-14-22549G-40-029.png', 'binary_scenario\\\\train\\\\40X\\\\benign\\\\SOB_B_A-14-22549G-40-030.png', 'binary_scenario\\\\train\\\\40X\\\\benign\\\\SOB_B_A-14-22549G-40-031.png', 'binary_scenario\\\\train\\\\40X\\\\benign\\\\SOB_B_A-14-22549G-40-032.png', 'binary_scenario\\\\train\\\\40X\\\\benign\\\\SOB_B_A-14-22549G-40-033.png', 'binary_scenario\\\\train\\\\40X\\\\benign\\\\SOB_B_A-14-22549G-40-034.png', 'binary_scenario\\\\train\\\\40X\\\\benign\\\\SOB_B_A-14-29960CD-40-002.png', 'binary_scenario\\\\train\\\\40X\\\\benign\\\\SOB_B_A-14-29960CD-40-003.png', 'binary_scenario\\\\train\\\\40X\\\\benign\\\\SOB_B_A-14-29960CD-40-004.png', 'binary_scenario\\\\train\\\\40X\\\\benign\\\\SOB_B_A-14-29960CD-40-005.png', 'binary_scenario\\\\train\\\\40X\\\\benign\\\\SOB_B_A-14-29960CD-40-008.png', 'binary_scenario\\\\train\\\\40X\\\\benign\\\\SOB_B_A-14-29960CD-40-009.png', 'binary_scenario\\\\train\\\\40X\\\\benign\\\\SOB_B_A-14-29960CD-40-010.png', 'binary_scenario\\\\train\\\\40X\\\\benign\\\\SOB_B_A-14-29960CD-40-011.png', 'binary_scenario\\\\train\\\\40X\\\\benign\\\\SOB_B_A-14-29960CD-40-012.png', 'binary_scenario\\\\train\\\\40X\\\\benign\\\\SOB_B_A-14-29960CD-40-013.png', 'binary_scenario\\\\train\\\\40X\\\\benign\\\\SOB_B_A-14-29960CD-40-014.png', 'binary_scenario\\\\train\\\\40X\\\\benign\\\\SOB_B_A-14-29960CD-40-015.png', 'binary_scenario\\\\train\\\\40X\\\\benign\\\\SOB_B_F-14-14134-40-001.png', 'binary_scenario\\\\train\\\\40X\\\\benign\\\\SOB_B_F-14-14134-40-004.png', 'binary_scenario\\\\train\\\\40X\\\\benign\\\\SOB_B_F-14-14134-40-005.png', 'binary_scenario\\\\train\\\\40X\\\\benign\\\\SOB_B_F-14-14134-40-007.png', 'binary_scenario\\\\train\\\\40X\\\\benign\\\\SOB_B_F-14-14134-40-008.png', 'binary_scenario\\\\train\\\\40X\\\\benign\\\\SOB_B_F-14-14134-40-009.png', 'binary_scenario\\\\train\\\\40X\\\\benign\\\\SOB_B_F-14-14134-40-011.png', 'binary_scenario\\\\train\\\\40X\\\\benign\\\\SOB_B_F-14-14134-40-012.png', 'binary_scenario\\\\train\\\\40X\\\\benign\\\\SOB_B_F-14-14134-40-013.png', 'binary_scenario\\\\train\\\\40X\\\\benign\\\\SOB_B_F-14-14134-40-014.png', 'binary_scenario\\\\train\\\\40X\\\\benign\\\\SOB_B_F-14-14134-40-015.png', 'binary_scenario\\\\train\\\\40X\\\\benign\\\\SOB_B_F-14-14134-40-016.png', 'binary_scenario\\\\train\\\\40X\\\\benign\\\\SOB_B_F-14-14134-40-018.png', 'binary_scenario\\\\train\\\\40X\\\\benign\\\\SOB_B_F-14-14134-40-019.png', 'binary_scenario\\\\train\\\\40X\\\\benign\\\\SOB_B_F-14-14134-40-020.png', 'binary_scenario\\\\train\\\\40X\\\\benign\\\\SOB_B_F-14-14134-40-021.png', 'binary_scenario\\\\train\\\\40X\\\\benign\\\\SOB_B_F-14-14134-40-022.png', 'binary_scenario\\\\train\\\\40X\\\\benign\\\\SOB_B_F-14-14134-40-023.png', 'binary_scenario\\\\train\\\\40X\\\\benign\\\\SOB_B_F-14-14134-40-024.png', 'binary_scenario\\\\train\\\\40X\\\\benign\\\\SOB_B_F-14-14134-40-025.png', 'binary_scenario\\\\train\\\\40X\\\\benign\\\\SOB_B_F-14-14134-40-026.png', 'binary_scenario\\\\train\\\\40X\\\\benign\\\\SOB_B_F-14-14134-40-027.png', 'binary_scenario\\\\train\\\\40X\\\\benign\\\\SOB_B_F-14-14134-40-028.png', 'binary_scenario\\\\train\\\\40X\\\\benign\\\\SOB_B_F-14-14134-40-029.png', 'binary_scenario\\\\train\\\\40X\\\\benign\\\\SOB_B_F-14-14134-40-030.png', 'binary_scenario\\\\train\\\\40X\\\\benign\\\\SOB_B_F-14-14134-40-031.png', 'binary_scenario\\\\train\\\\40X\\\\benign\\\\SOB_B_F-14-14134-40-032.png', 'binary_scenario\\\\train\\\\40X\\\\benign\\\\SOB_B_F-14-14134-40-034.png', 'binary_scenario\\\\train\\\\40X\\\\benign\\\\SOB_B_F-14-14134-40-035.png', 'binary_scenario\\\\train\\\\40X\\\\benign\\\\SOB_B_F-14-14134E-40-002.png', 'binary_scenario\\\\train\\\\40X\\\\benign\\\\SOB_B_F-14-14134E-40-004.png', 'binary_scenario\\\\train\\\\40X\\\\benign\\\\SOB_B_F-14-14134E-40-005.png', 'binary_scenario\\\\train\\\\40X\\\\benign\\\\SOB_B_F-14-14134E-40-006.png', 'binary_scenario\\\\train\\\\40X\\\\benign\\\\SOB_B_F-14-14134E-40-007.png', 'binary_scenario\\\\train\\\\40X\\\\benign\\\\SOB_B_F-14-14134E-40-008.png', 'binary_scenario\\\\train\\\\40X\\\\benign\\\\SOB_B_F-14-14134E-40-009.png', 'binary_scenario\\\\train\\\\40X\\\\benign\\\\SOB_B_F-14-14134E-40-010.png', 'binary_scenario\\\\train\\\\40X\\\\benign\\\\SOB_B_F-14-14134E-40-011.png', 'binary_scenario\\\\train\\\\40X\\\\benign\\\\SOB_B_F-14-14134E-40-012.png', 'binary_scenario\\\\train\\\\40X\\\\benign\\\\SOB_B_F-14-14134E-40-013.png', 'binary_scenario\\\\train\\\\40X\\\\benign\\\\SOB_B_F-14-14134E-40-014.png', 'binary_scenario\\\\train\\\\40X\\\\benign\\\\SOB_B_F-14-14134E-40-015.png', 'binary_scenario\\\\train\\\\40X\\\\benign\\\\SOB_B_F-14-14134E-40-016.png', 'binary_scenario\\\\train\\\\40X\\\\benign\\\\SOB_B_F-14-14134E-40-017.png', 'binary_scenario\\\\train\\\\40X\\\\benign\\\\SOB_B_F-14-14134E-40-018.png', 'binary_scenario\\\\train\\\\40X\\\\benign\\\\SOB_B_F-14-14134E-40-019.png', 'binary_scenario\\\\train\\\\40X\\\\benign\\\\SOB_B_F-14-14134E-40-020.png', 'binary_scenario\\\\train\\\\40X\\\\benign\\\\SOB_B_F-14-14134E-40-021.png', 'binary_scenario\\\\train\\\\40X\\\\benign\\\\SOB_B_F-14-14134E-40-022.png', 'binary_scenario\\\\train\\\\40X\\\\benign\\\\SOB_B_F-14-14134E-40-024.png', 'binary_scenario\\\\train\\\\40X\\\\benign\\\\SOB_B_F-14-14134E-40-025.png', 'binary_scenario\\\\train\\\\40X\\\\benign\\\\SOB_B_F-14-14134E-40-026.png', 'binary_scenario\\\\train\\\\40X\\\\benign\\\\SOB_B_F-14-14134E-40-027.png', 'binary_scenario\\\\train\\\\40X\\\\benign\\\\SOB_B_F-14-14134E-40-029.png', 'binary_scenario\\\\train\\\\40X\\\\benign\\\\SOB_B_F-14-21998CD-40-001.png', 'binary_scenario\\\\train\\\\40X\\\\benign\\\\SOB_B_F-14-21998CD-40-002.png', 'binary_scenario\\\\train\\\\40X\\\\benign\\\\SOB_B_F-14-21998CD-40-003.png', 'binary_scenario\\\\train\\\\40X\\\\benign\\\\SOB_B_F-14-21998CD-40-006.png', 'binary_scenario\\\\train\\\\40X\\\\benign\\\\SOB_B_F-14-21998CD-40-009.png', 'binary_scenario\\\\train\\\\40X\\\\benign\\\\SOB_B_F-14-21998CD-40-011.png', 'binary_scenario\\\\train\\\\40X\\\\benign\\\\SOB_B_F-14-21998CD-40-012.png', 'binary_scenario\\\\train\\\\40X\\\\benign\\\\SOB_B_F-14-21998CD-40-013.png', 'binary_scenario\\\\train\\\\40X\\\\benign\\\\SOB_B_F-14-21998CD-40-014.png', 'binary_scenario\\\\train\\\\40X\\\\benign\\\\SOB_B_F-14-21998CD-40-018.png', 'binary_scenario\\\\train\\\\40X\\\\benign\\\\SOB_B_F-14-21998CD-40-020.png', 'binary_scenario\\\\train\\\\40X\\\\benign\\\\SOB_B_F-14-21998CD-40-022.png', 'binary_scenario\\\\train\\\\40X\\\\benign\\\\SOB_B_F-14-21998CD-40-023.png', 'binary_scenario\\\\train\\\\40X\\\\benign\\\\SOB_B_F-14-21998CD-40-024.png', 'binary_scenario\\\\train\\\\40X\\\\benign\\\\SOB_B_F-14-21998CD-40-025.png', 'binary_scenario\\\\train\\\\40X\\\\benign\\\\SOB_B_F-14-21998CD-40-026.png', 'binary_scenario\\\\train\\\\40X\\\\benign\\\\SOB_B_F-14-21998CD-40-027.png', 'binary_scenario\\\\train\\\\40X\\\\benign\\\\SOB_B_F-14-21998CD-40-028.png', 'binary_scenario\\\\train\\\\40X\\\\benign\\\\SOB_B_F-14-21998CD-40-029.png', 'binary_scenario\\\\train\\\\40X\\\\benign\\\\SOB_B_F-14-21998CD-40-030.png', 'binary_scenario\\\\train\\\\40X\\\\benign\\\\SOB_B_F-14-21998CD-40-031.png', 'binary_scenario\\\\train\\\\40X\\\\benign\\\\SOB_B_F-14-21998CD-40-033.png', 'binary_scenario\\\\train\\\\40X\\\\benign\\\\SOB_B_F-14-21998CD-40-034.png', 'binary_scenario\\\\train\\\\40X\\\\benign\\\\SOB_B_F-14-21998CD-40-035.png', 'binary_scenario\\\\train\\\\40X\\\\benign\\\\SOB_B_F-14-21998CD-40-036.png', 'binary_scenario\\\\train\\\\40X\\\\benign\\\\SOB_B_F-14-21998EF-40-001.png', 'binary_scenario\\\\train\\\\40X\\\\benign\\\\SOB_B_F-14-21998EF-40-003.png', 'binary_scenario\\\\train\\\\40X\\\\benign\\\\SOB_B_F-14-21998EF-40-004.png', 'binary_scenario\\\\train\\\\40X\\\\benign\\\\SOB_B_F-14-21998EF-40-005.png', 'binary_scenario\\\\train\\\\40X\\\\benign\\\\SOB_B_F-14-21998EF-40-006.png', 'binary_scenario\\\\train\\\\40X\\\\benign\\\\SOB_B_F-14-21998EF-40-007.png', 'binary_scenario\\\\train\\\\40X\\\\benign\\\\SOB_B_F-14-21998EF-40-008.png', 'binary_scenario\\\\train\\\\40X\\\\benign\\\\SOB_B_F-14-21998EF-40-009.png', 'binary_scenario\\\\train\\\\40X\\\\benign\\\\SOB_B_F-14-21998EF-40-010.png', 'binary_scenario\\\\train\\\\40X\\\\benign\\\\SOB_B_F-14-21998EF-40-012.png', 'binary_scenario\\\\train\\\\40X\\\\benign\\\\SOB_B_F-14-21998EF-40-013.png', 'binary_scenario\\\\train\\\\40X\\\\benign\\\\SOB_B_F-14-21998EF-40-014.png', 'binary_scenario\\\\train\\\\40X\\\\benign\\\\SOB_B_F-14-21998EF-40-015.png', 'binary_scenario\\\\train\\\\40X\\\\benign\\\\SOB_B_F-14-21998EF-40-016.png', 'binary_scenario\\\\train\\\\40X\\\\benign\\\\SOB_B_F-14-21998EF-40-017.png', 'binary_scenario\\\\train\\\\40X\\\\benign\\\\SOB_B_F-14-21998EF-40-018.png', 'binary_scenario\\\\train\\\\40X\\\\benign\\\\SOB_B_F-14-21998EF-40-020.png', 'binary_scenario\\\\train\\\\40X\\\\benign\\\\SOB_B_F-14-21998EF-40-021.png', 'binary_scenario\\\\train\\\\40X\\\\benign\\\\SOB_B_F-14-21998EF-40-023.png', 'binary_scenario\\\\train\\\\40X\\\\benign\\\\SOB_B_F-14-21998EF-40-024.png', 'binary_scenario\\\\train\\\\40X\\\\benign\\\\SOB_B_F-14-21998EF-40-026.png', 'binary_scenario\\\\train\\\\40X\\\\benign\\\\SOB_B_F-14-21998EF-40-027.png', 'binary_scenario\\\\train\\\\40X\\\\benign\\\\SOB_B_F-14-21998EF-40-028.png', 'binary_scenario\\\\train\\\\40X\\\\benign\\\\SOB_B_F-14-21998EF-40-029.png', 'binary_scenario\\\\train\\\\40X\\\\benign\\\\SOB_B_F-14-21998EF-40-030.png', 'binary_scenario\\\\train\\\\40X\\\\benign\\\\SOB_B_F-14-21998EF-40-031.png', 'binary_scenario\\\\train\\\\40X\\\\benign\\\\SOB_B_F-14-23060AB-40-003.png', 'binary_scenario\\\\train\\\\40X\\\\benign\\\\SOB_B_F-14-23060AB-40-004.png', 'binary_scenario\\\\train\\\\40X\\\\benign\\\\SOB_B_F-14-23060AB-40-005.png', 'binary_scenario\\\\train\\\\40X\\\\benign\\\\SOB_B_F-14-23060AB-40-006.png', 'binary_scenario\\\\train\\\\40X\\\\benign\\\\SOB_B_F-14-23060AB-40-008.png', 'binary_scenario\\\\train\\\\40X\\\\benign\\\\SOB_B_F-14-23060AB-40-009.png', 'binary_scenario\\\\train\\\\40X\\\\benign\\\\SOB_B_F-14-23060AB-40-011.png', 'binary_scenario\\\\train\\\\40X\\\\benign\\\\SOB_B_F-14-23060AB-40-013.png', 'binary_scenario\\\\train\\\\40X\\\\benign\\\\SOB_B_F-14-23060AB-40-014.png', 'binary_scenario\\\\train\\\\40X\\\\benign\\\\SOB_B_F-14-23060AB-40-015.png', 'binary_scenario\\\\train\\\\40X\\\\benign\\\\SOB_B_F-14-23060AB-40-016.png', 'binary_scenario\\\\train\\\\40X\\\\benign\\\\SOB_B_F-14-23060AB-40-017.png', 'binary_scenario\\\\train\\\\40X\\\\benign\\\\SOB_B_F-14-23060AB-40-018.png', 'binary_scenario\\\\train\\\\40X\\\\benign\\\\SOB_B_F-14-23060AB-40-019.png', 'binary_scenario\\\\train\\\\40X\\\\benign\\\\SOB_B_F-14-23060AB-40-020.png', 'binary_scenario\\\\train\\\\40X\\\\benign\\\\SOB_B_F-14-23060AB-40-021.png', 'binary_scenario\\\\train\\\\40X\\\\benign\\\\SOB_B_F-14-23060AB-40-022.png', 'binary_scenario\\\\train\\\\40X\\\\benign\\\\SOB_B_F-14-23060AB-40-023.png', 'binary_scenario\\\\train\\\\40X\\\\benign\\\\SOB_B_F-14-23060CD-40-001.png', 'binary_scenario\\\\train\\\\40X\\\\benign\\\\SOB_B_F-14-23060CD-40-002.png', 'binary_scenario\\\\train\\\\40X\\\\benign\\\\SOB_B_F-14-23060CD-40-003.png', 'binary_scenario\\\\train\\\\40X\\\\benign\\\\SOB_B_F-14-23060CD-40-004.png', 'binary_scenario\\\\train\\\\40X\\\\benign\\\\SOB_B_F-14-23060CD-40-005.png', 'binary_scenario\\\\train\\\\40X\\\\benign\\\\SOB_B_F-14-23060CD-40-006.png', 'binary_scenario\\\\train\\\\40X\\\\benign\\\\SOB_B_F-14-23060CD-40-007.png', 'binary_scenario\\\\train\\\\40X\\\\benign\\\\SOB_B_F-14-23060CD-40-008.png', 'binary_scenario\\\\train\\\\40X\\\\benign\\\\SOB_B_F-14-23060CD-40-009.png', 'binary_scenario\\\\train\\\\40X\\\\benign\\\\SOB_B_F-14-23060CD-40-010.png', 'binary_scenario\\\\train\\\\40X\\\\benign\\\\SOB_B_F-14-23060CD-40-011.png', 'binary_scenario\\\\train\\\\40X\\\\benign\\\\SOB_B_F-14-23060CD-40-012.png', 'binary_scenario\\\\train\\\\40X\\\\benign\\\\SOB_B_F-14-23060CD-40-013.png', 'binary_scenario\\\\train\\\\40X\\\\benign\\\\SOB_B_F-14-23060CD-40-014.png', 'binary_scenario\\\\train\\\\40X\\\\benign\\\\SOB_B_F-14-23222AB-40-001.png', 'binary_scenario\\\\train\\\\40X\\\\benign\\\\SOB_B_F-14-23222AB-40-002.png', 'binary_scenario\\\\train\\\\40X\\\\benign\\\\SOB_B_F-14-23222AB-40-003.png', 'binary_scenario\\\\train\\\\40X\\\\benign\\\\SOB_B_F-14-23222AB-40-004.png', 'binary_scenario\\\\train\\\\40X\\\\benign\\\\SOB_B_F-14-23222AB-40-005.png', 'binary_scenario\\\\train\\\\40X\\\\benign\\\\SOB_B_F-14-23222AB-40-006.png', 'binary_scenario\\\\train\\\\40X\\\\benign\\\\SOB_B_F-14-23222AB-40-007.png', 'binary_scenario\\\\train\\\\40X\\\\benign\\\\SOB_B_F-14-23222AB-40-008.png', 'binary_scenario\\\\train\\\\40X\\\\benign\\\\SOB_B_F-14-23222AB-40-009.png', 'binary_scenario\\\\train\\\\40X\\\\benign\\\\SOB_B_F-14-23222AB-40-010.png', 'binary_scenario\\\\train\\\\40X\\\\benign\\\\SOB_B_F-14-23222AB-40-011.png', 'binary_scenario\\\\train\\\\40X\\\\benign\\\\SOB_B_F-14-23222AB-40-013.png', 'binary_scenario\\\\train\\\\40X\\\\benign\\\\SOB_B_F-14-23222AB-40-015.png', 'binary_scenario\\\\train\\\\40X\\\\benign\\\\SOB_B_F-14-23222AB-40-016.png', 'binary_scenario\\\\train\\\\40X\\\\benign\\\\SOB_B_F-14-23222AB-40-017.png', 'binary_scenario\\\\train\\\\40X\\\\benign\\\\SOB_B_F-14-25197-40-022.png', 'binary_scenario\\\\train\\\\40X\\\\benign\\\\SOB_B_F-14-25197-40-023.png', 'binary_scenario\\\\train\\\\40X\\\\benign\\\\SOB_B_F-14-25197-40-026.png', 'binary_scenario\\\\train\\\\40X\\\\benign\\\\SOB_B_F-14-25197-40-027.png', 'binary_scenario\\\\train\\\\40X\\\\benign\\\\SOB_B_F-14-25197-40-028.png', 'binary_scenario\\\\train\\\\40X\\\\benign\\\\SOB_B_F-14-25197-40-030.png', 'binary_scenario\\\\train\\\\40X\\\\benign\\\\SOB_B_F-14-25197-40-031.png', 'binary_scenario\\\\train\\\\40X\\\\benign\\\\SOB_B_F-14-25197-40-032.png', 'binary_scenario\\\\train\\\\40X\\\\benign\\\\SOB_B_F-14-25197-40-033.png', 'binary_scenario\\\\train\\\\40X\\\\benign\\\\SOB_B_F-14-25197-40-034.png', 'binary_scenario\\\\train\\\\40X\\\\benign\\\\SOB_B_F-14-25197-40-036.png', 'binary_scenario\\\\train\\\\40X\\\\benign\\\\SOB_B_F-14-25197-40-037.png', 'binary_scenario\\\\train\\\\40X\\\\benign\\\\SOB_B_F-14-25197-40-038.png', 'binary_scenario\\\\train\\\\40X\\\\benign\\\\SOB_B_F-14-25197-40-039.png', 'binary_scenario\\\\train\\\\40X\\\\benign\\\\SOB_B_F-14-25197-40-040.png', 'binary_scenario\\\\train\\\\40X\\\\benign\\\\SOB_B_F-14-25197-40-041.png', 'binary_scenario\\\\train\\\\40X\\\\benign\\\\SOB_B_F-14-25197-40-042.png', 'binary_scenario\\\\train\\\\40X\\\\benign\\\\SOB_B_F-14-25197-40-043.png', 'binary_scenario\\\\train\\\\40X\\\\benign\\\\SOB_B_F-14-29960AB-40-002.png', 'binary_scenario\\\\train\\\\40X\\\\benign\\\\SOB_B_F-14-29960AB-40-003.png', 'binary_scenario\\\\train\\\\40X\\\\benign\\\\SOB_B_F-14-29960AB-40-004.png', 'binary_scenario\\\\train\\\\40X\\\\benign\\\\SOB_B_F-14-29960AB-40-005.png', 'binary_scenario\\\\train\\\\40X\\\\benign\\\\SOB_B_F-14-29960AB-40-006.png', 'binary_scenario\\\\train\\\\40X\\\\benign\\\\SOB_B_F-14-29960AB-40-008.png', 'binary_scenario\\\\train\\\\40X\\\\benign\\\\SOB_B_F-14-29960AB-40-009.png', 'binary_scenario\\\\train\\\\40X\\\\benign\\\\SOB_B_F-14-29960AB-40-011.png', 'binary_scenario\\\\train\\\\40X\\\\benign\\\\SOB_B_F-14-29960AB-40-012.png', 'binary_scenario\\\\train\\\\40X\\\\benign\\\\SOB_B_F-14-29960AB-40-014.png', 'binary_scenario\\\\train\\\\40X\\\\benign\\\\SOB_B_F-14-29960AB-40-017.png', 'binary_scenario\\\\train\\\\40X\\\\benign\\\\SOB_B_F-14-29960AB-40-018.png', 'binary_scenario\\\\train\\\\40X\\\\benign\\\\SOB_B_F-14-9133-40-001.png', 'binary_scenario\\\\train\\\\40X\\\\benign\\\\SOB_B_F-14-9133-40-002.png', 'binary_scenario\\\\train\\\\40X\\\\benign\\\\SOB_B_F-14-9133-40-003.png', 'binary_scenario\\\\train\\\\40X\\\\benign\\\\SOB_B_F-14-9133-40-004.png', 'binary_scenario\\\\train\\\\40X\\\\benign\\\\SOB_B_F-14-9133-40-005.png', 'binary_scenario\\\\train\\\\40X\\\\benign\\\\SOB_B_F-14-9133-40-006.png', 'binary_scenario\\\\train\\\\40X\\\\benign\\\\SOB_B_F-14-9133-40-007.png', 'binary_scenario\\\\train\\\\40X\\\\benign\\\\SOB_B_F-14-9133-40-009.png', 'binary_scenario\\\\train\\\\40X\\\\benign\\\\SOB_B_F-14-9133-40-010.png', 'binary_scenario\\\\train\\\\40X\\\\benign\\\\SOB_B_F-14-9133-40-011.png', 'binary_scenario\\\\train\\\\40X\\\\benign\\\\SOB_B_F-14-9133-40-012.png', 'binary_scenario\\\\train\\\\40X\\\\benign\\\\SOB_B_F-14-9133-40-014.png', 'binary_scenario\\\\train\\\\40X\\\\benign\\\\SOB_B_F-14-9133-40-015.png', 'binary_scenario\\\\train\\\\40X\\\\benign\\\\SOB_B_F-14-9133-40-017.png', 'binary_scenario\\\\train\\\\40X\\\\benign\\\\SOB_B_F-14-9133-40-020.png', 'binary_scenario\\\\train\\\\40X\\\\benign\\\\SOB_B_F-14-9133-40-021.png', 'binary_scenario\\\\train\\\\40X\\\\benign\\\\SOB_B_F-14-9133-40-022.png', 'binary_scenario\\\\train\\\\40X\\\\benign\\\\SOB_B_F-14-9133-40-023.png', 'binary_scenario\\\\train\\\\40X\\\\benign\\\\SOB_B_F-14-9133-40-024.png', 'binary_scenario\\\\train\\\\40X\\\\benign\\\\SOB_B_F-14-9133-40-025.png', 'binary_scenario\\\\train\\\\40X\\\\benign\\\\SOB_B_F-14-9133-40-026.png', 'binary_scenario\\\\train\\\\40X\\\\benign\\\\SOB_B_PT-14-21998AB-40-001.png', 'binary_scenario\\\\train\\\\40X\\\\benign\\\\SOB_B_PT-14-21998AB-40-002.png', 'binary_scenario\\\\train\\\\40X\\\\benign\\\\SOB_B_PT-14-21998AB-40-003.png', 'binary_scenario\\\\train\\\\40X\\\\benign\\\\SOB_B_PT-14-21998AB-40-004.png', 'binary_scenario\\\\train\\\\40X\\\\benign\\\\SOB_B_PT-14-21998AB-40-006.png', 'binary_scenario\\\\train\\\\40X\\\\benign\\\\SOB_B_PT-14-21998AB-40-008.png', 'binary_scenario\\\\train\\\\40X\\\\benign\\\\SOB_B_PT-14-21998AB-40-009.png', 'binary_scenario\\\\train\\\\40X\\\\benign\\\\SOB_B_PT-14-21998AB-40-010.png', 'binary_scenario\\\\train\\\\40X\\\\benign\\\\SOB_B_PT-14-21998AB-40-011.png', 'binary_scenario\\\\train\\\\40X\\\\benign\\\\SOB_B_PT-14-21998AB-40-012.png', 'binary_scenario\\\\train\\\\40X\\\\benign\\\\SOB_B_PT-14-21998AB-40-013.png', 'binary_scenario\\\\train\\\\40X\\\\benign\\\\SOB_B_PT-14-21998AB-40-014.png', 'binary_scenario\\\\train\\\\40X\\\\benign\\\\SOB_B_PT-14-21998AB-40-015.png', 'binary_scenario\\\\train\\\\40X\\\\benign\\\\SOB_B_PT-14-21998AB-40-016.png', 'binary_scenario\\\\train\\\\40X\\\\benign\\\\SOB_B_PT-14-21998AB-40-017.png', 'binary_scenario\\\\train\\\\40X\\\\benign\\\\SOB_B_PT-14-21998AB-40-019.png', 'binary_scenario\\\\train\\\\40X\\\\benign\\\\SOB_B_PT-14-21998AB-40-020.png', 'binary_scenario\\\\train\\\\40X\\\\benign\\\\SOB_B_PT-14-21998AB-40-022.png', 'binary_scenario\\\\train\\\\40X\\\\benign\\\\SOB_B_PT-14-21998AB-40-023.png', 'binary_scenario\\\\train\\\\40X\\\\benign\\\\SOB_B_PT-14-21998AB-40-024.png', 'binary_scenario\\\\train\\\\40X\\\\benign\\\\SOB_B_PT-14-21998AB-40-025.png', 'binary_scenario\\\\train\\\\40X\\\\benign\\\\SOB_B_PT-14-21998AB-40-026.png', 'binary_scenario\\\\train\\\\40X\\\\benign\\\\SOB_B_PT-14-21998AB-40-027.png', 'binary_scenario\\\\train\\\\40X\\\\benign\\\\SOB_B_PT-14-21998AB-40-028.png', 'binary_scenario\\\\train\\\\40X\\\\benign\\\\SOB_B_PT-14-21998AB-40-030.png', 'binary_scenario\\\\train\\\\40X\\\\benign\\\\SOB_B_PT-14-21998AB-40-031.png', 'binary_scenario\\\\train\\\\40X\\\\benign\\\\SOB_B_PT-14-21998AB-40-032.png', 'binary_scenario\\\\train\\\\40X\\\\benign\\\\SOB_B_PT-14-21998AB-40-033.png', 'binary_scenario\\\\train\\\\40X\\\\benign\\\\SOB_B_PT-14-21998AB-40-034.png', 'binary_scenario\\\\train\\\\40X\\\\benign\\\\SOB_B_PT-14-21998AB-40-035.png', 'binary_scenario\\\\train\\\\40X\\\\benign\\\\SOB_B_PT-14-21998AB-40-036.png', 'binary_scenario\\\\train\\\\40X\\\\benign\\\\SOB_B_PT-14-21998AB-40-038.png', 'binary_scenario\\\\train\\\\40X\\\\benign\\\\SOB_B_PT-14-21998AB-40-039.png', 'binary_scenario\\\\train\\\\40X\\\\benign\\\\SOB_B_PT-14-21998AB-40-040.png', 'binary_scenario\\\\train\\\\40X\\\\benign\\\\SOB_B_PT-14-21998AB-40-041.png', 'binary_scenario\\\\train\\\\40X\\\\benign\\\\SOB_B_PT-14-21998AB-40-042.png', 'binary_scenario\\\\train\\\\40X\\\\benign\\\\SOB_B_PT-14-21998AB-40-043.png', 'binary_scenario\\\\train\\\\40X\\\\benign\\\\SOB_B_PT-14-21998AB-40-047.png', 'binary_scenario\\\\train\\\\40X\\\\benign\\\\SOB_B_PT-14-21998AB-40-049.png', 'binary_scenario\\\\train\\\\40X\\\\benign\\\\SOB_B_PT-14-21998AB-40-050.png', 'binary_scenario\\\\train\\\\40X\\\\benign\\\\SOB_B_PT-14-21998AB-40-051.png', 'binary_scenario\\\\train\\\\40X\\\\benign\\\\SOB_B_PT-14-21998AB-40-052.png', 'binary_scenario\\\\train\\\\40X\\\\benign\\\\SOB_B_PT-14-21998AB-40-053.png', 'binary_scenario\\\\train\\\\40X\\\\benign\\\\SOB_B_PT-14-21998AB-40-054.png', 'binary_scenario\\\\train\\\\40X\\\\benign\\\\SOB_B_PT-14-21998AB-40-056.png', 'binary_scenario\\\\train\\\\40X\\\\benign\\\\SOB_B_PT-14-21998AB-40-057.png', 'binary_scenario\\\\train\\\\40X\\\\benign\\\\SOB_B_PT-14-21998AB-40-058.png', 'binary_scenario\\\\train\\\\40X\\\\benign\\\\SOB_B_PT-14-22704-40-001.png', 'binary_scenario\\\\train\\\\40X\\\\benign\\\\SOB_B_PT-14-22704-40-004.png', 'binary_scenario\\\\train\\\\40X\\\\benign\\\\SOB_B_PT-14-22704-40-005.png', 'binary_scenario\\\\train\\\\40X\\\\benign\\\\SOB_B_PT-14-22704-40-006.png', 'binary_scenario\\\\train\\\\40X\\\\benign\\\\SOB_B_PT-14-22704-40-007.png', 'binary_scenario\\\\train\\\\40X\\\\benign\\\\SOB_B_PT-14-22704-40-010.png', 'binary_scenario\\\\train\\\\40X\\\\benign\\\\SOB_B_PT-14-22704-40-011.png', 'binary_scenario\\\\train\\\\40X\\\\benign\\\\SOB_B_PT-14-22704-40-013.png', 'binary_scenario\\\\train\\\\40X\\\\benign\\\\SOB_B_PT-14-22704-40-014.png', 'binary_scenario\\\\train\\\\40X\\\\benign\\\\SOB_B_PT-14-22704-40-015.png', 'binary_scenario\\\\train\\\\40X\\\\benign\\\\SOB_B_PT-14-22704-40-017.png', 'binary_scenario\\\\train\\\\40X\\\\benign\\\\SOB_B_PT-14-22704-40-020.png', 'binary_scenario\\\\train\\\\40X\\\\benign\\\\SOB_B_PT-14-22704-40-021.png', 'binary_scenario\\\\train\\\\40X\\\\benign\\\\SOB_B_PT-14-22704-40-022.png', 'binary_scenario\\\\train\\\\40X\\\\benign\\\\SOB_B_PT-14-22704-40-023.png', 'binary_scenario\\\\train\\\\40X\\\\benign\\\\SOB_B_PT-14-22704-40-024.png', 'binary_scenario\\\\train\\\\40X\\\\benign\\\\SOB_B_PT-14-22704-40-025.png', 'binary_scenario\\\\train\\\\40X\\\\benign\\\\SOB_B_PT-14-22704-40-027.png', 'binary_scenario\\\\train\\\\40X\\\\benign\\\\SOB_B_PT-14-22704-40-028.png', 'binary_scenario\\\\train\\\\40X\\\\benign\\\\SOB_B_PT-14-22704-40-029.png', 'binary_scenario\\\\train\\\\40X\\\\benign\\\\SOB_B_PT-14-22704-40-030.png', 'binary_scenario\\\\train\\\\40X\\\\benign\\\\SOB_B_PT-14-22704-40-031.png', 'binary_scenario\\\\train\\\\40X\\\\benign\\\\SOB_B_PT-14-22704-40-033.png', 'binary_scenario\\\\train\\\\40X\\\\benign\\\\SOB_B_PT-14-22704-40-035.png', 'binary_scenario\\\\train\\\\40X\\\\benign\\\\SOB_B_PT-14-22704-40-036.png', 'binary_scenario\\\\train\\\\40X\\\\benign\\\\SOB_B_PT-14-22704-40-038.png', 'binary_scenario\\\\train\\\\40X\\\\benign\\\\SOB_B_PT-14-29315EF-40-001.png', 'binary_scenario\\\\train\\\\40X\\\\benign\\\\SOB_B_PT-14-29315EF-40-002.png', 'binary_scenario\\\\train\\\\40X\\\\benign\\\\SOB_B_PT-14-29315EF-40-003.png', 'binary_scenario\\\\train\\\\40X\\\\benign\\\\SOB_B_PT-14-29315EF-40-004.png', 'binary_scenario\\\\train\\\\40X\\\\benign\\\\SOB_B_PT-14-29315EF-40-005.png', 'binary_scenario\\\\train\\\\40X\\\\benign\\\\SOB_B_PT-14-29315EF-40-006.png', 'binary_scenario\\\\train\\\\40X\\\\benign\\\\SOB_B_PT-14-29315EF-40-007.png', 'binary_scenario\\\\train\\\\40X\\\\benign\\\\SOB_B_PT-14-29315EF-40-008.png', 'binary_scenario\\\\train\\\\40X\\\\benign\\\\SOB_B_PT-14-29315EF-40-011.png', 'binary_scenario\\\\train\\\\40X\\\\benign\\\\SOB_B_PT-14-29315EF-40-012.png', 'binary_scenario\\\\train\\\\40X\\\\benign\\\\SOB_B_PT-14-29315EF-40-013.png', 'binary_scenario\\\\train\\\\40X\\\\benign\\\\SOB_B_TA-14-13200-40-001.png', 'binary_scenario\\\\train\\\\40X\\\\benign\\\\SOB_B_TA-14-13200-40-003.png', 'binary_scenario\\\\train\\\\40X\\\\benign\\\\SOB_B_TA-14-13200-40-005.png', 'binary_scenario\\\\train\\\\40X\\\\benign\\\\SOB_B_TA-14-13200-40-006.png', 'binary_scenario\\\\train\\\\40X\\\\benign\\\\SOB_B_TA-14-13200-40-008.png', 'binary_scenario\\\\train\\\\40X\\\\benign\\\\SOB_B_TA-14-13200-40-009.png', 'binary_scenario\\\\train\\\\40X\\\\benign\\\\SOB_B_TA-14-13200-40-010.png', 'binary_scenario\\\\train\\\\40X\\\\benign\\\\SOB_B_TA-14-13200-40-011.png', 'binary_scenario\\\\train\\\\40X\\\\benign\\\\SOB_B_TA-14-13200-40-014.png', 'binary_scenario\\\\train\\\\40X\\\\benign\\\\SOB_B_TA-14-13200-40-015.png', 'binary_scenario\\\\train\\\\40X\\\\benign\\\\SOB_B_TA-14-15275-40-001.png', 'binary_scenario\\\\train\\\\40X\\\\benign\\\\SOB_B_TA-14-15275-40-002.png', 'binary_scenario\\\\train\\\\40X\\\\benign\\\\SOB_B_TA-14-15275-40-003.png', 'binary_scenario\\\\train\\\\40X\\\\benign\\\\SOB_B_TA-14-15275-40-004.png', 'binary_scenario\\\\train\\\\40X\\\\benign\\\\SOB_B_TA-14-15275-40-006.png', 'binary_scenario\\\\train\\\\40X\\\\benign\\\\SOB_B_TA-14-15275-40-008.png', 'binary_scenario\\\\train\\\\40X\\\\benign\\\\SOB_B_TA-14-15275-40-009.png', 'binary_scenario\\\\train\\\\40X\\\\benign\\\\SOB_B_TA-14-15275-40-011.png', 'binary_scenario\\\\train\\\\40X\\\\benign\\\\SOB_B_TA-14-15275-40-012.png', 'binary_scenario\\\\train\\\\40X\\\\benign\\\\SOB_B_TA-14-16184-40-001.png', 'binary_scenario\\\\train\\\\40X\\\\benign\\\\SOB_B_TA-14-16184-40-003.png', 'binary_scenario\\\\train\\\\40X\\\\benign\\\\SOB_B_TA-14-16184-40-004.png', 'binary_scenario\\\\train\\\\40X\\\\benign\\\\SOB_B_TA-14-16184-40-006.png', 'binary_scenario\\\\train\\\\40X\\\\benign\\\\SOB_B_TA-14-16184-40-007.png', 'binary_scenario\\\\train\\\\40X\\\\benign\\\\SOB_B_TA-14-16184-40-008.png', 'binary_scenario\\\\train\\\\40X\\\\benign\\\\SOB_B_TA-14-16184-40-009.png', 'binary_scenario\\\\train\\\\40X\\\\benign\\\\SOB_B_TA-14-16184-40-010.png', 'binary_scenario\\\\train\\\\40X\\\\benign\\\\SOB_B_TA-14-16184-40-011.png', 'binary_scenario\\\\train\\\\40X\\\\benign\\\\SOB_B_TA-14-16184-40-012.png', 'binary_scenario\\\\train\\\\40X\\\\benign\\\\SOB_B_TA-14-16184-40-015.png', 'binary_scenario\\\\train\\\\40X\\\\benign\\\\SOB_B_TA-14-16184-40-016.png', 'binary_scenario\\\\train\\\\40X\\\\benign\\\\SOB_B_TA-14-16184-40-017.png', 'binary_scenario\\\\train\\\\40X\\\\benign\\\\SOB_B_TA-14-16184-40-018.png', 'binary_scenario\\\\train\\\\40X\\\\benign\\\\SOB_B_TA-14-16184-40-020.png', 'binary_scenario\\\\train\\\\40X\\\\benign\\\\SOB_B_TA-14-16184-40-021.png', 'binary_scenario\\\\train\\\\40X\\\\benign\\\\SOB_B_TA-14-16184-40-022.png', 'binary_scenario\\\\train\\\\40X\\\\benign\\\\SOB_B_TA-14-16184-40-023.png', 'binary_scenario\\\\train\\\\40X\\\\benign\\\\SOB_B_TA-14-16184-40-025.png', 'binary_scenario\\\\train\\\\40X\\\\benign\\\\SOB_B_TA-14-16184-40-026.png', 'binary_scenario\\\\train\\\\40X\\\\benign\\\\SOB_B_TA-14-16184-40-027.png', 'binary_scenario\\\\train\\\\40X\\\\benign\\\\SOB_B_TA-14-16184-40-028.png', 'binary_scenario\\\\train\\\\40X\\\\benign\\\\SOB_B_TA-14-16184-40-029.png', 'binary_scenario\\\\train\\\\40X\\\\benign\\\\SOB_B_TA-14-16184-40-030.png', 'binary_scenario\\\\train\\\\40X\\\\benign\\\\SOB_B_TA-14-16184-40-031.png', 'binary_scenario\\\\train\\\\40X\\\\benign\\\\SOB_B_TA-14-16184-40-032.png', 'binary_scenario\\\\train\\\\40X\\\\benign\\\\SOB_B_TA-14-16184-40-035.png', 'binary_scenario\\\\train\\\\40X\\\\benign\\\\SOB_B_TA-14-16184-40-036.png', 'binary_scenario\\\\train\\\\40X\\\\benign\\\\SOB_B_TA-14-16184-40-039.png', 'binary_scenario\\\\train\\\\40X\\\\benign\\\\SOB_B_TA-14-16184CD-40-001.png', 'binary_scenario\\\\train\\\\40X\\\\benign\\\\SOB_B_TA-14-16184CD-40-002.png', 'binary_scenario\\\\train\\\\40X\\\\benign\\\\SOB_B_TA-14-16184CD-40-003.png', 'binary_scenario\\\\train\\\\40X\\\\benign\\\\SOB_B_TA-14-16184CD-40-004.png', 'binary_scenario\\\\train\\\\40X\\\\benign\\\\SOB_B_TA-14-16184CD-40-005.png', 'binary_scenario\\\\train\\\\40X\\\\benign\\\\SOB_B_TA-14-16184CD-40-006.png', 'binary_scenario\\\\train\\\\40X\\\\benign\\\\SOB_B_TA-14-16184CD-40-007.png', 'binary_scenario\\\\train\\\\40X\\\\benign\\\\SOB_B_TA-14-16184CD-40-008.png', 'binary_scenario\\\\train\\\\40X\\\\benign\\\\SOB_B_TA-14-16184CD-40-009.png', 'binary_scenario\\\\train\\\\40X\\\\benign\\\\SOB_B_TA-14-16184CD-40-010.png', 'binary_scenario\\\\train\\\\40X\\\\benign\\\\SOB_B_TA-14-16184CD-40-011.png', 'binary_scenario\\\\train\\\\40X\\\\benign\\\\SOB_B_TA-14-16184CD-40-012.png', 'binary_scenario\\\\train\\\\40X\\\\benign\\\\SOB_B_TA-14-16184CD-40-014.png', 'binary_scenario\\\\train\\\\40X\\\\benign\\\\SOB_B_TA-14-16184CD-40-015.png', 'binary_scenario\\\\train\\\\40X\\\\benign\\\\SOB_B_TA-14-16184CD-40-016.png', 'binary_scenario\\\\train\\\\40X\\\\benign\\\\SOB_B_TA-14-16184CD-40-017.png', 'binary_scenario\\\\train\\\\40X\\\\benign\\\\SOB_B_TA-14-16184CD-40-019.png', 'binary_scenario\\\\train\\\\40X\\\\benign\\\\SOB_B_TA-14-16184CD-40-021.png', 'binary_scenario\\\\train\\\\40X\\\\benign\\\\SOB_B_TA-14-16184CD-40-022.png', 'binary_scenario\\\\train\\\\40X\\\\benign\\\\SOB_B_TA-14-16184CD-40-023.png', 'binary_scenario\\\\train\\\\40X\\\\benign\\\\SOB_B_TA-14-16184CD-40-025.png', 'binary_scenario\\\\train\\\\40X\\\\benign\\\\SOB_B_TA-14-16184CD-40-026.png', 'binary_scenario\\\\train\\\\40X\\\\benign\\\\SOB_B_TA-14-16184CD-40-027.png', 'binary_scenario\\\\train\\\\40X\\\\benign\\\\SOB_B_TA-14-16184CD-40-028.png', 'binary_scenario\\\\train\\\\40X\\\\benign\\\\SOB_B_TA-14-16184CD-40-029.png', 'binary_scenario\\\\train\\\\40X\\\\benign\\\\SOB_B_TA-14-16184CD-40-030.png', 'binary_scenario\\\\train\\\\40X\\\\benign\\\\SOB_B_TA-14-16184CD-40-031.png', 'binary_scenario\\\\train\\\\40X\\\\benign\\\\SOB_B_TA-14-16184CD-40-032.png', 'binary_scenario\\\\train\\\\40X\\\\benign\\\\SOB_B_TA-14-16184CD-40-033.png', 'binary_scenario\\\\train\\\\40X\\\\benign\\\\SOB_B_TA-14-16184CD-40-034.png', 'binary_scenario\\\\train\\\\40X\\\\benign\\\\SOB_B_TA-14-16184CD-40-035.png', 'binary_scenario\\\\train\\\\40X\\\\benign\\\\SOB_B_TA-14-19854C-40-002.png', 'binary_scenario\\\\train\\\\40X\\\\benign\\\\SOB_B_TA-14-19854C-40-003.png', 'binary_scenario\\\\train\\\\40X\\\\benign\\\\SOB_B_TA-14-19854C-40-004.png', 'binary_scenario\\\\train\\\\40X\\\\benign\\\\SOB_B_TA-14-19854C-40-005.png', 'binary_scenario\\\\train\\\\40X\\\\benign\\\\SOB_B_TA-14-19854C-40-007.png', 'binary_scenario\\\\train\\\\40X\\\\benign\\\\SOB_B_TA-14-19854C-40-008.png', 'binary_scenario\\\\train\\\\40X\\\\benign\\\\SOB_B_TA-14-19854C-40-009.png', 'binary_scenario\\\\train\\\\40X\\\\benign\\\\SOB_B_TA-14-19854C-40-010.png', 'binary_scenario\\\\train\\\\40X\\\\benign\\\\SOB_B_TA-14-19854C-40-011.png', 'binary_scenario\\\\train\\\\40X\\\\benign\\\\SOB_B_TA-14-19854C-40-012.png', 'binary_scenario\\\\train\\\\40X\\\\benign\\\\SOB_B_TA-14-19854C-40-013.png', 'binary_scenario\\\\train\\\\40X\\\\benign\\\\SOB_B_TA-14-19854C-40-014.png', 'binary_scenario\\\\train\\\\40X\\\\benign\\\\SOB_B_TA-14-19854C-40-015.png', 'binary_scenario\\\\train\\\\40X\\\\benign\\\\SOB_B_TA-14-19854C-40-016.png', 'binary_scenario\\\\train\\\\40X\\\\benign\\\\SOB_B_TA-14-21978AB-40-001.png', 'binary_scenario\\\\train\\\\40X\\\\benign\\\\SOB_B_TA-14-21978AB-40-002.png', 'binary_scenario\\\\train\\\\40X\\\\benign\\\\SOB_B_TA-14-21978AB-40-003.png', 'binary_scenario\\\\train\\\\40X\\\\benign\\\\SOB_B_TA-14-21978AB-40-004.png', 'binary_scenario\\\\train\\\\40X\\\\benign\\\\SOB_B_TA-14-21978AB-40-005.png', 'binary_scenario\\\\train\\\\40X\\\\benign\\\\SOB_B_TA-14-21978AB-40-006.png', 'binary_scenario\\\\train\\\\40X\\\\benign\\\\SOB_B_TA-14-21978AB-40-007.png', 'binary_scenario\\\\train\\\\40X\\\\benign\\\\SOB_B_TA-14-21978AB-40-010.png', 'binary_scenario\\\\train\\\\40X\\\\benign\\\\SOB_B_TA-14-21978AB-40-011.png', 'binary_scenario\\\\train\\\\40X\\\\benign\\\\SOB_B_TA-14-21978AB-40-012.png', 'binary_scenario\\\\train\\\\40X\\\\benign\\\\SOB_B_TA-14-21978AB-40-013.png', 'binary_scenario\\\\train\\\\40X\\\\benign\\\\SOB_B_TA-14-21978AB-40-014.png', 'binary_scenario\\\\train\\\\40X\\\\benign\\\\SOB_B_TA-14-21978AB-40-015.png', 'binary_scenario\\\\train\\\\40X\\\\benign\\\\SOB_B_TA-14-21978AB-40-016.png', 'binary_scenario\\\\train\\\\40X\\\\benign\\\\SOB_B_TA-14-3411F-40-001.png', 'binary_scenario\\\\train\\\\40X\\\\benign\\\\SOB_B_TA-14-3411F-40-002.png', 'binary_scenario\\\\train\\\\40X\\\\benign\\\\SOB_B_TA-14-3411F-40-003.png', 'binary_scenario\\\\train\\\\40X\\\\benign\\\\SOB_B_TA-14-3411F-40-004.png', 'binary_scenario\\\\train\\\\40X\\\\benign\\\\SOB_B_TA-14-3411F-40-005.png', 'binary_scenario\\\\train\\\\40X\\\\benign\\\\SOB_B_TA-14-3411F-40-006.png', 'binary_scenario\\\\train\\\\40X\\\\benign\\\\SOB_B_TA-14-3411F-40-007.png', 'binary_scenario\\\\train\\\\40X\\\\benign\\\\SOB_B_TA-14-3411F-40-008.png', 'binary_scenario\\\\train\\\\40X\\\\benign\\\\SOB_B_TA-14-3411F-40-009.png', 'binary_scenario\\\\train\\\\40X\\\\benign\\\\SOB_B_TA-14-3411F-40-010.png', 'binary_scenario\\\\train\\\\40X\\\\benign\\\\SOB_B_TA-14-3411F-40-011.png', 'binary_scenario\\\\train\\\\40X\\\\benign\\\\SOB_B_TA-14-3411F-40-012.png', 'binary_scenario\\\\train\\\\40X\\\\benign\\\\SOB_B_TA-14-3411F-40-013.png', 'binary_scenario\\\\train\\\\40X\\\\benign\\\\SOB_B_TA-14-3411F-40-014.png', 'binary_scenario\\\\train\\\\40X\\\\benign\\\\SOB_B_TA-14-3411F-40-016.png', 'binary_scenario\\\\train\\\\40X\\\\malignant\\\\SOB_M_DC-14-10926-40-001.png', 'binary_scenario\\\\train\\\\40X\\\\malignant\\\\SOB_M_DC-14-10926-40-002.png', 'binary_scenario\\\\train\\\\40X\\\\malignant\\\\SOB_M_DC-14-10926-40-004.png', 'binary_scenario\\\\train\\\\40X\\\\malignant\\\\SOB_M_DC-14-10926-40-005.png', 'binary_scenario\\\\train\\\\40X\\\\malignant\\\\SOB_M_DC-14-10926-40-006.png', 'binary_scenario\\\\train\\\\40X\\\\malignant\\\\SOB_M_DC-14-10926-40-007.png', 'binary_scenario\\\\train\\\\40X\\\\malignant\\\\SOB_M_DC-14-10926-40-009.png', 'binary_scenario\\\\train\\\\40X\\\\malignant\\\\SOB_M_DC-14-10926-40-010.png', 'binary_scenario\\\\train\\\\40X\\\\malignant\\\\SOB_M_DC-14-11031-40-002.png', 'binary_scenario\\\\train\\\\40X\\\\malignant\\\\SOB_M_DC-14-11031-40-003.png', 'binary_scenario\\\\train\\\\40X\\\\malignant\\\\SOB_M_DC-14-11031-40-004.png', 'binary_scenario\\\\train\\\\40X\\\\malignant\\\\SOB_M_DC-14-11031-40-005.png', 'binary_scenario\\\\train\\\\40X\\\\malignant\\\\SOB_M_DC-14-11031-40-006.png', 'binary_scenario\\\\train\\\\40X\\\\malignant\\\\SOB_M_DC-14-11031-40-007.png', 'binary_scenario\\\\train\\\\40X\\\\malignant\\\\SOB_M_DC-14-11031-40-008.png', 'binary_scenario\\\\train\\\\40X\\\\malignant\\\\SOB_M_DC-14-11031-40-009.png', 'binary_scenario\\\\train\\\\40X\\\\malignant\\\\SOB_M_DC-14-11031-40-011.png', 'binary_scenario\\\\train\\\\40X\\\\malignant\\\\SOB_M_DC-14-11031-40-013.png', 'binary_scenario\\\\train\\\\40X\\\\malignant\\\\SOB_M_DC-14-11031-40-014.png', 'binary_scenario\\\\train\\\\40X\\\\malignant\\\\SOB_M_DC-14-11520-40-001.png', 'binary_scenario\\\\train\\\\40X\\\\malignant\\\\SOB_M_DC-14-11520-40-003.png', 'binary_scenario\\\\train\\\\40X\\\\malignant\\\\SOB_M_DC-14-11520-40-004.png', 'binary_scenario\\\\train\\\\40X\\\\malignant\\\\SOB_M_DC-14-11520-40-005.png', 'binary_scenario\\\\train\\\\40X\\\\malignant\\\\SOB_M_DC-14-11520-40-006.png', 'binary_scenario\\\\train\\\\40X\\\\malignant\\\\SOB_M_DC-14-11520-40-007.png', 'binary_scenario\\\\train\\\\40X\\\\malignant\\\\SOB_M_DC-14-11520-40-008.png', 'binary_scenario\\\\train\\\\40X\\\\malignant\\\\SOB_M_DC-14-11520-40-009.png', 'binary_scenario\\\\train\\\\40X\\\\malignant\\\\SOB_M_DC-14-11520-40-011.png', 'binary_scenario\\\\train\\\\40X\\\\malignant\\\\SOB_M_DC-14-11520-40-012.png', 'binary_scenario\\\\train\\\\40X\\\\malignant\\\\SOB_M_DC-14-11520-40-013.png', 'binary_scenario\\\\train\\\\40X\\\\malignant\\\\SOB_M_DC-14-11520-40-015.png', 'binary_scenario\\\\train\\\\40X\\\\malignant\\\\SOB_M_DC-14-11520-40-016.png', 'binary_scenario\\\\train\\\\40X\\\\malignant\\\\SOB_M_DC-14-11520-40-017.png', 'binary_scenario\\\\train\\\\40X\\\\malignant\\\\SOB_M_DC-14-11520-40-018.png', 'binary_scenario\\\\train\\\\40X\\\\malignant\\\\SOB_M_DC-14-11520-40-019.png', 'binary_scenario\\\\train\\\\40X\\\\malignant\\\\SOB_M_DC-14-11520-40-020.png', 'binary_scenario\\\\train\\\\40X\\\\malignant\\\\SOB_M_DC-14-11520-40-021.png', 'binary_scenario\\\\train\\\\40X\\\\malignant\\\\SOB_M_DC-14-11520-40-022.png', 'binary_scenario\\\\train\\\\40X\\\\malignant\\\\SOB_M_DC-14-11520-40-023.png', 'binary_scenario\\\\train\\\\40X\\\\malignant\\\\SOB_M_DC-14-11520-40-024.png', 'binary_scenario\\\\train\\\\40X\\\\malignant\\\\SOB_M_DC-14-11520-40-025.png', 'binary_scenario\\\\train\\\\40X\\\\malignant\\\\SOB_M_DC-14-11951-40-002.png', 'binary_scenario\\\\train\\\\40X\\\\malignant\\\\SOB_M_DC-14-11951-40-003.png', 'binary_scenario\\\\train\\\\40X\\\\malignant\\\\SOB_M_DC-14-11951-40-004.png', 'binary_scenario\\\\train\\\\40X\\\\malignant\\\\SOB_M_DC-14-11951-40-005.png', 'binary_scenario\\\\train\\\\40X\\\\malignant\\\\SOB_M_DC-14-11951-40-007.png', 'binary_scenario\\\\train\\\\40X\\\\malignant\\\\SOB_M_DC-14-11951-40-008.png', 'binary_scenario\\\\train\\\\40X\\\\malignant\\\\SOB_M_DC-14-11951-40-009.png', 'binary_scenario\\\\train\\\\40X\\\\malignant\\\\SOB_M_DC-14-11951-40-010.png', 'binary_scenario\\\\train\\\\40X\\\\malignant\\\\SOB_M_DC-14-11951-40-011.png', 'binary_scenario\\\\train\\\\40X\\\\malignant\\\\SOB_M_DC-14-11951-40-012.png', 'binary_scenario\\\\train\\\\40X\\\\malignant\\\\SOB_M_DC-14-11951-40-013.png', 'binary_scenario\\\\train\\\\40X\\\\malignant\\\\SOB_M_DC-14-11951-40-014.png', 'binary_scenario\\\\train\\\\40X\\\\malignant\\\\SOB_M_DC-14-11951-40-016.png', 'binary_scenario\\\\train\\\\40X\\\\malignant\\\\SOB_M_DC-14-11951-40-017.png', 'binary_scenario\\\\train\\\\40X\\\\malignant\\\\SOB_M_DC-14-11951-40-018.png', 'binary_scenario\\\\train\\\\40X\\\\malignant\\\\SOB_M_DC-14-11951-40-020.png', 'binary_scenario\\\\train\\\\40X\\\\malignant\\\\SOB_M_DC-14-11951-40-021.png', 'binary_scenario\\\\train\\\\40X\\\\malignant\\\\SOB_M_DC-14-11951-40-022.png', 'binary_scenario\\\\train\\\\40X\\\\malignant\\\\SOB_M_DC-14-11951-40-023.png', 'binary_scenario\\\\train\\\\40X\\\\malignant\\\\SOB_M_DC-14-11951-40-024.png', 'binary_scenario\\\\train\\\\40X\\\\malignant\\\\SOB_M_DC-14-11951-40-025.png', 'binary_scenario\\\\train\\\\40X\\\\malignant\\\\SOB_M_DC-14-11951-40-026.png', 'binary_scenario\\\\train\\\\40X\\\\malignant\\\\SOB_M_DC-14-11951-40-027.png', 'binary_scenario\\\\train\\\\40X\\\\malignant\\\\SOB_M_DC-14-12312-40-001.png', 'binary_scenario\\\\train\\\\40X\\\\malignant\\\\SOB_M_DC-14-12312-40-002.png', 'binary_scenario\\\\train\\\\40X\\\\malignant\\\\SOB_M_DC-14-12312-40-003.png', 'binary_scenario\\\\train\\\\40X\\\\malignant\\\\SOB_M_DC-14-12312-40-004.png', 'binary_scenario\\\\train\\\\40X\\\\malignant\\\\SOB_M_DC-14-12312-40-005.png', 'binary_scenario\\\\train\\\\40X\\\\malignant\\\\SOB_M_DC-14-12312-40-007.png', 'binary_scenario\\\\train\\\\40X\\\\malignant\\\\SOB_M_DC-14-12312-40-008.png', 'binary_scenario\\\\train\\\\40X\\\\malignant\\\\SOB_M_DC-14-12312-40-009.png', 'binary_scenario\\\\train\\\\40X\\\\malignant\\\\SOB_M_DC-14-12312-40-010.png', 'binary_scenario\\\\train\\\\40X\\\\malignant\\\\SOB_M_DC-14-12312-40-012.png', 'binary_scenario\\\\train\\\\40X\\\\malignant\\\\SOB_M_DC-14-12312-40-013.png', 'binary_scenario\\\\train\\\\40X\\\\malignant\\\\SOB_M_DC-14-12312-40-014.png', 'binary_scenario\\\\train\\\\40X\\\\malignant\\\\SOB_M_DC-14-12312-40-015.png', 'binary_scenario\\\\train\\\\40X\\\\malignant\\\\SOB_M_DC-14-12312-40-016.png', 'binary_scenario\\\\train\\\\40X\\\\malignant\\\\SOB_M_DC-14-12312-40-017.png', 'binary_scenario\\\\train\\\\40X\\\\malignant\\\\SOB_M_DC-14-12312-40-018.png', 'binary_scenario\\\\train\\\\40X\\\\malignant\\\\SOB_M_DC-14-12312-40-019.png', 'binary_scenario\\\\train\\\\40X\\\\malignant\\\\SOB_M_DC-14-12312-40-020.png', 'binary_scenario\\\\train\\\\40X\\\\malignant\\\\SOB_M_DC-14-12312-40-023.png', 'binary_scenario\\\\train\\\\40X\\\\malignant\\\\SOB_M_DC-14-12312-40-024.png', 'binary_scenario\\\\train\\\\40X\\\\malignant\\\\SOB_M_DC-14-12312-40-025.png', 'binary_scenario\\\\train\\\\40X\\\\malignant\\\\SOB_M_DC-14-12312-40-026.png', 'binary_scenario\\\\train\\\\40X\\\\malignant\\\\SOB_M_DC-14-12312-40-028.png', 'binary_scenario\\\\train\\\\40X\\\\malignant\\\\SOB_M_DC-14-12312-40-029.png', 'binary_scenario\\\\train\\\\40X\\\\malignant\\\\SOB_M_DC-14-12312-40-031.png', 'binary_scenario\\\\train\\\\40X\\\\malignant\\\\SOB_M_DC-14-12312-40-032.png', 'binary_scenario\\\\train\\\\40X\\\\malignant\\\\SOB_M_DC-14-13412-40-001.png', 'binary_scenario\\\\train\\\\40X\\\\malignant\\\\SOB_M_DC-14-13412-40-002.png', 'binary_scenario\\\\train\\\\40X\\\\malignant\\\\SOB_M_DC-14-13412-40-003.png', 'binary_scenario\\\\train\\\\40X\\\\malignant\\\\SOB_M_DC-14-13412-40-004.png', 'binary_scenario\\\\train\\\\40X\\\\malignant\\\\SOB_M_DC-14-13412-40-005.png', 'binary_scenario\\\\train\\\\40X\\\\malignant\\\\SOB_M_DC-14-13412-40-006.png', 'binary_scenario\\\\train\\\\40X\\\\malignant\\\\SOB_M_DC-14-13412-40-007.png', 'binary_scenario\\\\train\\\\40X\\\\malignant\\\\SOB_M_DC-14-13412-40-008.png', 'binary_scenario\\\\train\\\\40X\\\\malignant\\\\SOB_M_DC-14-13412-40-010.png', 'binary_scenario\\\\train\\\\40X\\\\malignant\\\\SOB_M_DC-14-13412-40-011.png', 'binary_scenario\\\\train\\\\40X\\\\malignant\\\\SOB_M_DC-14-13412-40-012.png', 'binary_scenario\\\\train\\\\40X\\\\malignant\\\\SOB_M_DC-14-13412-40-013.png', 'binary_scenario\\\\train\\\\40X\\\\malignant\\\\SOB_M_DC-14-13412-40-014.png', 'binary_scenario\\\\train\\\\40X\\\\malignant\\\\SOB_M_DC-14-13412-40-015.png', 'binary_scenario\\\\train\\\\40X\\\\malignant\\\\SOB_M_DC-14-13412-40-016.png', 'binary_scenario\\\\train\\\\40X\\\\malignant\\\\SOB_M_DC-14-13412-40-017.png', 'binary_scenario\\\\train\\\\40X\\\\malignant\\\\SOB_M_DC-14-13412-40-018.png', 'binary_scenario\\\\train\\\\40X\\\\malignant\\\\SOB_M_DC-14-13412-40-019.png', 'binary_scenario\\\\train\\\\40X\\\\malignant\\\\SOB_M_DC-14-13412-40-023.png', 'binary_scenario\\\\train\\\\40X\\\\malignant\\\\SOB_M_DC-14-13412-40-024.png', 'binary_scenario\\\\train\\\\40X\\\\malignant\\\\SOB_M_DC-14-13412-40-025.png', 'binary_scenario\\\\train\\\\40X\\\\malignant\\\\SOB_M_DC-14-13412-40-026.png', 'binary_scenario\\\\train\\\\40X\\\\malignant\\\\SOB_M_DC-14-13412-40-027.png', 'binary_scenario\\\\train\\\\40X\\\\malignant\\\\SOB_M_DC-14-13412-40-029.png', 'binary_scenario\\\\train\\\\40X\\\\malignant\\\\SOB_M_DC-14-13412-40-030.png', 'binary_scenario\\\\train\\\\40X\\\\malignant\\\\SOB_M_DC-14-13412-40-031.png', 'binary_scenario\\\\train\\\\40X\\\\malignant\\\\SOB_M_DC-14-13993-40-001.png', 'binary_scenario\\\\train\\\\40X\\\\malignant\\\\SOB_M_DC-14-13993-40-002.png', 'binary_scenario\\\\train\\\\40X\\\\malignant\\\\SOB_M_DC-14-13993-40-003.png', 'binary_scenario\\\\train\\\\40X\\\\malignant\\\\SOB_M_DC-14-13993-40-006.png', 'binary_scenario\\\\train\\\\40X\\\\malignant\\\\SOB_M_DC-14-13993-40-007.png', 'binary_scenario\\\\train\\\\40X\\\\malignant\\\\SOB_M_DC-14-13993-40-008.png', 'binary_scenario\\\\train\\\\40X\\\\malignant\\\\SOB_M_DC-14-13993-40-009.png', 'binary_scenario\\\\train\\\\40X\\\\malignant\\\\SOB_M_DC-14-13993-40-010.png', 'binary_scenario\\\\train\\\\40X\\\\malignant\\\\SOB_M_DC-14-13993-40-011.png', 'binary_scenario\\\\train\\\\40X\\\\malignant\\\\SOB_M_DC-14-13993-40-012.png', 'binary_scenario\\\\train\\\\40X\\\\malignant\\\\SOB_M_DC-14-13993-40-013.png', 'binary_scenario\\\\train\\\\40X\\\\malignant\\\\SOB_M_DC-14-13993-40-014.png', 'binary_scenario\\\\train\\\\40X\\\\malignant\\\\SOB_M_DC-14-13993-40-015.png', 'binary_scenario\\\\train\\\\40X\\\\malignant\\\\SOB_M_DC-14-13993-40-016.png', 'binary_scenario\\\\train\\\\40X\\\\malignant\\\\SOB_M_DC-14-13993-40-017.png', 'binary_scenario\\\\train\\\\40X\\\\malignant\\\\SOB_M_DC-14-13993-40-018.png', 'binary_scenario\\\\train\\\\40X\\\\malignant\\\\SOB_M_DC-14-13993-40-020.png', 'binary_scenario\\\\train\\\\40X\\\\malignant\\\\SOB_M_DC-14-13993-40-021.png', 'binary_scenario\\\\train\\\\40X\\\\malignant\\\\SOB_M_DC-14-13993-40-024.png', 'binary_scenario\\\\train\\\\40X\\\\malignant\\\\SOB_M_DC-14-13993-40-025.png', 'binary_scenario\\\\train\\\\40X\\\\malignant\\\\SOB_M_DC-14-13993-40-026.png', 'binary_scenario\\\\train\\\\40X\\\\malignant\\\\SOB_M_DC-14-13993-40-027.png', 'binary_scenario\\\\train\\\\40X\\\\malignant\\\\SOB_M_DC-14-13993-40-028.png', 'binary_scenario\\\\train\\\\40X\\\\malignant\\\\SOB_M_DC-14-13993-40-029.png', 'binary_scenario\\\\train\\\\40X\\\\malignant\\\\SOB_M_DC-14-13993-40-030.png', 'binary_scenario\\\\train\\\\40X\\\\malignant\\\\SOB_M_DC-14-13993-40-031.png', 'binary_scenario\\\\train\\\\40X\\\\malignant\\\\SOB_M_DC-14-13993-40-032.png', 'binary_scenario\\\\train\\\\40X\\\\malignant\\\\SOB_M_DC-14-13993-40-033.png', 'binary_scenario\\\\train\\\\40X\\\\malignant\\\\SOB_M_DC-14-13993-40-034.png', 'binary_scenario\\\\train\\\\40X\\\\malignant\\\\SOB_M_DC-14-13993-40-035.png', 'binary_scenario\\\\train\\\\40X\\\\malignant\\\\SOB_M_DC-14-13993-40-036.png', 'binary_scenario\\\\train\\\\40X\\\\malignant\\\\SOB_M_DC-14-14015-40-001.png', 'binary_scenario\\\\train\\\\40X\\\\malignant\\\\SOB_M_DC-14-14015-40-002.png', 'binary_scenario\\\\train\\\\40X\\\\malignant\\\\SOB_M_DC-14-14015-40-004.png', 'binary_scenario\\\\train\\\\40X\\\\malignant\\\\SOB_M_DC-14-14015-40-006.png', 'binary_scenario\\\\train\\\\40X\\\\malignant\\\\SOB_M_DC-14-14015-40-011.png', 'binary_scenario\\\\train\\\\40X\\\\malignant\\\\SOB_M_DC-14-14015-40-012.png', 'binary_scenario\\\\train\\\\40X\\\\malignant\\\\SOB_M_DC-14-14015-40-013.png', 'binary_scenario\\\\train\\\\40X\\\\malignant\\\\SOB_M_DC-14-14015-40-014.png', 'binary_scenario\\\\train\\\\40X\\\\malignant\\\\SOB_M_DC-14-14015-40-015.png', 'binary_scenario\\\\train\\\\40X\\\\malignant\\\\SOB_M_DC-14-14015-40-016.png', 'binary_scenario\\\\train\\\\40X\\\\malignant\\\\SOB_M_DC-14-14015-40-018.png', 'binary_scenario\\\\train\\\\40X\\\\malignant\\\\SOB_M_DC-14-14926-40-001.png', 'binary_scenario\\\\train\\\\40X\\\\malignant\\\\SOB_M_DC-14-14926-40-002.png', 'binary_scenario\\\\train\\\\40X\\\\malignant\\\\SOB_M_DC-14-14926-40-003.png', 'binary_scenario\\\\train\\\\40X\\\\malignant\\\\SOB_M_DC-14-14926-40-004.png', 'binary_scenario\\\\train\\\\40X\\\\malignant\\\\SOB_M_DC-14-14926-40-005.png', 'binary_scenario\\\\train\\\\40X\\\\malignant\\\\SOB_M_DC-14-14926-40-006.png', 'binary_scenario\\\\train\\\\40X\\\\malignant\\\\SOB_M_DC-14-14926-40-007.png', 'binary_scenario\\\\train\\\\40X\\\\malignant\\\\SOB_M_DC-14-14926-40-008.png', 'binary_scenario\\\\train\\\\40X\\\\malignant\\\\SOB_M_DC-14-14926-40-010.png', 'binary_scenario\\\\train\\\\40X\\\\malignant\\\\SOB_M_DC-14-14926-40-011.png', 'binary_scenario\\\\train\\\\40X\\\\malignant\\\\SOB_M_DC-14-14926-40-012.png', 'binary_scenario\\\\train\\\\40X\\\\malignant\\\\SOB_M_DC-14-14926-40-015.png', 'binary_scenario\\\\train\\\\40X\\\\malignant\\\\SOB_M_DC-14-14926-40-016.png', 'binary_scenario\\\\train\\\\40X\\\\malignant\\\\SOB_M_DC-14-14926-40-018.png', 'binary_scenario\\\\train\\\\40X\\\\malignant\\\\SOB_M_DC-14-14926-40-019.png', 'binary_scenario\\\\train\\\\40X\\\\malignant\\\\SOB_M_DC-14-14926-40-020.png', 'binary_scenario\\\\train\\\\40X\\\\malignant\\\\SOB_M_DC-14-14946-40-001.png', 'binary_scenario\\\\train\\\\40X\\\\malignant\\\\SOB_M_DC-14-14946-40-002.png', 'binary_scenario\\\\train\\\\40X\\\\malignant\\\\SOB_M_DC-14-14946-40-003.png', 'binary_scenario\\\\train\\\\40X\\\\malignant\\\\SOB_M_DC-14-14946-40-004.png', 'binary_scenario\\\\train\\\\40X\\\\malignant\\\\SOB_M_DC-14-14946-40-005.png', 'binary_scenario\\\\train\\\\40X\\\\malignant\\\\SOB_M_DC-14-14946-40-006.png', 'binary_scenario\\\\train\\\\40X\\\\malignant\\\\SOB_M_DC-14-14946-40-007.png', 'binary_scenario\\\\train\\\\40X\\\\malignant\\\\SOB_M_DC-14-14946-40-008.png', 'binary_scenario\\\\train\\\\40X\\\\malignant\\\\SOB_M_DC-14-14946-40-009.png', 'binary_scenario\\\\train\\\\40X\\\\malignant\\\\SOB_M_DC-14-14946-40-010.png', 'binary_scenario\\\\train\\\\40X\\\\malignant\\\\SOB_M_DC-14-14946-40-012.png', 'binary_scenario\\\\train\\\\40X\\\\malignant\\\\SOB_M_DC-14-14946-40-013.png', 'binary_scenario\\\\train\\\\40X\\\\malignant\\\\SOB_M_DC-14-14946-40-014.png', 'binary_scenario\\\\train\\\\40X\\\\malignant\\\\SOB_M_DC-14-14946-40-015.png', 'binary_scenario\\\\train\\\\40X\\\\malignant\\\\SOB_M_DC-14-14946-40-016.png', 'binary_scenario\\\\train\\\\40X\\\\malignant\\\\SOB_M_DC-14-14946-40-017.png', 'binary_scenario\\\\train\\\\40X\\\\malignant\\\\SOB_M_DC-14-14946-40-019.png', 'binary_scenario\\\\train\\\\40X\\\\malignant\\\\SOB_M_DC-14-14946-40-020.png', 'binary_scenario\\\\train\\\\40X\\\\malignant\\\\SOB_M_DC-14-14946-40-021.png', 'binary_scenario\\\\train\\\\40X\\\\malignant\\\\SOB_M_DC-14-14946-40-022.png', 'binary_scenario\\\\train\\\\40X\\\\malignant\\\\SOB_M_DC-14-14946-40-023.png', 'binary_scenario\\\\train\\\\40X\\\\malignant\\\\SOB_M_DC-14-14946-40-025.png', 'binary_scenario\\\\train\\\\40X\\\\malignant\\\\SOB_M_DC-14-14946-40-027.png', 'binary_scenario\\\\train\\\\40X\\\\malignant\\\\SOB_M_DC-14-14946-40-028.png', 'binary_scenario\\\\train\\\\40X\\\\malignant\\\\SOB_M_DC-14-14946-40-029.png', 'binary_scenario\\\\train\\\\40X\\\\malignant\\\\SOB_M_DC-14-14946-40-030.png', 'binary_scenario\\\\train\\\\40X\\\\malignant\\\\SOB_M_DC-14-14946-40-031.png', 'binary_scenario\\\\train\\\\40X\\\\malignant\\\\SOB_M_DC-14-15572-40-001.png', 'binary_scenario\\\\train\\\\40X\\\\malignant\\\\SOB_M_DC-14-15572-40-002.png', 'binary_scenario\\\\train\\\\40X\\\\malignant\\\\SOB_M_DC-14-15572-40-003.png', 'binary_scenario\\\\train\\\\40X\\\\malignant\\\\SOB_M_DC-14-15572-40-004.png', 'binary_scenario\\\\train\\\\40X\\\\malignant\\\\SOB_M_DC-14-15572-40-005.png', 'binary_scenario\\\\train\\\\40X\\\\malignant\\\\SOB_M_DC-14-15572-40-007.png', 'binary_scenario\\\\train\\\\40X\\\\malignant\\\\SOB_M_DC-14-15572-40-008.png', 'binary_scenario\\\\train\\\\40X\\\\malignant\\\\SOB_M_DC-14-15572-40-009.png', 'binary_scenario\\\\train\\\\40X\\\\malignant\\\\SOB_M_DC-14-15572-40-012.png', 'binary_scenario\\\\train\\\\40X\\\\malignant\\\\SOB_M_DC-14-15572-40-013.png', 'binary_scenario\\\\train\\\\40X\\\\malignant\\\\SOB_M_DC-14-15572-40-014.png', 'binary_scenario\\\\train\\\\40X\\\\malignant\\\\SOB_M_DC-14-15572-40-016.png', 'binary_scenario\\\\train\\\\40X\\\\malignant\\\\SOB_M_DC-14-15572-40-017.png', 'binary_scenario\\\\train\\\\40X\\\\malignant\\\\SOB_M_DC-14-15572-40-021.png', 'binary_scenario\\\\train\\\\40X\\\\malignant\\\\SOB_M_DC-14-15572-40-022.png', 'binary_scenario\\\\train\\\\40X\\\\malignant\\\\SOB_M_DC-14-15572-40-023.png', 'binary_scenario\\\\train\\\\40X\\\\malignant\\\\SOB_M_DC-14-15696-40-001.png', 'binary_scenario\\\\train\\\\40X\\\\malignant\\\\SOB_M_DC-14-15696-40-002.png', 'binary_scenario\\\\train\\\\40X\\\\malignant\\\\SOB_M_DC-14-15696-40-003.png', 'binary_scenario\\\\train\\\\40X\\\\malignant\\\\SOB_M_DC-14-15696-40-004.png', 'binary_scenario\\\\train\\\\40X\\\\malignant\\\\SOB_M_DC-14-15696-40-005.png', 'binary_scenario\\\\train\\\\40X\\\\malignant\\\\SOB_M_DC-14-15696-40-006.png', 'binary_scenario\\\\train\\\\40X\\\\malignant\\\\SOB_M_DC-14-15696-40-007.png', 'binary_scenario\\\\train\\\\40X\\\\malignant\\\\SOB_M_DC-14-15696-40-008.png', 'binary_scenario\\\\train\\\\40X\\\\malignant\\\\SOB_M_DC-14-15696-40-009.png', 'binary_scenario\\\\train\\\\40X\\\\malignant\\\\SOB_M_DC-14-15696-40-010.png', 'binary_scenario\\\\train\\\\40X\\\\malignant\\\\SOB_M_DC-14-15696-40-011.png', 'binary_scenario\\\\train\\\\40X\\\\malignant\\\\SOB_M_DC-14-15696-40-012.png', 'binary_scenario\\\\train\\\\40X\\\\malignant\\\\SOB_M_DC-14-15696-40-013.png', 'binary_scenario\\\\train\\\\40X\\\\malignant\\\\SOB_M_DC-14-15696-40-014.png', 'binary_scenario\\\\train\\\\40X\\\\malignant\\\\SOB_M_DC-14-15696-40-015.png', 'binary_scenario\\\\train\\\\40X\\\\malignant\\\\SOB_M_DC-14-15696-40-016.png', 'binary_scenario\\\\train\\\\40X\\\\malignant\\\\SOB_M_DC-14-15696-40-018.png', 'binary_scenario\\\\train\\\\40X\\\\malignant\\\\SOB_M_DC-14-15696-40-019.png', 'binary_scenario\\\\train\\\\40X\\\\malignant\\\\SOB_M_DC-14-15696-40-020.png', 'binary_scenario\\\\train\\\\40X\\\\malignant\\\\SOB_M_DC-14-15696-40-021.png', 'binary_scenario\\\\train\\\\40X\\\\malignant\\\\SOB_M_DC-14-15696-40-022.png', 'binary_scenario\\\\train\\\\40X\\\\malignant\\\\SOB_M_DC-14-15792-40-001.png', 'binary_scenario\\\\train\\\\40X\\\\malignant\\\\SOB_M_DC-14-15792-40-002.png', 'binary_scenario\\\\train\\\\40X\\\\malignant\\\\SOB_M_DC-14-15792-40-004.png', 'binary_scenario\\\\train\\\\40X\\\\malignant\\\\SOB_M_DC-14-15792-40-006.png', 'binary_scenario\\\\train\\\\40X\\\\malignant\\\\SOB_M_DC-14-15792-40-007.png', 'binary_scenario\\\\train\\\\40X\\\\malignant\\\\SOB_M_DC-14-15792-40-008.png', 'binary_scenario\\\\train\\\\40X\\\\malignant\\\\SOB_M_DC-14-15792-40-009.png', 'binary_scenario\\\\train\\\\40X\\\\malignant\\\\SOB_M_DC-14-15792-40-010.png', 'binary_scenario\\\\train\\\\40X\\\\malignant\\\\SOB_M_DC-14-15792-40-012.png', 'binary_scenario\\\\train\\\\40X\\\\malignant\\\\SOB_M_DC-14-16188-40-001.png', 'binary_scenario\\\\train\\\\40X\\\\malignant\\\\SOB_M_DC-14-16188-40-002.png', 'binary_scenario\\\\train\\\\40X\\\\malignant\\\\SOB_M_DC-14-16188-40-004.png', 'binary_scenario\\\\train\\\\40X\\\\malignant\\\\SOB_M_DC-14-16188-40-005.png', 'binary_scenario\\\\train\\\\40X\\\\malignant\\\\SOB_M_DC-14-16188-40-007.png', 'binary_scenario\\\\train\\\\40X\\\\malignant\\\\SOB_M_DC-14-16188-40-009.png', 'binary_scenario\\\\train\\\\40X\\\\malignant\\\\SOB_M_DC-14-16188-40-010.png', 'binary_scenario\\\\train\\\\40X\\\\malignant\\\\SOB_M_DC-14-16188-40-011.png', 'binary_scenario\\\\train\\\\40X\\\\malignant\\\\SOB_M_DC-14-16188-40-012.png', 'binary_scenario\\\\train\\\\40X\\\\malignant\\\\SOB_M_DC-14-16188-40-013.png', 'binary_scenario\\\\train\\\\40X\\\\malignant\\\\SOB_M_DC-14-16188-40-014.png', 'binary_scenario\\\\train\\\\40X\\\\malignant\\\\SOB_M_DC-14-16188-40-015.png', 'binary_scenario\\\\train\\\\40X\\\\malignant\\\\SOB_M_DC-14-16188-40-018.png', 'binary_scenario\\\\train\\\\40X\\\\malignant\\\\SOB_M_DC-14-16188-40-019.png', 'binary_scenario\\\\train\\\\40X\\\\malignant\\\\SOB_M_DC-14-16188-40-021.png', 'binary_scenario\\\\train\\\\40X\\\\malignant\\\\SOB_M_DC-14-16188-40-023.png', 'binary_scenario\\\\train\\\\40X\\\\malignant\\\\SOB_M_DC-14-16188-40-024.png', 'binary_scenario\\\\train\\\\40X\\\\malignant\\\\SOB_M_DC-14-16336-40-001.png', 'binary_scenario\\\\train\\\\40X\\\\malignant\\\\SOB_M_DC-14-16336-40-002.png', 'binary_scenario\\\\train\\\\40X\\\\malignant\\\\SOB_M_DC-14-16336-40-003.png', 'binary_scenario\\\\train\\\\40X\\\\malignant\\\\SOB_M_DC-14-16336-40-005.png', 'binary_scenario\\\\train\\\\40X\\\\malignant\\\\SOB_M_DC-14-16336-40-006.png', 'binary_scenario\\\\train\\\\40X\\\\malignant\\\\SOB_M_DC-14-16336-40-007.png', 'binary_scenario\\\\train\\\\40X\\\\malignant\\\\SOB_M_DC-14-16336-40-008.png', 'binary_scenario\\\\train\\\\40X\\\\malignant\\\\SOB_M_DC-14-16336-40-009.png', 'binary_scenario\\\\train\\\\40X\\\\malignant\\\\SOB_M_DC-14-16336-40-010.png', 'binary_scenario\\\\train\\\\40X\\\\malignant\\\\SOB_M_DC-14-16336-40-011.png', 'binary_scenario\\\\train\\\\40X\\\\malignant\\\\SOB_M_DC-14-16336-40-012.png', 'binary_scenario\\\\train\\\\40X\\\\malignant\\\\SOB_M_DC-14-16336-40-013.png', 'binary_scenario\\\\train\\\\40X\\\\malignant\\\\SOB_M_DC-14-16448-40-002.png', 'binary_scenario\\\\train\\\\40X\\\\malignant\\\\SOB_M_DC-14-16448-40-003.png', 'binary_scenario\\\\train\\\\40X\\\\malignant\\\\SOB_M_DC-14-16448-40-004.png', 'binary_scenario\\\\train\\\\40X\\\\malignant\\\\SOB_M_DC-14-16448-40-006.png', 'binary_scenario\\\\train\\\\40X\\\\malignant\\\\SOB_M_DC-14-16448-40-007.png', 'binary_scenario\\\\train\\\\40X\\\\malignant\\\\SOB_M_DC-14-16448-40-008.png', 'binary_scenario\\\\train\\\\40X\\\\malignant\\\\SOB_M_DC-14-16448-40-009.png', 'binary_scenario\\\\train\\\\40X\\\\malignant\\\\SOB_M_DC-14-16448-40-010.png', 'binary_scenario\\\\train\\\\40X\\\\malignant\\\\SOB_M_DC-14-16448-40-011.png', 'binary_scenario\\\\train\\\\40X\\\\malignant\\\\SOB_M_DC-14-16601-40-002.png', 'binary_scenario\\\\train\\\\40X\\\\malignant\\\\SOB_M_DC-14-16601-40-003.png', 'binary_scenario\\\\train\\\\40X\\\\malignant\\\\SOB_M_DC-14-16601-40-004.png', 'binary_scenario\\\\train\\\\40X\\\\malignant\\\\SOB_M_DC-14-16601-40-005.png', 'binary_scenario\\\\train\\\\40X\\\\malignant\\\\SOB_M_DC-14-16601-40-007.png', 'binary_scenario\\\\train\\\\40X\\\\malignant\\\\SOB_M_DC-14-16601-40-008.png', 'binary_scenario\\\\train\\\\40X\\\\malignant\\\\SOB_M_DC-14-16601-40-009.png', 'binary_scenario\\\\train\\\\40X\\\\malignant\\\\SOB_M_DC-14-16601-40-010.png', 'binary_scenario\\\\train\\\\40X\\\\malignant\\\\SOB_M_DC-14-16601-40-012.png', 'binary_scenario\\\\train\\\\40X\\\\malignant\\\\SOB_M_DC-14-16716-40-001.png', 'binary_scenario\\\\train\\\\40X\\\\malignant\\\\SOB_M_DC-14-16716-40-002.png', 'binary_scenario\\\\train\\\\40X\\\\malignant\\\\SOB_M_DC-14-16716-40-003.png', 'binary_scenario\\\\train\\\\40X\\\\malignant\\\\SOB_M_DC-14-16716-40-004.png', 'binary_scenario\\\\train\\\\40X\\\\malignant\\\\SOB_M_DC-14-16716-40-007.png', 'binary_scenario\\\\train\\\\40X\\\\malignant\\\\SOB_M_DC-14-16716-40-008.png', 'binary_scenario\\\\train\\\\40X\\\\malignant\\\\SOB_M_DC-14-16716-40-010.png', 'binary_scenario\\\\train\\\\40X\\\\malignant\\\\SOB_M_DC-14-16716-40-011.png', 'binary_scenario\\\\train\\\\40X\\\\malignant\\\\SOB_M_DC-14-16716-40-012.png', 'binary_scenario\\\\train\\\\40X\\\\malignant\\\\SOB_M_DC-14-16716-40-014.png', 'binary_scenario\\\\train\\\\40X\\\\malignant\\\\SOB_M_DC-14-16716-40-018.png', 'binary_scenario\\\\train\\\\40X\\\\malignant\\\\SOB_M_DC-14-16716-40-019.png', 'binary_scenario\\\\train\\\\40X\\\\malignant\\\\SOB_M_DC-14-16716-40-020.png', 'binary_scenario\\\\train\\\\40X\\\\malignant\\\\SOB_M_DC-14-16716-40-021.png', 'binary_scenario\\\\train\\\\40X\\\\malignant\\\\SOB_M_DC-14-16716-40-022.png', 'binary_scenario\\\\train\\\\40X\\\\malignant\\\\SOB_M_DC-14-16716-40-023.png', 'binary_scenario\\\\train\\\\40X\\\\malignant\\\\SOB_M_DC-14-16716-40-024.png', 'binary_scenario\\\\train\\\\40X\\\\malignant\\\\SOB_M_DC-14-16716-40-027.png', 'binary_scenario\\\\train\\\\40X\\\\malignant\\\\SOB_M_DC-14-16716-40-028.png', 'binary_scenario\\\\train\\\\40X\\\\malignant\\\\SOB_M_DC-14-16716-40-029.png', 'binary_scenario\\\\train\\\\40X\\\\malignant\\\\SOB_M_DC-14-16716-40-030.png', 'binary_scenario\\\\train\\\\40X\\\\malignant\\\\SOB_M_DC-14-16716-40-031.png', 'binary_scenario\\\\train\\\\40X\\\\malignant\\\\SOB_M_DC-14-16716-40-032.png', 'binary_scenario\\\\train\\\\40X\\\\malignant\\\\SOB_M_DC-14-16716-40-034.png', 'binary_scenario\\\\train\\\\40X\\\\malignant\\\\SOB_M_DC-14-16716-40-035.png', 'binary_scenario\\\\train\\\\40X\\\\malignant\\\\SOB_M_DC-14-16716-40-036.png', 'binary_scenario\\\\train\\\\40X\\\\malignant\\\\SOB_M_DC-14-16716-40-037.png', 'binary_scenario\\\\train\\\\40X\\\\malignant\\\\SOB_M_DC-14-16716-40-038.png', 'binary_scenario\\\\train\\\\40X\\\\malignant\\\\SOB_M_DC-14-16875-40-001.png', 'binary_scenario\\\\train\\\\40X\\\\malignant\\\\SOB_M_DC-14-16875-40-002.png', 'binary_scenario\\\\train\\\\40X\\\\malignant\\\\SOB_M_DC-14-16875-40-003.png', 'binary_scenario\\\\train\\\\40X\\\\malignant\\\\SOB_M_DC-14-16875-40-004.png', 'binary_scenario\\\\train\\\\40X\\\\malignant\\\\SOB_M_DC-14-16875-40-005.png', 'binary_scenario\\\\train\\\\40X\\\\malignant\\\\SOB_M_DC-14-16875-40-007.png', 'binary_scenario\\\\train\\\\40X\\\\malignant\\\\SOB_M_DC-14-16875-40-008.png', 'binary_scenario\\\\train\\\\40X\\\\malignant\\\\SOB_M_DC-14-16875-40-009.png', 'binary_scenario\\\\train\\\\40X\\\\malignant\\\\SOB_M_DC-14-16875-40-010.png', 'binary_scenario\\\\train\\\\40X\\\\malignant\\\\SOB_M_DC-14-16875-40-011.png', 'binary_scenario\\\\train\\\\40X\\\\malignant\\\\SOB_M_DC-14-16875-40-012.png', 'binary_scenario\\\\train\\\\40X\\\\malignant\\\\SOB_M_DC-14-16875-40-013.png', 'binary_scenario\\\\train\\\\40X\\\\malignant\\\\SOB_M_DC-14-17614-40-001.png', 'binary_scenario\\\\train\\\\40X\\\\malignant\\\\SOB_M_DC-14-17614-40-002.png', 'binary_scenario\\\\train\\\\40X\\\\malignant\\\\SOB_M_DC-14-17614-40-004.png', 'binary_scenario\\\\train\\\\40X\\\\malignant\\\\SOB_M_DC-14-17614-40-005.png', 'binary_scenario\\\\train\\\\40X\\\\malignant\\\\SOB_M_DC-14-17614-40-006.png', 'binary_scenario\\\\train\\\\40X\\\\malignant\\\\SOB_M_DC-14-17614-40-007.png', 'binary_scenario\\\\train\\\\40X\\\\malignant\\\\SOB_M_DC-14-17614-40-008.png', 'binary_scenario\\\\train\\\\40X\\\\malignant\\\\SOB_M_DC-14-17614-40-009.png', 'binary_scenario\\\\train\\\\40X\\\\malignant\\\\SOB_M_DC-14-17614-40-010.png', 'binary_scenario\\\\train\\\\40X\\\\malignant\\\\SOB_M_DC-14-17614-40-011.png', 'binary_scenario\\\\train\\\\40X\\\\malignant\\\\SOB_M_DC-14-17614-40-012.png', 'binary_scenario\\\\train\\\\40X\\\\malignant\\\\SOB_M_DC-14-17614-40-013.png', 'binary_scenario\\\\train\\\\40X\\\\malignant\\\\SOB_M_DC-14-17614-40-014.png', 'binary_scenario\\\\train\\\\40X\\\\malignant\\\\SOB_M_DC-14-17614-40-017.png', 'binary_scenario\\\\train\\\\40X\\\\malignant\\\\SOB_M_DC-14-17614-40-018.png', 'binary_scenario\\\\train\\\\40X\\\\malignant\\\\SOB_M_DC-14-17614-40-019.png', 'binary_scenario\\\\train\\\\40X\\\\malignant\\\\SOB_M_DC-14-17614-40-021.png', 'binary_scenario\\\\train\\\\40X\\\\malignant\\\\SOB_M_DC-14-17614-40-022.png', 'binary_scenario\\\\train\\\\40X\\\\malignant\\\\SOB_M_DC-14-17614-40-023.png', 'binary_scenario\\\\train\\\\40X\\\\malignant\\\\SOB_M_DC-14-17614-40-025.png', 'binary_scenario\\\\train\\\\40X\\\\malignant\\\\SOB_M_DC-14-17614-40-026.png', 'binary_scenario\\\\train\\\\40X\\\\malignant\\\\SOB_M_DC-14-17614-40-027.png', 'binary_scenario\\\\train\\\\40X\\\\malignant\\\\SOB_M_DC-14-17614-40-028.png', 'binary_scenario\\\\train\\\\40X\\\\malignant\\\\SOB_M_DC-14-17614-40-029.png', 'binary_scenario\\\\train\\\\40X\\\\malignant\\\\SOB_M_DC-14-17614-40-030.png', 'binary_scenario\\\\train\\\\40X\\\\malignant\\\\SOB_M_DC-14-17614-40-031.png', 'binary_scenario\\\\train\\\\40X\\\\malignant\\\\SOB_M_DC-14-17614-40-032.png', 'binary_scenario\\\\train\\\\40X\\\\malignant\\\\SOB_M_DC-14-17614-40-033.png', 'binary_scenario\\\\train\\\\40X\\\\malignant\\\\SOB_M_DC-14-17614-40-034.png', 'binary_scenario\\\\train\\\\40X\\\\malignant\\\\SOB_M_DC-14-17614-40-035.png', 'binary_scenario\\\\train\\\\40X\\\\malignant\\\\SOB_M_DC-14-17614-40-036.png', 'binary_scenario\\\\train\\\\40X\\\\malignant\\\\SOB_M_DC-14-17614-40-037.png', 'binary_scenario\\\\train\\\\40X\\\\malignant\\\\SOB_M_DC-14-17614-40-038.png', 'binary_scenario\\\\train\\\\40X\\\\malignant\\\\SOB_M_DC-14-17614-40-039.png', 'binary_scenario\\\\train\\\\40X\\\\malignant\\\\SOB_M_DC-14-17901-40-001.png', 'binary_scenario\\\\train\\\\40X\\\\malignant\\\\SOB_M_DC-14-17901-40-002.png', 'binary_scenario\\\\train\\\\40X\\\\malignant\\\\SOB_M_DC-14-17901-40-005.png', 'binary_scenario\\\\train\\\\40X\\\\malignant\\\\SOB_M_DC-14-17901-40-006.png', 'binary_scenario\\\\train\\\\40X\\\\malignant\\\\SOB_M_DC-14-17901-40-008.png', 'binary_scenario\\\\train\\\\40X\\\\malignant\\\\SOB_M_DC-14-17901-40-012.png', 'binary_scenario\\\\train\\\\40X\\\\malignant\\\\SOB_M_DC-14-17901-40-013.png', 'binary_scenario\\\\train\\\\40X\\\\malignant\\\\SOB_M_DC-14-17901-40-015.png', 'binary_scenario\\\\train\\\\40X\\\\malignant\\\\SOB_M_DC-14-17901-40-016.png', 'binary_scenario\\\\train\\\\40X\\\\malignant\\\\SOB_M_DC-14-17901-40-017.png', 'binary_scenario\\\\train\\\\40X\\\\malignant\\\\SOB_M_DC-14-17901-40-018.png', 'binary_scenario\\\\train\\\\40X\\\\malignant\\\\SOB_M_DC-14-17901-40-019.png', 'binary_scenario\\\\train\\\\40X\\\\malignant\\\\SOB_M_DC-14-17901-40-020.png', 'binary_scenario\\\\train\\\\40X\\\\malignant\\\\SOB_M_DC-14-17901-40-022.png', 'binary_scenario\\\\train\\\\40X\\\\malignant\\\\SOB_M_DC-14-17901-40-023.png', 'binary_scenario\\\\train\\\\40X\\\\malignant\\\\SOB_M_DC-14-17901-40-026.png', 'binary_scenario\\\\train\\\\40X\\\\malignant\\\\SOB_M_DC-14-17915-40-001.png', 'binary_scenario\\\\train\\\\40X\\\\malignant\\\\SOB_M_DC-14-17915-40-002.png', 'binary_scenario\\\\train\\\\40X\\\\malignant\\\\SOB_M_DC-14-17915-40-003.png', 'binary_scenario\\\\train\\\\40X\\\\malignant\\\\SOB_M_DC-14-17915-40-005.png', 'binary_scenario\\\\train\\\\40X\\\\malignant\\\\SOB_M_DC-14-17915-40-006.png', 'binary_scenario\\\\train\\\\40X\\\\malignant\\\\SOB_M_DC-14-17915-40-008.png', 'binary_scenario\\\\train\\\\40X\\\\malignant\\\\SOB_M_DC-14-17915-40-009.png', 'binary_scenario\\\\train\\\\40X\\\\malignant\\\\SOB_M_DC-14-17915-40-010.png', 'binary_scenario\\\\train\\\\40X\\\\malignant\\\\SOB_M_DC-14-17915-40-011.png', 'binary_scenario\\\\train\\\\40X\\\\malignant\\\\SOB_M_DC-14-17915-40-012.png', 'binary_scenario\\\\train\\\\40X\\\\malignant\\\\SOB_M_DC-14-17915-40-013.png', 'binary_scenario\\\\train\\\\40X\\\\malignant\\\\SOB_M_DC-14-17915-40-014.png', 'binary_scenario\\\\train\\\\40X\\\\malignant\\\\SOB_M_DC-14-17915-40-015.png', 'binary_scenario\\\\train\\\\40X\\\\malignant\\\\SOB_M_DC-14-17915-40-016.png', 'binary_scenario\\\\train\\\\40X\\\\malignant\\\\SOB_M_DC-14-17915-40-017.png', 'binary_scenario\\\\train\\\\40X\\\\malignant\\\\SOB_M_DC-14-17915-40-018.png', 'binary_scenario\\\\train\\\\40X\\\\malignant\\\\SOB_M_DC-14-17915-40-020.png', 'binary_scenario\\\\train\\\\40X\\\\malignant\\\\SOB_M_DC-14-17915-40-021.png', 'binary_scenario\\\\train\\\\40X\\\\malignant\\\\SOB_M_DC-14-17915-40-022.png', 'binary_scenario\\\\train\\\\40X\\\\malignant\\\\SOB_M_DC-14-17915-40-023.png', 'binary_scenario\\\\train\\\\40X\\\\malignant\\\\SOB_M_DC-14-17915-40-024.png', 'binary_scenario\\\\train\\\\40X\\\\malignant\\\\SOB_M_DC-14-17915-40-025.png', 'binary_scenario\\\\train\\\\40X\\\\malignant\\\\SOB_M_DC-14-18650-40-001.png', 'binary_scenario\\\\train\\\\40X\\\\malignant\\\\SOB_M_DC-14-18650-40-002.png', 'binary_scenario\\\\train\\\\40X\\\\malignant\\\\SOB_M_DC-14-18650-40-003.png', 'binary_scenario\\\\train\\\\40X\\\\malignant\\\\SOB_M_DC-14-18650-40-004.png', 'binary_scenario\\\\train\\\\40X\\\\malignant\\\\SOB_M_DC-14-18650-40-005.png', 'binary_scenario\\\\train\\\\40X\\\\malignant\\\\SOB_M_DC-14-18650-40-006.png', 'binary_scenario\\\\train\\\\40X\\\\malignant\\\\SOB_M_DC-14-18650-40-007.png', 'binary_scenario\\\\train\\\\40X\\\\malignant\\\\SOB_M_DC-14-18650-40-008.png', 'binary_scenario\\\\train\\\\40X\\\\malignant\\\\SOB_M_DC-14-18650-40-009.png', 'binary_scenario\\\\train\\\\40X\\\\malignant\\\\SOB_M_DC-14-18650-40-010.png', 'binary_scenario\\\\train\\\\40X\\\\malignant\\\\SOB_M_DC-14-18650-40-011.png', 'binary_scenario\\\\train\\\\40X\\\\malignant\\\\SOB_M_DC-14-18650-40-012.png', 'binary_scenario\\\\train\\\\40X\\\\malignant\\\\SOB_M_DC-14-18650-40-013.png', 'binary_scenario\\\\train\\\\40X\\\\malignant\\\\SOB_M_DC-14-18650-40-015.png', 'binary_scenario\\\\train\\\\40X\\\\malignant\\\\SOB_M_DC-14-18650-40-016.png', 'binary_scenario\\\\train\\\\40X\\\\malignant\\\\SOB_M_DC-14-18650-40-018.png', 'binary_scenario\\\\train\\\\40X\\\\malignant\\\\SOB_M_DC-14-18650-40-020.png', 'binary_scenario\\\\train\\\\40X\\\\malignant\\\\SOB_M_DC-14-18650-40-021.png', 'binary_scenario\\\\train\\\\40X\\\\malignant\\\\SOB_M_DC-14-18650-40-022.png', 'binary_scenario\\\\train\\\\40X\\\\malignant\\\\SOB_M_DC-14-18650-40-023.png', 'binary_scenario\\\\train\\\\40X\\\\malignant\\\\SOB_M_DC-14-18650-40-024.png', 'binary_scenario\\\\train\\\\40X\\\\malignant\\\\SOB_M_DC-14-18650-40-025.png', 'binary_scenario\\\\train\\\\40X\\\\malignant\\\\SOB_M_DC-14-18650-40-026.png', 'binary_scenario\\\\train\\\\40X\\\\malignant\\\\SOB_M_DC-14-18650-40-027.png', 'binary_scenario\\\\train\\\\40X\\\\malignant\\\\SOB_M_DC-14-18650-40-028.png', 'binary_scenario\\\\train\\\\40X\\\\malignant\\\\SOB_M_DC-14-18650-40-029.png', 'binary_scenario\\\\train\\\\40X\\\\malignant\\\\SOB_M_DC-14-20629-40-001.png', 'binary_scenario\\\\train\\\\40X\\\\malignant\\\\SOB_M_DC-14-20629-40-002.png', 'binary_scenario\\\\train\\\\40X\\\\malignant\\\\SOB_M_DC-14-20629-40-003.png', 'binary_scenario\\\\train\\\\40X\\\\malignant\\\\SOB_M_DC-14-20629-40-005.png', 'binary_scenario\\\\train\\\\40X\\\\malignant\\\\SOB_M_DC-14-20629-40-006.png', 'binary_scenario\\\\train\\\\40X\\\\malignant\\\\SOB_M_DC-14-20629-40-008.png', 'binary_scenario\\\\train\\\\40X\\\\malignant\\\\SOB_M_DC-14-20629-40-009.png', 'binary_scenario\\\\train\\\\40X\\\\malignant\\\\SOB_M_DC-14-20629-40-011.png', 'binary_scenario\\\\train\\\\40X\\\\malignant\\\\SOB_M_DC-14-20629-40-012.png', 'binary_scenario\\\\train\\\\40X\\\\malignant\\\\SOB_M_DC-14-20629-40-014.png', 'binary_scenario\\\\train\\\\40X\\\\malignant\\\\SOB_M_DC-14-20629-40-015.png', 'binary_scenario\\\\train\\\\40X\\\\malignant\\\\SOB_M_DC-14-20629-40-016.png', 'binary_scenario\\\\train\\\\40X\\\\malignant\\\\SOB_M_DC-14-20629-40-017.png', 'binary_scenario\\\\train\\\\40X\\\\malignant\\\\SOB_M_DC-14-20629-40-018.png', 'binary_scenario\\\\train\\\\40X\\\\malignant\\\\SOB_M_DC-14-20629-40-019.png', 'binary_scenario\\\\train\\\\40X\\\\malignant\\\\SOB_M_DC-14-20629-40-020.png', 'binary_scenario\\\\train\\\\40X\\\\malignant\\\\SOB_M_DC-14-20629-40-022.png', 'binary_scenario\\\\train\\\\40X\\\\malignant\\\\SOB_M_DC-14-20629-40-024.png', 'binary_scenario\\\\train\\\\40X\\\\malignant\\\\SOB_M_DC-14-20629-40-025.png', 'binary_scenario\\\\train\\\\40X\\\\malignant\\\\SOB_M_DC-14-20629-40-026.png', 'binary_scenario\\\\train\\\\40X\\\\malignant\\\\SOB_M_DC-14-20629-40-027.png', 'binary_scenario\\\\train\\\\40X\\\\malignant\\\\SOB_M_DC-14-20629-40-029.png', 'binary_scenario\\\\train\\\\40X\\\\malignant\\\\SOB_M_DC-14-20629-40-030.png', 'binary_scenario\\\\train\\\\40X\\\\malignant\\\\SOB_M_DC-14-20629-40-031.png', 'binary_scenario\\\\train\\\\40X\\\\malignant\\\\SOB_M_DC-14-20629-40-033.png', 'binary_scenario\\\\train\\\\40X\\\\malignant\\\\SOB_M_DC-14-20629-40-034.png', 'binary_scenario\\\\train\\\\40X\\\\malignant\\\\SOB_M_DC-14-20629-40-035.png', 'binary_scenario\\\\train\\\\40X\\\\malignant\\\\SOB_M_DC-14-20629-40-036.png', 'binary_scenario\\\\train\\\\40X\\\\malignant\\\\SOB_M_DC-14-20636-40-002.png', 'binary_scenario\\\\train\\\\40X\\\\malignant\\\\SOB_M_DC-14-20636-40-003.png', 'binary_scenario\\\\train\\\\40X\\\\malignant\\\\SOB_M_DC-14-20636-40-004.png', 'binary_scenario\\\\train\\\\40X\\\\malignant\\\\SOB_M_DC-14-20636-40-005.png', 'binary_scenario\\\\train\\\\40X\\\\malignant\\\\SOB_M_DC-14-20636-40-006.png', 'binary_scenario\\\\train\\\\40X\\\\malignant\\\\SOB_M_DC-14-20636-40-007.png', 'binary_scenario\\\\train\\\\40X\\\\malignant\\\\SOB_M_DC-14-20636-40-008.png', 'binary_scenario\\\\train\\\\40X\\\\malignant\\\\SOB_M_DC-14-20636-40-010.png', 'binary_scenario\\\\train\\\\40X\\\\malignant\\\\SOB_M_DC-14-20636-40-011.png', 'binary_scenario\\\\train\\\\40X\\\\malignant\\\\SOB_M_DC-14-20636-40-012.png', 'binary_scenario\\\\train\\\\40X\\\\malignant\\\\SOB_M_DC-14-20636-40-013.png', 'binary_scenario\\\\train\\\\40X\\\\malignant\\\\SOB_M_DC-14-20636-40-014.png', 'binary_scenario\\\\train\\\\40X\\\\malignant\\\\SOB_M_DC-14-20636-40-015.png', 'binary_scenario\\\\train\\\\40X\\\\malignant\\\\SOB_M_DC-14-20636-40-016.png', 'binary_scenario\\\\train\\\\40X\\\\malignant\\\\SOB_M_DC-14-20636-40-017.png', 'binary_scenario\\\\train\\\\40X\\\\malignant\\\\SOB_M_DC-14-20636-40-019.png', 'binary_scenario\\\\train\\\\40X\\\\malignant\\\\SOB_M_DC-14-20636-40-021.png', 'binary_scenario\\\\train\\\\40X\\\\malignant\\\\SOB_M_DC-14-20636-40-022.png', 'binary_scenario\\\\train\\\\40X\\\\malignant\\\\SOB_M_DC-14-20636-40-023.png', 'binary_scenario\\\\train\\\\40X\\\\malignant\\\\SOB_M_DC-14-20636-40-024.png', 'binary_scenario\\\\train\\\\40X\\\\malignant\\\\SOB_M_DC-14-2523-40-010.png', 'binary_scenario\\\\train\\\\40X\\\\malignant\\\\SOB_M_DC-14-2523-40-011.png', 'binary_scenario\\\\train\\\\40X\\\\malignant\\\\SOB_M_DC-14-2523-40-012.png', 'binary_scenario\\\\train\\\\40X\\\\malignant\\\\SOB_M_DC-14-2523-40-013.png', 'binary_scenario\\\\train\\\\40X\\\\malignant\\\\SOB_M_DC-14-2523-40-015.png', 'binary_scenario\\\\train\\\\40X\\\\malignant\\\\SOB_M_DC-14-2523-40-016.png', 'binary_scenario\\\\train\\\\40X\\\\malignant\\\\SOB_M_DC-14-2523-40-017.png', 'binary_scenario\\\\train\\\\40X\\\\malignant\\\\SOB_M_DC-14-2523-40-018.png', 'binary_scenario\\\\train\\\\40X\\\\malignant\\\\SOB_M_DC-14-2523-40-019.png', 'binary_scenario\\\\train\\\\40X\\\\malignant\\\\SOB_M_DC-14-2773-40-001.png', 'binary_scenario\\\\train\\\\40X\\\\malignant\\\\SOB_M_DC-14-2773-40-002.png', 'binary_scenario\\\\train\\\\40X\\\\malignant\\\\SOB_M_DC-14-2773-40-003.png', 'binary_scenario\\\\train\\\\40X\\\\malignant\\\\SOB_M_DC-14-2773-40-004.png', 'binary_scenario\\\\train\\\\40X\\\\malignant\\\\SOB_M_DC-14-2773-40-005.png', 'binary_scenario\\\\train\\\\40X\\\\malignant\\\\SOB_M_DC-14-2773-40-008.png', 'binary_scenario\\\\train\\\\40X\\\\malignant\\\\SOB_M_DC-14-2773-40-009.png', 'binary_scenario\\\\train\\\\40X\\\\malignant\\\\SOB_M_DC-14-2773-40-011.png', 'binary_scenario\\\\train\\\\40X\\\\malignant\\\\SOB_M_DC-14-2773-40-013.png', 'binary_scenario\\\\train\\\\40X\\\\malignant\\\\SOB_M_DC-14-2773-40-014.png', 'binary_scenario\\\\train\\\\40X\\\\malignant\\\\SOB_M_DC-14-2773-40-018.png', 'binary_scenario\\\\train\\\\40X\\\\malignant\\\\SOB_M_DC-14-2773-40-019.png', 'binary_scenario\\\\train\\\\40X\\\\malignant\\\\SOB_M_DC-14-2773-40-022.png', 'binary_scenario\\\\train\\\\40X\\\\malignant\\\\SOB_M_DC-14-2773-40-023.png', 'binary_scenario\\\\train\\\\40X\\\\malignant\\\\SOB_M_DC-14-2773-40-024.png', 'binary_scenario\\\\train\\\\40X\\\\malignant\\\\SOB_M_DC-14-2773-40-025.png', 'binary_scenario\\\\train\\\\40X\\\\malignant\\\\SOB_M_DC-14-2773-40-027.png', 'binary_scenario\\\\train\\\\40X\\\\malignant\\\\SOB_M_DC-14-2773-40-028.png', 'binary_scenario\\\\train\\\\40X\\\\malignant\\\\SOB_M_DC-14-2980-40-001.png', 'binary_scenario\\\\train\\\\40X\\\\malignant\\\\SOB_M_DC-14-2980-40-002.png', 'binary_scenario\\\\train\\\\40X\\\\malignant\\\\SOB_M_DC-14-2980-40-004.png', 'binary_scenario\\\\train\\\\40X\\\\malignant\\\\SOB_M_DC-14-2980-40-005.png', 'binary_scenario\\\\train\\\\40X\\\\malignant\\\\SOB_M_DC-14-2980-40-006.png', 'binary_scenario\\\\train\\\\40X\\\\malignant\\\\SOB_M_DC-14-2980-40-007.png', 'binary_scenario\\\\train\\\\40X\\\\malignant\\\\SOB_M_DC-14-2980-40-009.png', 'binary_scenario\\\\train\\\\40X\\\\malignant\\\\SOB_M_DC-14-2980-40-010.png', 'binary_scenario\\\\train\\\\40X\\\\malignant\\\\SOB_M_DC-14-2980-40-012.png', 'binary_scenario\\\\train\\\\40X\\\\malignant\\\\SOB_M_DC-14-2980-40-013.png', 'binary_scenario\\\\train\\\\40X\\\\malignant\\\\SOB_M_DC-14-2980-40-014.png', 'binary_scenario\\\\train\\\\40X\\\\malignant\\\\SOB_M_DC-14-2980-40-015.png', 'binary_scenario\\\\train\\\\40X\\\\malignant\\\\SOB_M_DC-14-2980-40-016.png', 'binary_scenario\\\\train\\\\40X\\\\malignant\\\\SOB_M_DC-14-2980-40-017.png', 'binary_scenario\\\\train\\\\40X\\\\malignant\\\\SOB_M_DC-14-2980-40-018.png', 'binary_scenario\\\\train\\\\40X\\\\malignant\\\\SOB_M_DC-14-2980-40-019.png', 'binary_scenario\\\\train\\\\40X\\\\malignant\\\\SOB_M_DC-14-2980-40-020.png', 'binary_scenario\\\\train\\\\40X\\\\malignant\\\\SOB_M_DC-14-2985-40-001.png', 'binary_scenario\\\\train\\\\40X\\\\malignant\\\\SOB_M_DC-14-2985-40-004.png', 'binary_scenario\\\\train\\\\40X\\\\malignant\\\\SOB_M_DC-14-2985-40-005.png', 'binary_scenario\\\\train\\\\40X\\\\malignant\\\\SOB_M_DC-14-2985-40-006.png', 'binary_scenario\\\\train\\\\40X\\\\malignant\\\\SOB_M_DC-14-2985-40-007.png', 'binary_scenario\\\\train\\\\40X\\\\malignant\\\\SOB_M_DC-14-2985-40-008.png', 'binary_scenario\\\\train\\\\40X\\\\malignant\\\\SOB_M_DC-14-2985-40-009.png', 'binary_scenario\\\\train\\\\40X\\\\malignant\\\\SOB_M_DC-14-2985-40-010.png', 'binary_scenario\\\\train\\\\40X\\\\malignant\\\\SOB_M_DC-14-2985-40-011.png', 'binary_scenario\\\\train\\\\40X\\\\malignant\\\\SOB_M_DC-14-2985-40-012.png', 'binary_scenario\\\\train\\\\40X\\\\malignant\\\\SOB_M_DC-14-2985-40-013.png', 'binary_scenario\\\\train\\\\40X\\\\malignant\\\\SOB_M_DC-14-2985-40-015.png', 'binary_scenario\\\\train\\\\40X\\\\malignant\\\\SOB_M_DC-14-2985-40-017.png', 'binary_scenario\\\\train\\\\40X\\\\malignant\\\\SOB_M_DC-14-2985-40-018.png', 'binary_scenario\\\\train\\\\40X\\\\malignant\\\\SOB_M_DC-14-2985-40-019.png', 'binary_scenario\\\\train\\\\40X\\\\malignant\\\\SOB_M_DC-14-2985-40-020.png', 'binary_scenario\\\\train\\\\40X\\\\malignant\\\\SOB_M_DC-14-3909-40-001.png', 'binary_scenario\\\\train\\\\40X\\\\malignant\\\\SOB_M_DC-14-3909-40-002.png', 'binary_scenario\\\\train\\\\40X\\\\malignant\\\\SOB_M_DC-14-3909-40-003.png', 'binary_scenario\\\\train\\\\40X\\\\malignant\\\\SOB_M_DC-14-3909-40-004.png', 'binary_scenario\\\\train\\\\40X\\\\malignant\\\\SOB_M_DC-14-3909-40-005.png', 'binary_scenario\\\\train\\\\40X\\\\malignant\\\\SOB_M_DC-14-3909-40-006.png', 'binary_scenario\\\\train\\\\40X\\\\malignant\\\\SOB_M_DC-14-3909-40-007.png', 'binary_scenario\\\\train\\\\40X\\\\malignant\\\\SOB_M_DC-14-3909-40-008.png', 'binary_scenario\\\\train\\\\40X\\\\malignant\\\\SOB_M_DC-14-3909-40-009.png', 'binary_scenario\\\\train\\\\40X\\\\malignant\\\\SOB_M_DC-14-3909-40-010.png', 'binary_scenario\\\\train\\\\40X\\\\malignant\\\\SOB_M_DC-14-3909-40-011.png', 'binary_scenario\\\\train\\\\40X\\\\malignant\\\\SOB_M_DC-14-3909-40-012.png', 'binary_scenario\\\\train\\\\40X\\\\malignant\\\\SOB_M_DC-14-3909-40-013.png', 'binary_scenario\\\\train\\\\40X\\\\malignant\\\\SOB_M_DC-14-3909-40-014.png', 'binary_scenario\\\\train\\\\40X\\\\malignant\\\\SOB_M_DC-14-3909-40-015.png', 'binary_scenario\\\\train\\\\40X\\\\malignant\\\\SOB_M_DC-14-3909-40-016.png', 'binary_scenario\\\\train\\\\40X\\\\malignant\\\\SOB_M_DC-14-3909-40-018.png', 'binary_scenario\\\\train\\\\40X\\\\malignant\\\\SOB_M_DC-14-3909-40-019.png', 'binary_scenario\\\\train\\\\40X\\\\malignant\\\\SOB_M_DC-14-3909-40-020.png', 'binary_scenario\\\\train\\\\40X\\\\malignant\\\\SOB_M_DC-14-3909-40-021.png', 'binary_scenario\\\\train\\\\40X\\\\malignant\\\\SOB_M_DC-14-3909-40-022.png', 'binary_scenario\\\\train\\\\40X\\\\malignant\\\\SOB_M_DC-14-3909-40-023.png', 'binary_scenario\\\\train\\\\40X\\\\malignant\\\\SOB_M_DC-14-3909-40-025.png', 'binary_scenario\\\\train\\\\40X\\\\malignant\\\\SOB_M_DC-14-3909-40-026.png', 'binary_scenario\\\\train\\\\40X\\\\malignant\\\\SOB_M_DC-14-4364-40-001.png', 'binary_scenario\\\\train\\\\40X\\\\malignant\\\\SOB_M_DC-14-4372-40-002.png', 'binary_scenario\\\\train\\\\40X\\\\malignant\\\\SOB_M_DC-14-4372-40-003.png', 'binary_scenario\\\\train\\\\40X\\\\malignant\\\\SOB_M_DC-14-4372-40-004.png', 'binary_scenario\\\\train\\\\40X\\\\malignant\\\\SOB_M_DC-14-4372-40-005.png', 'binary_scenario\\\\train\\\\40X\\\\malignant\\\\SOB_M_DC-14-4372-40-006.png', 'binary_scenario\\\\train\\\\40X\\\\malignant\\\\SOB_M_DC-14-4372-40-007.png', 'binary_scenario\\\\train\\\\40X\\\\malignant\\\\SOB_M_DC-14-4372-40-008.png', 'binary_scenario\\\\train\\\\40X\\\\malignant\\\\SOB_M_DC-14-4372-40-009.png', 'binary_scenario\\\\train\\\\40X\\\\malignant\\\\SOB_M_DC-14-4372-40-010.png', 'binary_scenario\\\\train\\\\40X\\\\malignant\\\\SOB_M_DC-14-4372-40-012.png', 'binary_scenario\\\\train\\\\40X\\\\malignant\\\\SOB_M_DC-14-4372-40-013.png', 'binary_scenario\\\\train\\\\40X\\\\malignant\\\\SOB_M_DC-14-4372-40-015.png', 'binary_scenario\\\\train\\\\40X\\\\malignant\\\\SOB_M_DC-14-4372-40-016.png', 'binary_scenario\\\\train\\\\40X\\\\malignant\\\\SOB_M_DC-14-4372-40-017.png', 'binary_scenario\\\\train\\\\40X\\\\malignant\\\\SOB_M_DC-14-4372-40-018.png', 'binary_scenario\\\\train\\\\40X\\\\malignant\\\\SOB_M_DC-14-4372-40-019.png', 'binary_scenario\\\\train\\\\40X\\\\malignant\\\\SOB_M_DC-14-4372-40-020.png', 'binary_scenario\\\\train\\\\40X\\\\malignant\\\\SOB_M_DC-14-5287-40-001.png', 'binary_scenario\\\\train\\\\40X\\\\malignant\\\\SOB_M_DC-14-5287-40-002.png', 'binary_scenario\\\\train\\\\40X\\\\malignant\\\\SOB_M_DC-14-5287-40-003.png', 'binary_scenario\\\\train\\\\40X\\\\malignant\\\\SOB_M_DC-14-5287-40-004.png', 'binary_scenario\\\\train\\\\40X\\\\malignant\\\\SOB_M_DC-14-5287-40-006.png', 'binary_scenario\\\\train\\\\40X\\\\malignant\\\\SOB_M_DC-14-5287-40-007.png', 'binary_scenario\\\\train\\\\40X\\\\malignant\\\\SOB_M_DC-14-5287-40-008.png', 'binary_scenario\\\\train\\\\40X\\\\malignant\\\\SOB_M_DC-14-5287-40-009.png', 'binary_scenario\\\\train\\\\40X\\\\malignant\\\\SOB_M_DC-14-5287-40-010.png', 'binary_scenario\\\\train\\\\40X\\\\malignant\\\\SOB_M_DC-14-5287-40-011.png', 'binary_scenario\\\\train\\\\40X\\\\malignant\\\\SOB_M_DC-14-5287-40-012.png', 'binary_scenario\\\\train\\\\40X\\\\malignant\\\\SOB_M_DC-14-5287-40-013.png', 'binary_scenario\\\\train\\\\40X\\\\malignant\\\\SOB_M_DC-14-5287-40-014.png', 'binary_scenario\\\\train\\\\40X\\\\malignant\\\\SOB_M_DC-14-5287-40-015.png', 'binary_scenario\\\\train\\\\40X\\\\malignant\\\\SOB_M_DC-14-5287-40-016.png', 'binary_scenario\\\\train\\\\40X\\\\malignant\\\\SOB_M_DC-14-5287-40-017.png', 'binary_scenario\\\\train\\\\40X\\\\malignant\\\\SOB_M_DC-14-5287-40-018.png', 'binary_scenario\\\\train\\\\40X\\\\malignant\\\\SOB_M_DC-14-5287-40-019.png', 'binary_scenario\\\\train\\\\40X\\\\malignant\\\\SOB_M_DC-14-5287-40-020.png', 'binary_scenario\\\\train\\\\40X\\\\malignant\\\\SOB_M_DC-14-5287-40-021.png', 'binary_scenario\\\\train\\\\40X\\\\malignant\\\\SOB_M_DC-14-5287-40-022.png', 'binary_scenario\\\\train\\\\40X\\\\malignant\\\\SOB_M_DC-14-5287-40-023.png', 'binary_scenario\\\\train\\\\40X\\\\malignant\\\\SOB_M_DC-14-5694-40-001.png', 'binary_scenario\\\\train\\\\40X\\\\malignant\\\\SOB_M_DC-14-5694-40-002.png', 'binary_scenario\\\\train\\\\40X\\\\malignant\\\\SOB_M_DC-14-5694-40-004.png', 'binary_scenario\\\\train\\\\40X\\\\malignant\\\\SOB_M_DC-14-5694-40-005.png', 'binary_scenario\\\\train\\\\40X\\\\malignant\\\\SOB_M_DC-14-5694-40-006.png', 'binary_scenario\\\\train\\\\40X\\\\malignant\\\\SOB_M_DC-14-5694-40-007.png', 'binary_scenario\\\\train\\\\40X\\\\malignant\\\\SOB_M_DC-14-5694-40-008.png', 'binary_scenario\\\\train\\\\40X\\\\malignant\\\\SOB_M_DC-14-5694-40-009.png', 'binary_scenario\\\\train\\\\40X\\\\malignant\\\\SOB_M_DC-14-5694-40-012.png', 'binary_scenario\\\\train\\\\40X\\\\malignant\\\\SOB_M_DC-14-5694-40-013.png', 'binary_scenario\\\\train\\\\40X\\\\malignant\\\\SOB_M_DC-14-5694-40-014.png', 'binary_scenario\\\\train\\\\40X\\\\malignant\\\\SOB_M_DC-14-5694-40-016.png', 'binary_scenario\\\\train\\\\40X\\\\malignant\\\\SOB_M_DC-14-5694-40-017.png', 'binary_scenario\\\\train\\\\40X\\\\malignant\\\\SOB_M_DC-14-5694-40-018.png', 'binary_scenario\\\\train\\\\40X\\\\malignant\\\\SOB_M_DC-14-5694-40-019.png', 'binary_scenario\\\\train\\\\40X\\\\malignant\\\\SOB_M_DC-14-5694-40-020.png', 'binary_scenario\\\\train\\\\40X\\\\malignant\\\\SOB_M_DC-14-5694-40-021.png', 'binary_scenario\\\\train\\\\40X\\\\malignant\\\\SOB_M_DC-14-5694-40-022.png', 'binary_scenario\\\\train\\\\40X\\\\malignant\\\\SOB_M_DC-14-5695-40-001.png', 'binary_scenario\\\\train\\\\40X\\\\malignant\\\\SOB_M_DC-14-5695-40-002.png', 'binary_scenario\\\\train\\\\40X\\\\malignant\\\\SOB_M_DC-14-5695-40-003.png', 'binary_scenario\\\\train\\\\40X\\\\malignant\\\\SOB_M_DC-14-5695-40-004.png', 'binary_scenario\\\\train\\\\40X\\\\malignant\\\\SOB_M_DC-14-5695-40-006.png', 'binary_scenario\\\\train\\\\40X\\\\malignant\\\\SOB_M_DC-14-5695-40-007.png', 'binary_scenario\\\\train\\\\40X\\\\malignant\\\\SOB_M_DC-14-5695-40-008.png', 'binary_scenario\\\\train\\\\40X\\\\malignant\\\\SOB_M_DC-14-5695-40-009.png', 'binary_scenario\\\\train\\\\40X\\\\malignant\\\\SOB_M_DC-14-5695-40-011.png', 'binary_scenario\\\\train\\\\40X\\\\malignant\\\\SOB_M_DC-14-5695-40-012.png', 'binary_scenario\\\\train\\\\40X\\\\malignant\\\\SOB_M_DC-14-5695-40-013.png', 'binary_scenario\\\\train\\\\40X\\\\malignant\\\\SOB_M_DC-14-5695-40-015.png', 'binary_scenario\\\\train\\\\40X\\\\malignant\\\\SOB_M_DC-14-5695-40-016.png', 'binary_scenario\\\\train\\\\40X\\\\malignant\\\\SOB_M_DC-14-5695-40-017.png', 'binary_scenario\\\\train\\\\40X\\\\malignant\\\\SOB_M_DC-14-5695-40-018.png', 'binary_scenario\\\\train\\\\40X\\\\malignant\\\\SOB_M_DC-14-5695-40-019.png', 'binary_scenario\\\\train\\\\40X\\\\malignant\\\\SOB_M_DC-14-5695-40-020.png', 'binary_scenario\\\\train\\\\40X\\\\malignant\\\\SOB_M_DC-14-5695-40-023.png', 'binary_scenario\\\\train\\\\40X\\\\malignant\\\\SOB_M_DC-14-6241-40-002.png', 'binary_scenario\\\\train\\\\40X\\\\malignant\\\\SOB_M_DC-14-6241-40-004.png', 'binary_scenario\\\\train\\\\40X\\\\malignant\\\\SOB_M_DC-14-6241-40-006.png', 'binary_scenario\\\\train\\\\40X\\\\malignant\\\\SOB_M_DC-14-6241-40-010.png', 'binary_scenario\\\\train\\\\40X\\\\malignant\\\\SOB_M_DC-14-6241-40-012.png', 'binary_scenario\\\\train\\\\40X\\\\malignant\\\\SOB_M_DC-14-6241-40-014.png', 'binary_scenario\\\\train\\\\40X\\\\malignant\\\\SOB_M_DC-14-6241-40-015.png', 'binary_scenario\\\\train\\\\40X\\\\malignant\\\\SOB_M_DC-14-6241-40-017.png', 'binary_scenario\\\\train\\\\40X\\\\malignant\\\\SOB_M_DC-14-6241-40-019.png', 'binary_scenario\\\\train\\\\40X\\\\malignant\\\\SOB_M_DC-14-6241-40-022.png', 'binary_scenario\\\\train\\\\40X\\\\malignant\\\\SOB_M_DC-14-6241-40-026.png', 'binary_scenario\\\\train\\\\40X\\\\malignant\\\\SOB_M_DC-14-6241-40-028.png', 'binary_scenario\\\\train\\\\40X\\\\malignant\\\\SOB_M_DC-14-6241-40-030.png', 'binary_scenario\\\\train\\\\40X\\\\malignant\\\\SOB_M_DC-14-6241-40-034.png', 'binary_scenario\\\\train\\\\40X\\\\malignant\\\\SOB_M_DC-14-6241-40-036.png', 'binary_scenario\\\\train\\\\40X\\\\malignant\\\\SOB_M_DC-14-6241-40-038.png', 'binary_scenario\\\\train\\\\40X\\\\malignant\\\\SOB_M_DC-14-6241-40-039.png', 'binary_scenario\\\\train\\\\40X\\\\malignant\\\\SOB_M_DC-14-6241-40-040.png', 'binary_scenario\\\\train\\\\40X\\\\malignant\\\\SOB_M_DC-14-6241-40-044.png', 'binary_scenario\\\\train\\\\40X\\\\malignant\\\\SOB_M_DC-14-6241-40-045.png', 'binary_scenario\\\\train\\\\40X\\\\malignant\\\\SOB_M_DC-14-6241-40-048.png', 'binary_scenario\\\\train\\\\40X\\\\malignant\\\\SOB_M_DC-14-6241-40-053.png', 'binary_scenario\\\\train\\\\40X\\\\malignant\\\\SOB_M_DC-14-6241-40-054.png', 'binary_scenario\\\\train\\\\40X\\\\malignant\\\\SOB_M_DC-14-6241-40-055.png', 'binary_scenario\\\\train\\\\40X\\\\malignant\\\\SOB_M_DC-14-8168-40-001.png', 'binary_scenario\\\\train\\\\40X\\\\malignant\\\\SOB_M_DC-14-8168-40-002.png', 'binary_scenario\\\\train\\\\40X\\\\malignant\\\\SOB_M_DC-14-8168-40-007.png', 'binary_scenario\\\\train\\\\40X\\\\malignant\\\\SOB_M_DC-14-8168-40-010.png', 'binary_scenario\\\\train\\\\40X\\\\malignant\\\\SOB_M_DC-14-9461-40-001.png', 'binary_scenario\\\\train\\\\40X\\\\malignant\\\\SOB_M_DC-14-9461-40-003.png', 'binary_scenario\\\\train\\\\40X\\\\malignant\\\\SOB_M_DC-14-9461-40-004.png', 'binary_scenario\\\\train\\\\40X\\\\malignant\\\\SOB_M_DC-14-9461-40-005.png', 'binary_scenario\\\\train\\\\40X\\\\malignant\\\\SOB_M_DC-14-9461-40-006.png', 'binary_scenario\\\\train\\\\40X\\\\malignant\\\\SOB_M_DC-14-9461-40-007.png', 'binary_scenario\\\\train\\\\40X\\\\malignant\\\\SOB_M_DC-14-9461-40-008.png', 'binary_scenario\\\\train\\\\40X\\\\malignant\\\\SOB_M_DC-14-9461-40-009.png', 'binary_scenario\\\\train\\\\40X\\\\malignant\\\\SOB_M_DC-14-9461-40-010.png', 'binary_scenario\\\\train\\\\40X\\\\malignant\\\\SOB_M_DC-14-9461-40-011.png', 'binary_scenario\\\\train\\\\40X\\\\malignant\\\\SOB_M_DC-14-9461-40-012.png', 'binary_scenario\\\\train\\\\40X\\\\malignant\\\\SOB_M_DC-14-9461-40-013.png', 'binary_scenario\\\\train\\\\40X\\\\malignant\\\\SOB_M_DC-14-9461-40-015.png', 'binary_scenario\\\\train\\\\40X\\\\malignant\\\\SOB_M_DC-14-9461-40-016.png', 'binary_scenario\\\\train\\\\40X\\\\malignant\\\\SOB_M_DC-14-9461-40-017.png', 'binary_scenario\\\\train\\\\40X\\\\malignant\\\\SOB_M_DC-14-9461-40-018.png', 'binary_scenario\\\\train\\\\40X\\\\malignant\\\\SOB_M_DC-14-9461-40-020.png', 'binary_scenario\\\\train\\\\40X\\\\malignant\\\\SOB_M_DC-14-9461-40-021.png', 'binary_scenario\\\\train\\\\40X\\\\malignant\\\\SOB_M_DC-14-9461-40-022.png', 'binary_scenario\\\\train\\\\40X\\\\malignant\\\\SOB_M_DC-14-9461-40-023.png', 'binary_scenario\\\\train\\\\40X\\\\malignant\\\\SOB_M_DC-14-9461-40-025.png', 'binary_scenario\\\\train\\\\40X\\\\malignant\\\\SOB_M_DC-14-9461-40-026.png', 'binary_scenario\\\\train\\\\40X\\\\malignant\\\\SOB_M_LC-14-12204-40-001.png', 'binary_scenario\\\\train\\\\40X\\\\malignant\\\\SOB_M_LC-14-12204-40-003.png', 'binary_scenario\\\\train\\\\40X\\\\malignant\\\\SOB_M_LC-14-12204-40-004.png', 'binary_scenario\\\\train\\\\40X\\\\malignant\\\\SOB_M_LC-14-12204-40-005.png', 'binary_scenario\\\\train\\\\40X\\\\malignant\\\\SOB_M_LC-14-12204-40-006.png', 'binary_scenario\\\\train\\\\40X\\\\malignant\\\\SOB_M_LC-14-12204-40-008.png', 'binary_scenario\\\\train\\\\40X\\\\malignant\\\\SOB_M_LC-14-12204-40-009.png', 'binary_scenario\\\\train\\\\40X\\\\malignant\\\\SOB_M_LC-14-12204-40-010.png', 'binary_scenario\\\\train\\\\40X\\\\malignant\\\\SOB_M_LC-14-12204-40-011.png', 'binary_scenario\\\\train\\\\40X\\\\malignant\\\\SOB_M_LC-14-12204-40-012.png', 'binary_scenario\\\\train\\\\40X\\\\malignant\\\\SOB_M_LC-14-12204-40-013.png', 'binary_scenario\\\\train\\\\40X\\\\malignant\\\\SOB_M_LC-14-12204-40-014.png', 'binary_scenario\\\\train\\\\40X\\\\malignant\\\\SOB_M_LC-14-12204-40-015.png', 'binary_scenario\\\\train\\\\40X\\\\malignant\\\\SOB_M_LC-14-12204-40-016.png', 'binary_scenario\\\\train\\\\40X\\\\malignant\\\\SOB_M_LC-14-12204-40-017.png', 'binary_scenario\\\\train\\\\40X\\\\malignant\\\\SOB_M_LC-14-12204-40-034.png', 'binary_scenario\\\\train\\\\40X\\\\malignant\\\\SOB_M_LC-14-12204-40-035.png', 'binary_scenario\\\\train\\\\40X\\\\malignant\\\\SOB_M_LC-14-13412-40-001.png', 'binary_scenario\\\\train\\\\40X\\\\malignant\\\\SOB_M_LC-14-13412-40-003.png', 'binary_scenario\\\\train\\\\40X\\\\malignant\\\\SOB_M_LC-14-13412-40-004.png', 'binary_scenario\\\\train\\\\40X\\\\malignant\\\\SOB_M_LC-14-13412-40-005.png', 'binary_scenario\\\\train\\\\40X\\\\malignant\\\\SOB_M_LC-14-13412-40-008.png', 'binary_scenario\\\\train\\\\40X\\\\malignant\\\\SOB_M_LC-14-13412-40-010.png', 'binary_scenario\\\\train\\\\40X\\\\malignant\\\\SOB_M_LC-14-13412-40-011.png', 'binary_scenario\\\\train\\\\40X\\\\malignant\\\\SOB_M_LC-14-13412-40-012.png', 'binary_scenario\\\\train\\\\40X\\\\malignant\\\\SOB_M_LC-14-13412-40-013.png', 'binary_scenario\\\\train\\\\40X\\\\malignant\\\\SOB_M_LC-14-13412-40-014.png', 'binary_scenario\\\\train\\\\40X\\\\malignant\\\\SOB_M_LC-14-13412-40-017.png', 'binary_scenario\\\\train\\\\40X\\\\malignant\\\\SOB_M_LC-14-13412-40-018.png', 'binary_scenario\\\\train\\\\40X\\\\malignant\\\\SOB_M_LC-14-13412-40-019.png', 'binary_scenario\\\\train\\\\40X\\\\malignant\\\\SOB_M_LC-14-13412-40-020.png', 'binary_scenario\\\\train\\\\40X\\\\malignant\\\\SOB_M_LC-14-13412-40-021.png', 'binary_scenario\\\\train\\\\40X\\\\malignant\\\\SOB_M_LC-14-13412-40-023.png', 'binary_scenario\\\\train\\\\40X\\\\malignant\\\\SOB_M_LC-14-13412-40-024.png', 'binary_scenario\\\\train\\\\40X\\\\malignant\\\\SOB_M_LC-14-13412-40-026.png', 'binary_scenario\\\\train\\\\40X\\\\malignant\\\\SOB_M_LC-14-13412-40-027.png', 'binary_scenario\\\\train\\\\40X\\\\malignant\\\\SOB_M_LC-14-13412-40-028.png', 'binary_scenario\\\\train\\\\40X\\\\malignant\\\\SOB_M_LC-14-13412-40-029.png', 'binary_scenario\\\\train\\\\40X\\\\malignant\\\\SOB_M_LC-14-13412-40-030.png', 'binary_scenario\\\\train\\\\40X\\\\malignant\\\\SOB_M_LC-14-15570-40-001.png', 'binary_scenario\\\\train\\\\40X\\\\malignant\\\\SOB_M_LC-14-15570-40-002.png', 'binary_scenario\\\\train\\\\40X\\\\malignant\\\\SOB_M_LC-14-15570-40-003.png', 'binary_scenario\\\\train\\\\40X\\\\malignant\\\\SOB_M_LC-14-15570-40-004.png', 'binary_scenario\\\\train\\\\40X\\\\malignant\\\\SOB_M_LC-14-15570-40-005.png', 'binary_scenario\\\\train\\\\40X\\\\malignant\\\\SOB_M_LC-14-15570-40-009.png', 'binary_scenario\\\\train\\\\40X\\\\malignant\\\\SOB_M_LC-14-15570-40-010.png', 'binary_scenario\\\\train\\\\40X\\\\malignant\\\\SOB_M_LC-14-15570-40-011.png', 'binary_scenario\\\\train\\\\40X\\\\malignant\\\\SOB_M_LC-14-15570-40-012.png', 'binary_scenario\\\\train\\\\40X\\\\malignant\\\\SOB_M_LC-14-15570-40-013.png', 'binary_scenario\\\\train\\\\40X\\\\malignant\\\\SOB_M_LC-14-15570-40-014.png', 'binary_scenario\\\\train\\\\40X\\\\malignant\\\\SOB_M_LC-14-15570-40-015.png', 'binary_scenario\\\\train\\\\40X\\\\malignant\\\\SOB_M_LC-14-15570-40-016.png', 'binary_scenario\\\\train\\\\40X\\\\malignant\\\\SOB_M_LC-14-15570-40-017.png', 'binary_scenario\\\\train\\\\40X\\\\malignant\\\\SOB_M_LC-14-15570-40-018.png', 'binary_scenario\\\\train\\\\40X\\\\malignant\\\\SOB_M_LC-14-15570-40-019.png', 'binary_scenario\\\\train\\\\40X\\\\malignant\\\\SOB_M_LC-14-15570-40-020.png', 'binary_scenario\\\\train\\\\40X\\\\malignant\\\\SOB_M_LC-14-15570-40-021.png', 'binary_scenario\\\\train\\\\40X\\\\malignant\\\\SOB_M_LC-14-15570-40-022.png', 'binary_scenario\\\\train\\\\40X\\\\malignant\\\\SOB_M_LC-14-15570-40-023.png', 'binary_scenario\\\\train\\\\40X\\\\malignant\\\\SOB_M_LC-14-15570-40-024.png', 'binary_scenario\\\\train\\\\40X\\\\malignant\\\\SOB_M_LC-14-15570-40-026.png', 'binary_scenario\\\\train\\\\40X\\\\malignant\\\\SOB_M_LC-14-15570-40-027.png', 'binary_scenario\\\\train\\\\40X\\\\malignant\\\\SOB_M_LC-14-15570-40-028.png', 'binary_scenario\\\\train\\\\40X\\\\malignant\\\\SOB_M_LC-14-15570-40-029.png', 'binary_scenario\\\\train\\\\40X\\\\malignant\\\\SOB_M_LC-14-15570-40-030.png', 'binary_scenario\\\\train\\\\40X\\\\malignant\\\\SOB_M_LC-14-15570-40-031.png', 'binary_scenario\\\\train\\\\40X\\\\malignant\\\\SOB_M_LC-14-15570-40-032.png', 'binary_scenario\\\\train\\\\40X\\\\malignant\\\\SOB_M_LC-14-15570-40-034.png', 'binary_scenario\\\\train\\\\40X\\\\malignant\\\\SOB_M_LC-14-15570-40-035.png', 'binary_scenario\\\\train\\\\40X\\\\malignant\\\\SOB_M_LC-14-15570-40-036.png', 'binary_scenario\\\\train\\\\40X\\\\malignant\\\\SOB_M_LC-14-15570-40-037.png', 'binary_scenario\\\\train\\\\40X\\\\malignant\\\\SOB_M_LC-14-15570-40-038.png', 'binary_scenario\\\\train\\\\40X\\\\malignant\\\\SOB_M_LC-14-15570-40-039.png', 'binary_scenario\\\\train\\\\40X\\\\malignant\\\\SOB_M_LC-14-15570-40-040.png', 'binary_scenario\\\\train\\\\40X\\\\malignant\\\\SOB_M_LC-14-15570-40-041.png', 'binary_scenario\\\\train\\\\40X\\\\malignant\\\\SOB_M_LC-14-15570-40-043.png', 'binary_scenario\\\\train\\\\40X\\\\malignant\\\\SOB_M_LC-14-15570-40-044.png', 'binary_scenario\\\\train\\\\40X\\\\malignant\\\\SOB_M_LC-14-15570-40-047.png', 'binary_scenario\\\\train\\\\40X\\\\malignant\\\\SOB_M_LC-14-15570-40-048.png', 'binary_scenario\\\\train\\\\40X\\\\malignant\\\\SOB_M_LC-14-15570-40-049.png', 'binary_scenario\\\\train\\\\40X\\\\malignant\\\\SOB_M_LC-14-15570-40-050.png', 'binary_scenario\\\\train\\\\40X\\\\malignant\\\\SOB_M_LC-14-15570-40-051.png', 'binary_scenario\\\\train\\\\40X\\\\malignant\\\\SOB_M_LC-14-15570C-40-001.png', 'binary_scenario\\\\train\\\\40X\\\\malignant\\\\SOB_M_LC-14-15570C-40-003.png', 'binary_scenario\\\\train\\\\40X\\\\malignant\\\\SOB_M_LC-14-15570C-40-004.png', 'binary_scenario\\\\train\\\\40X\\\\malignant\\\\SOB_M_LC-14-15570C-40-005.png', 'binary_scenario\\\\train\\\\40X\\\\malignant\\\\SOB_M_LC-14-15570C-40-006.png', 'binary_scenario\\\\train\\\\40X\\\\malignant\\\\SOB_M_LC-14-15570C-40-007.png', 'binary_scenario\\\\train\\\\40X\\\\malignant\\\\SOB_M_LC-14-15570C-40-008.png', 'binary_scenario\\\\train\\\\40X\\\\malignant\\\\SOB_M_LC-14-15570C-40-010.png', 'binary_scenario\\\\train\\\\40X\\\\malignant\\\\SOB_M_LC-14-15570C-40-011.png', 'binary_scenario\\\\train\\\\40X\\\\malignant\\\\SOB_M_LC-14-15570C-40-012.png', 'binary_scenario\\\\train\\\\40X\\\\malignant\\\\SOB_M_LC-14-15570C-40-014.png', 'binary_scenario\\\\train\\\\40X\\\\malignant\\\\SOB_M_LC-14-15570C-40-015.png', 'binary_scenario\\\\train\\\\40X\\\\malignant\\\\SOB_M_LC-14-15570C-40-016.png', 'binary_scenario\\\\train\\\\40X\\\\malignant\\\\SOB_M_LC-14-15570C-40-017.png', 'binary_scenario\\\\train\\\\40X\\\\malignant\\\\SOB_M_LC-14-15570C-40-018.png', 'binary_scenario\\\\train\\\\40X\\\\malignant\\\\SOB_M_LC-14-15570C-40-019.png', 'binary_scenario\\\\train\\\\40X\\\\malignant\\\\SOB_M_LC-14-15570C-40-020.png', 'binary_scenario\\\\train\\\\40X\\\\malignant\\\\SOB_M_LC-14-15570C-40-021.png', 'binary_scenario\\\\train\\\\40X\\\\malignant\\\\SOB_M_LC-14-15570C-40-022.png', 'binary_scenario\\\\train\\\\40X\\\\malignant\\\\SOB_M_LC-14-15570C-40-023.png', 'binary_scenario\\\\train\\\\40X\\\\malignant\\\\SOB_M_LC-14-15570C-40-025.png', 'binary_scenario\\\\train\\\\40X\\\\malignant\\\\SOB_M_LC-14-15570C-40-027.png', 'binary_scenario\\\\train\\\\40X\\\\malignant\\\\SOB_M_LC-14-15570C-40-030.png', 'binary_scenario\\\\train\\\\40X\\\\malignant\\\\SOB_M_LC-14-15570C-40-031.png', 'binary_scenario\\\\train\\\\40X\\\\malignant\\\\SOB_M_LC-14-16196-40-002.png', 'binary_scenario\\\\train\\\\40X\\\\malignant\\\\SOB_M_LC-14-16196-40-003.png', 'binary_scenario\\\\train\\\\40X\\\\malignant\\\\SOB_M_LC-14-16196-40-004.png', 'binary_scenario\\\\train\\\\40X\\\\malignant\\\\SOB_M_LC-14-16196-40-005.png', 'binary_scenario\\\\train\\\\40X\\\\malignant\\\\SOB_M_LC-14-16196-40-006.png', 'binary_scenario\\\\train\\\\40X\\\\malignant\\\\SOB_M_LC-14-16196-40-007.png', 'binary_scenario\\\\train\\\\40X\\\\malignant\\\\SOB_M_LC-14-16196-40-008.png', 'binary_scenario\\\\train\\\\40X\\\\malignant\\\\SOB_M_LC-14-16196-40-009.png', 'binary_scenario\\\\train\\\\40X\\\\malignant\\\\SOB_M_LC-14-16196-40-010.png', 'binary_scenario\\\\train\\\\40X\\\\malignant\\\\SOB_M_LC-14-16196-40-011.png', 'binary_scenario\\\\train\\\\40X\\\\malignant\\\\SOB_M_LC-14-16196-40-012.png', 'binary_scenario\\\\train\\\\40X\\\\malignant\\\\SOB_M_LC-14-16196-40-013.png', 'binary_scenario\\\\train\\\\40X\\\\malignant\\\\SOB_M_LC-14-16196-40-014.png', 'binary_scenario\\\\train\\\\40X\\\\malignant\\\\SOB_M_LC-14-16196-40-015.png', 'binary_scenario\\\\train\\\\40X\\\\malignant\\\\SOB_M_LC-14-16196-40-016.png', 'binary_scenario\\\\train\\\\40X\\\\malignant\\\\SOB_M_LC-14-16196-40-017.png', 'binary_scenario\\\\train\\\\40X\\\\malignant\\\\SOB_M_LC-14-16196-40-018.png', 'binary_scenario\\\\train\\\\40X\\\\malignant\\\\SOB_M_LC-14-16196-40-019.png', 'binary_scenario\\\\train\\\\40X\\\\malignant\\\\SOB_M_LC-14-16196-40-020.png', 'binary_scenario\\\\train\\\\40X\\\\malignant\\\\SOB_M_LC-14-16196-40-021.png', 'binary_scenario\\\\train\\\\40X\\\\malignant\\\\SOB_M_LC-14-16196-40-022.png', 'binary_scenario\\\\train\\\\40X\\\\malignant\\\\SOB_M_MC-14-10147-40-001.png', 'binary_scenario\\\\train\\\\40X\\\\malignant\\\\SOB_M_MC-14-10147-40-002.png', 'binary_scenario\\\\train\\\\40X\\\\malignant\\\\SOB_M_MC-14-10147-40-003.png', 'binary_scenario\\\\train\\\\40X\\\\malignant\\\\SOB_M_MC-14-10147-40-005.png', 'binary_scenario\\\\train\\\\40X\\\\malignant\\\\SOB_M_MC-14-10147-40-006.png', 'binary_scenario\\\\train\\\\40X\\\\malignant\\\\SOB_M_MC-14-10147-40-008.png', 'binary_scenario\\\\train\\\\40X\\\\malignant\\\\SOB_M_MC-14-10147-40-009.png', 'binary_scenario\\\\train\\\\40X\\\\malignant\\\\SOB_M_MC-14-10147-40-011.png', 'binary_scenario\\\\train\\\\40X\\\\malignant\\\\SOB_M_MC-14-10147-40-012.png', 'binary_scenario\\\\train\\\\40X\\\\malignant\\\\SOB_M_MC-14-10147-40-013.png', 'binary_scenario\\\\train\\\\40X\\\\malignant\\\\SOB_M_MC-14-10147-40-014.png', 'binary_scenario\\\\train\\\\40X\\\\malignant\\\\SOB_M_MC-14-10147-40-015.png', 'binary_scenario\\\\train\\\\40X\\\\malignant\\\\SOB_M_MC-14-12773-40-001.png', 'binary_scenario\\\\train\\\\40X\\\\malignant\\\\SOB_M_MC-14-12773-40-003.png', 'binary_scenario\\\\train\\\\40X\\\\malignant\\\\SOB_M_MC-14-12773-40-005.png', 'binary_scenario\\\\train\\\\40X\\\\malignant\\\\SOB_M_MC-14-12773-40-006.png', 'binary_scenario\\\\train\\\\40X\\\\malignant\\\\SOB_M_MC-14-12773-40-007.png', 'binary_scenario\\\\train\\\\40X\\\\malignant\\\\SOB_M_MC-14-12773-40-008.png', 'binary_scenario\\\\train\\\\40X\\\\malignant\\\\SOB_M_MC-14-12773-40-009.png', 'binary_scenario\\\\train\\\\40X\\\\malignant\\\\SOB_M_MC-14-12773-40-010.png', 'binary_scenario\\\\train\\\\40X\\\\malignant\\\\SOB_M_MC-14-12773-40-011.png', 'binary_scenario\\\\train\\\\40X\\\\malignant\\\\SOB_M_MC-14-12773-40-012.png', 'binary_scenario\\\\train\\\\40X\\\\malignant\\\\SOB_M_MC-14-12773-40-013.png', 'binary_scenario\\\\train\\\\40X\\\\malignant\\\\SOB_M_MC-14-12773-40-014.png', 'binary_scenario\\\\train\\\\40X\\\\malignant\\\\SOB_M_MC-14-12773-40-015.png', 'binary_scenario\\\\train\\\\40X\\\\malignant\\\\SOB_M_MC-14-12773-40-016.png', 'binary_scenario\\\\train\\\\40X\\\\malignant\\\\SOB_M_MC-14-12773-40-017.png', 'binary_scenario\\\\train\\\\40X\\\\malignant\\\\SOB_M_MC-14-12773-40-018.png', 'binary_scenario\\\\train\\\\40X\\\\malignant\\\\SOB_M_MC-14-12773-40-019.png', 'binary_scenario\\\\train\\\\40X\\\\malignant\\\\SOB_M_MC-14-12773-40-020.png', 'binary_scenario\\\\train\\\\40X\\\\malignant\\\\SOB_M_MC-14-12773-40-021.png', 'binary_scenario\\\\train\\\\40X\\\\malignant\\\\SOB_M_MC-14-12773-40-022.png', 'binary_scenario\\\\train\\\\40X\\\\malignant\\\\SOB_M_MC-14-12773-40-023.png', 'binary_scenario\\\\train\\\\40X\\\\malignant\\\\SOB_M_MC-14-12773-40-024.png', 'binary_scenario\\\\train\\\\40X\\\\malignant\\\\SOB_M_MC-14-12773-40-025.png', 'binary_scenario\\\\train\\\\40X\\\\malignant\\\\SOB_M_MC-14-12773-40-026.png', 'binary_scenario\\\\train\\\\40X\\\\malignant\\\\SOB_M_MC-14-13413-40-001.png', 'binary_scenario\\\\train\\\\40X\\\\malignant\\\\SOB_M_MC-14-13413-40-002.png', 'binary_scenario\\\\train\\\\40X\\\\malignant\\\\SOB_M_MC-14-13413-40-003.png', 'binary_scenario\\\\train\\\\40X\\\\malignant\\\\SOB_M_MC-14-13413-40-004.png', 'binary_scenario\\\\train\\\\40X\\\\malignant\\\\SOB_M_MC-14-13413-40-005.png', 'binary_scenario\\\\train\\\\40X\\\\malignant\\\\SOB_M_MC-14-13413-40-006.png', 'binary_scenario\\\\train\\\\40X\\\\malignant\\\\SOB_M_MC-14-13413-40-008.png', 'binary_scenario\\\\train\\\\40X\\\\malignant\\\\SOB_M_MC-14-13413-40-009.png', 'binary_scenario\\\\train\\\\40X\\\\malignant\\\\SOB_M_MC-14-13413-40-010.png', 'binary_scenario\\\\train\\\\40X\\\\malignant\\\\SOB_M_MC-14-13413-40-011.png', 'binary_scenario\\\\train\\\\40X\\\\malignant\\\\SOB_M_MC-14-13413-40-012.png', 'binary_scenario\\\\train\\\\40X\\\\malignant\\\\SOB_M_MC-14-13413-40-014.png', 'binary_scenario\\\\train\\\\40X\\\\malignant\\\\SOB_M_MC-14-13413-40-015.png', 'binary_scenario\\\\train\\\\40X\\\\malignant\\\\SOB_M_MC-14-13413-40-016.png', 'binary_scenario\\\\train\\\\40X\\\\malignant\\\\SOB_M_MC-14-13413-40-017.png', 'binary_scenario\\\\train\\\\40X\\\\malignant\\\\SOB_M_MC-14-13413-40-019.png', 'binary_scenario\\\\train\\\\40X\\\\malignant\\\\SOB_M_MC-14-13413-40-020.png', 'binary_scenario\\\\train\\\\40X\\\\malignant\\\\SOB_M_MC-14-13413-40-021.png', 'binary_scenario\\\\train\\\\40X\\\\malignant\\\\SOB_M_MC-14-13413-40-022.png', 'binary_scenario\\\\train\\\\40X\\\\malignant\\\\SOB_M_MC-14-13413-40-023.png', 'binary_scenario\\\\train\\\\40X\\\\malignant\\\\SOB_M_MC-14-13413-40-024.png', 'binary_scenario\\\\train\\\\40X\\\\malignant\\\\SOB_M_MC-14-13413-40-025.png', 'binary_scenario\\\\train\\\\40X\\\\malignant\\\\SOB_M_MC-14-13413-40-026.png', 'binary_scenario\\\\train\\\\40X\\\\malignant\\\\SOB_M_MC-14-13413-40-027.png', 'binary_scenario\\\\train\\\\40X\\\\malignant\\\\SOB_M_MC-14-13413-40-028.png', 'binary_scenario\\\\train\\\\40X\\\\malignant\\\\SOB_M_MC-14-13413-40-029.png', 'binary_scenario\\\\train\\\\40X\\\\malignant\\\\SOB_M_MC-14-13418DE-40-003.png', 'binary_scenario\\\\train\\\\40X\\\\malignant\\\\SOB_M_MC-14-13418DE-40-004.png', 'binary_scenario\\\\train\\\\40X\\\\malignant\\\\SOB_M_MC-14-13418DE-40-005.png', 'binary_scenario\\\\train\\\\40X\\\\malignant\\\\SOB_M_MC-14-13418DE-40-006.png', 'binary_scenario\\\\train\\\\40X\\\\malignant\\\\SOB_M_MC-14-13418DE-40-007.png', 'binary_scenario\\\\train\\\\40X\\\\malignant\\\\SOB_M_MC-14-13418DE-40-008.png', 'binary_scenario\\\\train\\\\40X\\\\malignant\\\\SOB_M_MC-14-13418DE-40-009.png', 'binary_scenario\\\\train\\\\40X\\\\malignant\\\\SOB_M_MC-14-13418DE-40-010.png', 'binary_scenario\\\\train\\\\40X\\\\malignant\\\\SOB_M_MC-14-13418DE-40-011.png', 'binary_scenario\\\\train\\\\40X\\\\malignant\\\\SOB_M_MC-14-13418DE-40-012.png', 'binary_scenario\\\\train\\\\40X\\\\malignant\\\\SOB_M_MC-14-16456-40-001.png', 'binary_scenario\\\\train\\\\40X\\\\malignant\\\\SOB_M_MC-14-16456-40-002.png', 'binary_scenario\\\\train\\\\40X\\\\malignant\\\\SOB_M_MC-14-16456-40-003.png', 'binary_scenario\\\\train\\\\40X\\\\malignant\\\\SOB_M_MC-14-16456-40-006.png', 'binary_scenario\\\\train\\\\40X\\\\malignant\\\\SOB_M_MC-14-16456-40-007.png', 'binary_scenario\\\\train\\\\40X\\\\malignant\\\\SOB_M_MC-14-16456-40-008.png', 'binary_scenario\\\\train\\\\40X\\\\malignant\\\\SOB_M_MC-14-16456-40-009.png', 'binary_scenario\\\\train\\\\40X\\\\malignant\\\\SOB_M_MC-14-16456-40-010.png', 'binary_scenario\\\\train\\\\40X\\\\malignant\\\\SOB_M_MC-14-16456-40-011.png', 'binary_scenario\\\\train\\\\40X\\\\malignant\\\\SOB_M_MC-14-16456-40-012.png', 'binary_scenario\\\\train\\\\40X\\\\malignant\\\\SOB_M_MC-14-16456-40-013.png', 'binary_scenario\\\\train\\\\40X\\\\malignant\\\\SOB_M_MC-14-16456-40-014.png', 'binary_scenario\\\\train\\\\40X\\\\malignant\\\\SOB_M_MC-14-16456-40-030.png', 'binary_scenario\\\\train\\\\40X\\\\malignant\\\\SOB_M_MC-14-16456-40-048.png', 'binary_scenario\\\\train\\\\40X\\\\malignant\\\\SOB_M_MC-14-16456-40-050.png', 'binary_scenario\\\\train\\\\40X\\\\malignant\\\\SOB_M_MC-14-16456-40-051.png', 'binary_scenario\\\\train\\\\40X\\\\malignant\\\\SOB_M_MC-14-16456-40-052.png', 'binary_scenario\\\\train\\\\40X\\\\malignant\\\\SOB_M_MC-14-16456-40-053.png', 'binary_scenario\\\\train\\\\40X\\\\malignant\\\\SOB_M_MC-14-16456-40-054.png', 'binary_scenario\\\\train\\\\40X\\\\malignant\\\\SOB_M_MC-14-16456-40-055.png', 'binary_scenario\\\\train\\\\40X\\\\malignant\\\\SOB_M_MC-14-16456-40-056.png', 'binary_scenario\\\\train\\\\40X\\\\malignant\\\\SOB_M_MC-14-16456-40-058.png', 'binary_scenario\\\\train\\\\40X\\\\malignant\\\\SOB_M_MC-14-16456-40-059.png', 'binary_scenario\\\\train\\\\40X\\\\malignant\\\\SOB_M_MC-14-16456-40-060.png', 'binary_scenario\\\\train\\\\40X\\\\malignant\\\\SOB_M_MC-14-16456-40-064.png', 'binary_scenario\\\\train\\\\40X\\\\malignant\\\\SOB_M_MC-14-16456-40-065.png', 'binary_scenario\\\\train\\\\40X\\\\malignant\\\\SOB_M_MC-14-16456-40-066.png', 'binary_scenario\\\\train\\\\40X\\\\malignant\\\\SOB_M_MC-14-16456-40-067.png', 'binary_scenario\\\\train\\\\40X\\\\malignant\\\\SOB_M_MC-14-16456-40-068.png', 'binary_scenario\\\\train\\\\40X\\\\malignant\\\\SOB_M_MC-14-16456-40-069.png', 'binary_scenario\\\\train\\\\40X\\\\malignant\\\\SOB_M_MC-14-16456-40-072.png', 'binary_scenario\\\\train\\\\40X\\\\malignant\\\\SOB_M_MC-14-16456-40-073.png', 'binary_scenario\\\\train\\\\40X\\\\malignant\\\\SOB_M_MC-14-16456-40-074.png', 'binary_scenario\\\\train\\\\40X\\\\malignant\\\\SOB_M_MC-14-16456-40-075.png', 'binary_scenario\\\\train\\\\40X\\\\malignant\\\\SOB_M_MC-14-16456-40-076.png', 'binary_scenario\\\\train\\\\40X\\\\malignant\\\\SOB_M_MC-14-16456-40-078.png', 'binary_scenario\\\\train\\\\40X\\\\malignant\\\\SOB_M_MC-14-16456-40-079.png', 'binary_scenario\\\\train\\\\40X\\\\malignant\\\\SOB_M_MC-14-16456-40-080.png', 'binary_scenario\\\\train\\\\40X\\\\malignant\\\\SOB_M_MC-14-18842-40-001.png', 'binary_scenario\\\\train\\\\40X\\\\malignant\\\\SOB_M_MC-14-18842-40-004.png', 'binary_scenario\\\\train\\\\40X\\\\malignant\\\\SOB_M_MC-14-18842-40-005.png', 'binary_scenario\\\\train\\\\40X\\\\malignant\\\\SOB_M_MC-14-18842-40-006.png', 'binary_scenario\\\\train\\\\40X\\\\malignant\\\\SOB_M_MC-14-18842-40-007.png', 'binary_scenario\\\\train\\\\40X\\\\malignant\\\\SOB_M_MC-14-18842-40-008.png', 'binary_scenario\\\\train\\\\40X\\\\malignant\\\\SOB_M_MC-14-18842-40-010.png', 'binary_scenario\\\\train\\\\40X\\\\malignant\\\\SOB_M_MC-14-18842-40-011.png', 'binary_scenario\\\\train\\\\40X\\\\malignant\\\\SOB_M_MC-14-18842-40-014.png', 'binary_scenario\\\\train\\\\40X\\\\malignant\\\\SOB_M_MC-14-18842D-40-001.png', 'binary_scenario\\\\train\\\\40X\\\\malignant\\\\SOB_M_MC-14-18842D-40-002.png', 'binary_scenario\\\\train\\\\40X\\\\malignant\\\\SOB_M_MC-14-18842D-40-003.png', 'binary_scenario\\\\train\\\\40X\\\\malignant\\\\SOB_M_MC-14-18842D-40-004.png', 'binary_scenario\\\\train\\\\40X\\\\malignant\\\\SOB_M_MC-14-18842D-40-005.png', 'binary_scenario\\\\train\\\\40X\\\\malignant\\\\SOB_M_MC-14-18842D-40-006.png', 'binary_scenario\\\\train\\\\40X\\\\malignant\\\\SOB_M_MC-14-18842D-40-007.png', 'binary_scenario\\\\train\\\\40X\\\\malignant\\\\SOB_M_MC-14-18842D-40-009.png', 'binary_scenario\\\\train\\\\40X\\\\malignant\\\\SOB_M_MC-14-18842D-40-012.png', 'binary_scenario\\\\train\\\\40X\\\\malignant\\\\SOB_M_MC-14-18842D-40-013.png', 'binary_scenario\\\\train\\\\40X\\\\malignant\\\\SOB_M_MC-14-18842D-40-014.png', 'binary_scenario\\\\train\\\\40X\\\\malignant\\\\SOB_M_MC-14-18842D-40-015.png', 'binary_scenario\\\\train\\\\40X\\\\malignant\\\\SOB_M_MC-14-18842D-40-016.png', 'binary_scenario\\\\train\\\\40X\\\\malignant\\\\SOB_M_MC-14-19979-40-001.png', 'binary_scenario\\\\train\\\\40X\\\\malignant\\\\SOB_M_MC-14-19979-40-002.png', 'binary_scenario\\\\train\\\\40X\\\\malignant\\\\SOB_M_MC-14-19979-40-003.png', 'binary_scenario\\\\train\\\\40X\\\\malignant\\\\SOB_M_MC-14-19979-40-004.png', 'binary_scenario\\\\train\\\\40X\\\\malignant\\\\SOB_M_MC-14-19979-40-005.png', 'binary_scenario\\\\train\\\\40X\\\\malignant\\\\SOB_M_MC-14-19979-40-006.png', 'binary_scenario\\\\train\\\\40X\\\\malignant\\\\SOB_M_MC-14-19979-40-007.png', 'binary_scenario\\\\train\\\\40X\\\\malignant\\\\SOB_M_MC-14-19979-40-008.png', 'binary_scenario\\\\train\\\\40X\\\\malignant\\\\SOB_M_MC-14-19979-40-009.png', 'binary_scenario\\\\train\\\\40X\\\\malignant\\\\SOB_M_MC-14-19979-40-010.png', 'binary_scenario\\\\train\\\\40X\\\\malignant\\\\SOB_M_MC-14-19979-40-011.png', 'binary_scenario\\\\train\\\\40X\\\\malignant\\\\SOB_M_MC-14-19979-40-013.png', 'binary_scenario\\\\train\\\\40X\\\\malignant\\\\SOB_M_MC-14-19979-40-015.png', 'binary_scenario\\\\train\\\\40X\\\\malignant\\\\SOB_M_MC-14-19979-40-016.png', 'binary_scenario\\\\train\\\\40X\\\\malignant\\\\SOB_M_MC-14-19979-40-017.png', 'binary_scenario\\\\train\\\\40X\\\\malignant\\\\SOB_M_MC-14-19979-40-018.png', 'binary_scenario\\\\train\\\\40X\\\\malignant\\\\SOB_M_MC-14-19979-40-019.png', 'binary_scenario\\\\train\\\\40X\\\\malignant\\\\SOB_M_MC-14-19979-40-020.png', 'binary_scenario\\\\train\\\\40X\\\\malignant\\\\SOB_M_MC-14-19979-40-021.png', 'binary_scenario\\\\train\\\\40X\\\\malignant\\\\SOB_M_MC-14-19979-40-022.png', 'binary_scenario\\\\train\\\\40X\\\\malignant\\\\SOB_M_MC-14-19979-40-023.png', 'binary_scenario\\\\train\\\\40X\\\\malignant\\\\SOB_M_MC-14-19979-40-024.png', 'binary_scenario\\\\train\\\\40X\\\\malignant\\\\SOB_M_MC-14-19979-40-025.png', 'binary_scenario\\\\train\\\\40X\\\\malignant\\\\SOB_M_MC-14-19979-40-026.png', 'binary_scenario\\\\train\\\\40X\\\\malignant\\\\SOB_M_MC-14-19979C-40-002.png', 'binary_scenario\\\\train\\\\40X\\\\malignant\\\\SOB_M_MC-14-19979C-40-003.png', 'binary_scenario\\\\train\\\\40X\\\\malignant\\\\SOB_M_MC-14-19979C-40-005.png', 'binary_scenario\\\\train\\\\40X\\\\malignant\\\\SOB_M_MC-14-19979C-40-006.png', 'binary_scenario\\\\train\\\\40X\\\\malignant\\\\SOB_M_MC-14-19979C-40-007.png', 'binary_scenario\\\\train\\\\40X\\\\malignant\\\\SOB_M_MC-14-19979C-40-008.png', 'binary_scenario\\\\train\\\\40X\\\\malignant\\\\SOB_M_MC-14-19979C-40-009.png', 'binary_scenario\\\\train\\\\40X\\\\malignant\\\\SOB_M_MC-14-19979C-40-010.png', 'binary_scenario\\\\train\\\\40X\\\\malignant\\\\SOB_M_MC-14-19979C-40-011.png', 'binary_scenario\\\\train\\\\40X\\\\malignant\\\\SOB_M_MC-14-19979C-40-012.png', 'binary_scenario\\\\train\\\\40X\\\\malignant\\\\SOB_M_MC-14-19979C-40-013.png', 'binary_scenario\\\\train\\\\40X\\\\malignant\\\\SOB_M_MC-14-19979C-40-014.png', 'binary_scenario\\\\train\\\\40X\\\\malignant\\\\SOB_M_MC-14-19979C-40-016.png', 'binary_scenario\\\\train\\\\40X\\\\malignant\\\\SOB_M_MC-14-19979C-40-017.png', 'binary_scenario\\\\train\\\\40X\\\\malignant\\\\SOB_M_PC-14-12465-40-001.png', 'binary_scenario\\\\train\\\\40X\\\\malignant\\\\SOB_M_PC-14-12465-40-003.png', 'binary_scenario\\\\train\\\\40X\\\\malignant\\\\SOB_M_PC-14-12465-40-004.png', 'binary_scenario\\\\train\\\\40X\\\\malignant\\\\SOB_M_PC-14-12465-40-005.png', 'binary_scenario\\\\train\\\\40X\\\\malignant\\\\SOB_M_PC-14-12465-40-006.png', 'binary_scenario\\\\train\\\\40X\\\\malignant\\\\SOB_M_PC-14-12465-40-007.png', 'binary_scenario\\\\train\\\\40X\\\\malignant\\\\SOB_M_PC-14-12465-40-009.png', 'binary_scenario\\\\train\\\\40X\\\\malignant\\\\SOB_M_PC-14-12465-40-010.png', 'binary_scenario\\\\train\\\\40X\\\\malignant\\\\SOB_M_PC-14-12465-40-011.png', 'binary_scenario\\\\train\\\\40X\\\\malignant\\\\SOB_M_PC-14-12465-40-013.png', 'binary_scenario\\\\train\\\\40X\\\\malignant\\\\SOB_M_PC-14-12465-40-014.png', 'binary_scenario\\\\train\\\\40X\\\\malignant\\\\SOB_M_PC-14-12465-40-015.png', 'binary_scenario\\\\train\\\\40X\\\\malignant\\\\SOB_M_PC-14-12465-40-016.png', 'binary_scenario\\\\train\\\\40X\\\\malignant\\\\SOB_M_PC-14-12465-40-018.png', 'binary_scenario\\\\train\\\\40X\\\\malignant\\\\SOB_M_PC-14-12465-40-019.png', 'binary_scenario\\\\train\\\\40X\\\\malignant\\\\SOB_M_PC-14-12465-40-020.png', 'binary_scenario\\\\train\\\\40X\\\\malignant\\\\SOB_M_PC-14-12465-40-021.png', 'binary_scenario\\\\train\\\\40X\\\\malignant\\\\SOB_M_PC-14-15687B-40-001.png', 'binary_scenario\\\\train\\\\40X\\\\malignant\\\\SOB_M_PC-14-15687B-40-002.png', 'binary_scenario\\\\train\\\\40X\\\\malignant\\\\SOB_M_PC-14-15687B-40-003.png', 'binary_scenario\\\\train\\\\40X\\\\malignant\\\\SOB_M_PC-14-15687B-40-004.png', 'binary_scenario\\\\train\\\\40X\\\\malignant\\\\SOB_M_PC-14-15687B-40-005.png', 'binary_scenario\\\\train\\\\40X\\\\malignant\\\\SOB_M_PC-14-15687B-40-006.png', 'binary_scenario\\\\train\\\\40X\\\\malignant\\\\SOB_M_PC-14-15687B-40-007.png', 'binary_scenario\\\\train\\\\40X\\\\malignant\\\\SOB_M_PC-14-15687B-40-008.png', 'binary_scenario\\\\train\\\\40X\\\\malignant\\\\SOB_M_PC-14-15687B-40-009.png', 'binary_scenario\\\\train\\\\40X\\\\malignant\\\\SOB_M_PC-14-15687B-40-011.png', 'binary_scenario\\\\train\\\\40X\\\\malignant\\\\SOB_M_PC-14-15687B-40-012.png', 'binary_scenario\\\\train\\\\40X\\\\malignant\\\\SOB_M_PC-14-15687B-40-013.png', 'binary_scenario\\\\train\\\\40X\\\\malignant\\\\SOB_M_PC-14-15687B-40-014.png', 'binary_scenario\\\\train\\\\40X\\\\malignant\\\\SOB_M_PC-14-15687B-40-015.png', 'binary_scenario\\\\train\\\\40X\\\\malignant\\\\SOB_M_PC-14-15704-40-001.png', 'binary_scenario\\\\train\\\\40X\\\\malignant\\\\SOB_M_PC-14-15704-40-002.png', 'binary_scenario\\\\train\\\\40X\\\\malignant\\\\SOB_M_PC-14-15704-40-003.png', 'binary_scenario\\\\train\\\\40X\\\\malignant\\\\SOB_M_PC-14-15704-40-005.png', 'binary_scenario\\\\train\\\\40X\\\\malignant\\\\SOB_M_PC-14-15704-40-006.png', 'binary_scenario\\\\train\\\\40X\\\\malignant\\\\SOB_M_PC-14-15704-40-008.png', 'binary_scenario\\\\train\\\\40X\\\\malignant\\\\SOB_M_PC-14-15704-40-009.png', 'binary_scenario\\\\train\\\\40X\\\\malignant\\\\SOB_M_PC-14-15704-40-011.png', 'binary_scenario\\\\train\\\\40X\\\\malignant\\\\SOB_M_PC-14-15704-40-012.png', 'binary_scenario\\\\train\\\\40X\\\\malignant\\\\SOB_M_PC-14-15704-40-013.png', 'binary_scenario\\\\train\\\\40X\\\\malignant\\\\SOB_M_PC-14-15704-40-014.png', 'binary_scenario\\\\train\\\\40X\\\\malignant\\\\SOB_M_PC-14-15704-40-015.png', 'binary_scenario\\\\train\\\\40X\\\\malignant\\\\SOB_M_PC-14-15704-40-016.png', 'binary_scenario\\\\train\\\\40X\\\\malignant\\\\SOB_M_PC-14-15704-40-017.png', 'binary_scenario\\\\train\\\\40X\\\\malignant\\\\SOB_M_PC-14-15704-40-018.png', 'binary_scenario\\\\train\\\\40X\\\\malignant\\\\SOB_M_PC-14-15704-40-019.png', 'binary_scenario\\\\train\\\\40X\\\\malignant\\\\SOB_M_PC-14-15704-40-020.png', 'binary_scenario\\\\train\\\\40X\\\\malignant\\\\SOB_M_PC-14-15704-40-021.png', 'binary_scenario\\\\train\\\\40X\\\\malignant\\\\SOB_M_PC-14-15704-40-022.png', 'binary_scenario\\\\train\\\\40X\\\\malignant\\\\SOB_M_PC-14-15704-40-023.png', 'binary_scenario\\\\train\\\\40X\\\\malignant\\\\SOB_M_PC-14-15704-40-024.png', 'binary_scenario\\\\train\\\\40X\\\\malignant\\\\SOB_M_PC-14-15704-40-025.png', 'binary_scenario\\\\train\\\\40X\\\\malignant\\\\SOB_M_PC-14-15704-40-026.png', 'binary_scenario\\\\train\\\\40X\\\\malignant\\\\SOB_M_PC-14-15704-40-027.png', 'binary_scenario\\\\train\\\\40X\\\\malignant\\\\SOB_M_PC-14-15704-40-028.png', 'binary_scenario\\\\train\\\\40X\\\\malignant\\\\SOB_M_PC-14-15704-40-029.png', 'binary_scenario\\\\train\\\\40X\\\\malignant\\\\SOB_M_PC-14-19440-40-001.png', 'binary_scenario\\\\train\\\\40X\\\\malignant\\\\SOB_M_PC-14-19440-40-002.png', 'binary_scenario\\\\train\\\\40X\\\\malignant\\\\SOB_M_PC-14-19440-40-003.png', 'binary_scenario\\\\train\\\\40X\\\\malignant\\\\SOB_M_PC-14-19440-40-004.png', 'binary_scenario\\\\train\\\\40X\\\\malignant\\\\SOB_M_PC-14-19440-40-005.png', 'binary_scenario\\\\train\\\\40X\\\\malignant\\\\SOB_M_PC-14-19440-40-006.png', 'binary_scenario\\\\train\\\\40X\\\\malignant\\\\SOB_M_PC-14-19440-40-007.png', 'binary_scenario\\\\train\\\\40X\\\\malignant\\\\SOB_M_PC-14-19440-40-009.png', 'binary_scenario\\\\train\\\\40X\\\\malignant\\\\SOB_M_PC-14-19440-40-010.png', 'binary_scenario\\\\train\\\\40X\\\\malignant\\\\SOB_M_PC-14-19440-40-011.png', 'binary_scenario\\\\train\\\\40X\\\\malignant\\\\SOB_M_PC-14-19440-40-012.png', 'binary_scenario\\\\train\\\\40X\\\\malignant\\\\SOB_M_PC-14-19440-40-013.png', 'binary_scenario\\\\train\\\\40X\\\\malignant\\\\SOB_M_PC-14-19440-40-014.png', 'binary_scenario\\\\train\\\\40X\\\\malignant\\\\SOB_M_PC-14-19440-40-015.png', 'binary_scenario\\\\train\\\\40X\\\\malignant\\\\SOB_M_PC-14-19440-40-016.png', 'binary_scenario\\\\train\\\\40X\\\\malignant\\\\SOB_M_PC-14-19440-40-017.png', 'binary_scenario\\\\train\\\\40X\\\\malignant\\\\SOB_M_PC-14-19440-40-018.png', 'binary_scenario\\\\train\\\\40X\\\\malignant\\\\SOB_M_PC-14-19440-40-019.png', 'binary_scenario\\\\train\\\\40X\\\\malignant\\\\SOB_M_PC-14-19440-40-020.png', 'binary_scenario\\\\train\\\\40X\\\\malignant\\\\SOB_M_PC-14-19440-40-021.png', 'binary_scenario\\\\train\\\\40X\\\\malignant\\\\SOB_M_PC-14-19440-40-023.png', 'binary_scenario\\\\train\\\\40X\\\\malignant\\\\SOB_M_PC-14-19440-40-024.png', 'binary_scenario\\\\train\\\\40X\\\\malignant\\\\SOB_M_PC-14-19440-40-025.png', 'binary_scenario\\\\train\\\\40X\\\\malignant\\\\SOB_M_PC-14-19440-40-026.png', 'binary_scenario\\\\train\\\\40X\\\\malignant\\\\SOB_M_PC-14-19440-40-027.png', 'binary_scenario\\\\train\\\\40X\\\\malignant\\\\SOB_M_PC-14-19440-40-029.png', 'binary_scenario\\\\train\\\\40X\\\\malignant\\\\SOB_M_PC-14-19440-40-030.png', 'binary_scenario\\\\train\\\\40X\\\\malignant\\\\SOB_M_PC-14-19440-40-031.png', 'binary_scenario\\\\train\\\\40X\\\\malignant\\\\SOB_M_PC-14-19440-40-032.png', 'binary_scenario\\\\train\\\\40X\\\\malignant\\\\SOB_M_PC-14-19440-40-033.png', 'binary_scenario\\\\train\\\\40X\\\\malignant\\\\SOB_M_PC-14-19440-40-034.png', 'binary_scenario\\\\train\\\\40X\\\\malignant\\\\SOB_M_PC-14-19440-40-035.png', 'binary_scenario\\\\train\\\\40X\\\\malignant\\\\SOB_M_PC-14-9146-40-002.png', 'binary_scenario\\\\train\\\\40X\\\\malignant\\\\SOB_M_PC-14-9146-40-003.png', 'binary_scenario\\\\train\\\\40X\\\\malignant\\\\SOB_M_PC-14-9146-40-004.png', 'binary_scenario\\\\train\\\\40X\\\\malignant\\\\SOB_M_PC-14-9146-40-005.png', 'binary_scenario\\\\train\\\\40X\\\\malignant\\\\SOB_M_PC-14-9146-40-006.png', 'binary_scenario\\\\train\\\\40X\\\\malignant\\\\SOB_M_PC-14-9146-40-008.png', 'binary_scenario\\\\train\\\\40X\\\\malignant\\\\SOB_M_PC-14-9146-40-010.png', 'binary_scenario\\\\train\\\\40X\\\\malignant\\\\SOB_M_PC-14-9146-40-011.png', 'binary_scenario\\\\train\\\\40X\\\\malignant\\\\SOB_M_PC-14-9146-40-012.png', 'binary_scenario\\\\train\\\\40X\\\\malignant\\\\SOB_M_PC-14-9146-40-013.png', 'binary_scenario\\\\train\\\\40X\\\\malignant\\\\SOB_M_PC-14-9146-40-014.png', 'binary_scenario\\\\train\\\\40X\\\\malignant\\\\SOB_M_PC-14-9146-40-015.png', 'binary_scenario\\\\train\\\\40X\\\\malignant\\\\SOB_M_PC-14-9146-40-016.png', 'binary_scenario\\\\train\\\\40X\\\\malignant\\\\SOB_M_PC-14-9146-40-018.png', 'binary_scenario\\\\train\\\\40X\\\\malignant\\\\SOB_M_PC-14-9146-40-020.png', 'binary_scenario\\\\train\\\\40X\\\\malignant\\\\SOB_M_PC-14-9146-40-021.png', 'binary_scenario\\\\train\\\\40X\\\\malignant\\\\SOB_M_PC-14-9146-40-022.png', 'binary_scenario\\\\train\\\\40X\\\\malignant\\\\SOB_M_PC-14-9146-40-023.png', 'binary_scenario\\\\train\\\\40X\\\\malignant\\\\SOB_M_PC-15-190EF-40-002.png', 'binary_scenario\\\\train\\\\40X\\\\malignant\\\\SOB_M_PC-15-190EF-40-003.png', 'binary_scenario\\\\train\\\\40X\\\\malignant\\\\SOB_M_PC-15-190EF-40-004.png', 'binary_scenario\\\\train\\\\40X\\\\malignant\\\\SOB_M_PC-15-190EF-40-005.png', 'binary_scenario\\\\train\\\\40X\\\\malignant\\\\SOB_M_PC-15-190EF-40-006.png', 'binary_scenario\\\\train\\\\40X\\\\malignant\\\\SOB_M_PC-15-190EF-40-007.png', 'binary_scenario\\\\train\\\\40X\\\\malignant\\\\SOB_M_PC-15-190EF-40-008.png', 'binary_scenario\\\\train\\\\40X\\\\malignant\\\\SOB_M_PC-15-190EF-40-009.png', 'binary_scenario\\\\train\\\\40X\\\\malignant\\\\SOB_M_PC-15-190EF-40-010.png', 'binary_scenario\\\\train\\\\40X\\\\malignant\\\\SOB_M_PC-15-190EF-40-011.png', 'binary_scenario\\\\train\\\\40X\\\\malignant\\\\SOB_M_PC-15-190EF-40-012.png', 'binary_scenario\\\\train\\\\40X\\\\malignant\\\\SOB_M_PC-15-190EF-40-015.png', 'binary_scenario\\\\train\\\\40X\\\\malignant\\\\SOB_M_PC-15-190EF-40-016.png', 'binary_scenario\\\\train\\\\40X\\\\malignant\\\\SOB_M_PC-15-190EF-40-017.png', 'binary_scenario\\\\train\\\\40X\\\\malignant\\\\SOB_M_PC-15-190EF-40-018.png', 'binary_scenario\\\\train\\\\40X\\\\malignant\\\\SOB_M_PC-15-190EF-40-019.png']\n",
      "['binary_scenario\\\\val\\\\40X\\\\benign\\\\SOB_B_A-14-22549AB-40-007.png', 'binary_scenario\\\\val\\\\40X\\\\benign\\\\SOB_B_A-14-22549AB-40-010.png', 'binary_scenario\\\\val\\\\40X\\\\benign\\\\SOB_B_A-14-22549AB-40-021.png', 'binary_scenario\\\\val\\\\40X\\\\benign\\\\SOB_B_A-14-22549AB-40-022.png', 'binary_scenario\\\\val\\\\40X\\\\benign\\\\SOB_B_A-14-22549CD-40-011.png', 'binary_scenario\\\\val\\\\40X\\\\benign\\\\SOB_B_A-14-22549CD-40-027.png', 'binary_scenario\\\\val\\\\40X\\\\benign\\\\SOB_B_A-14-22549CD-40-031.png', 'binary_scenario\\\\val\\\\40X\\\\benign\\\\SOB_B_A-14-29960CD-40-006.png', 'binary_scenario\\\\val\\\\40X\\\\benign\\\\SOB_B_F-14-14134-40-003.png', 'binary_scenario\\\\val\\\\40X\\\\benign\\\\SOB_B_F-14-14134-40-006.png', 'binary_scenario\\\\val\\\\40X\\\\benign\\\\SOB_B_F-14-14134-40-036.png', 'binary_scenario\\\\val\\\\40X\\\\benign\\\\SOB_B_F-14-14134E-40-001.png', 'binary_scenario\\\\val\\\\40X\\\\benign\\\\SOB_B_F-14-14134E-40-003.png', 'binary_scenario\\\\val\\\\40X\\\\benign\\\\SOB_B_F-14-14134E-40-023.png', 'binary_scenario\\\\val\\\\40X\\\\benign\\\\SOB_B_F-14-21998CD-40-004.png', 'binary_scenario\\\\val\\\\40X\\\\benign\\\\SOB_B_F-14-21998CD-40-010.png', 'binary_scenario\\\\val\\\\40X\\\\benign\\\\SOB_B_F-14-21998CD-40-015.png', 'binary_scenario\\\\val\\\\40X\\\\benign\\\\SOB_B_F-14-21998CD-40-017.png', 'binary_scenario\\\\val\\\\40X\\\\benign\\\\SOB_B_F-14-21998CD-40-032.png', 'binary_scenario\\\\val\\\\40X\\\\benign\\\\SOB_B_F-14-21998EF-40-002.png', 'binary_scenario\\\\val\\\\40X\\\\benign\\\\SOB_B_F-14-21998EF-40-019.png', 'binary_scenario\\\\val\\\\40X\\\\benign\\\\SOB_B_F-14-21998EF-40-022.png', 'binary_scenario\\\\val\\\\40X\\\\benign\\\\SOB_B_F-14-21998EF-40-025.png', 'binary_scenario\\\\val\\\\40X\\\\benign\\\\SOB_B_F-14-23060AB-40-001.png', 'binary_scenario\\\\val\\\\40X\\\\benign\\\\SOB_B_F-14-25197-40-035.png', 'binary_scenario\\\\val\\\\40X\\\\benign\\\\SOB_B_F-14-29960AB-40-001.png', 'binary_scenario\\\\val\\\\40X\\\\benign\\\\SOB_B_F-14-29960AB-40-007.png', 'binary_scenario\\\\val\\\\40X\\\\benign\\\\SOB_B_F-14-9133-40-008.png', 'binary_scenario\\\\val\\\\40X\\\\benign\\\\SOB_B_F-14-9133-40-016.png', 'binary_scenario\\\\val\\\\40X\\\\benign\\\\SOB_B_F-14-9133-40-018.png', 'binary_scenario\\\\val\\\\40X\\\\benign\\\\SOB_B_F-14-9133-40-019.png', 'binary_scenario\\\\val\\\\40X\\\\benign\\\\SOB_B_PT-14-21998AB-40-021.png', 'binary_scenario\\\\val\\\\40X\\\\benign\\\\SOB_B_PT-14-21998AB-40-029.png', 'binary_scenario\\\\val\\\\40X\\\\benign\\\\SOB_B_PT-14-21998AB-40-037.png', 'binary_scenario\\\\val\\\\40X\\\\benign\\\\SOB_B_PT-14-21998AB-40-055.png', 'binary_scenario\\\\val\\\\40X\\\\benign\\\\SOB_B_PT-14-22704-40-003.png', 'binary_scenario\\\\val\\\\40X\\\\benign\\\\SOB_B_PT-14-22704-40-008.png', 'binary_scenario\\\\val\\\\40X\\\\benign\\\\SOB_B_PT-14-22704-40-018.png', 'binary_scenario\\\\val\\\\40X\\\\benign\\\\SOB_B_PT-14-22704-40-019.png', 'binary_scenario\\\\val\\\\40X\\\\benign\\\\SOB_B_PT-14-22704-40-026.png', 'binary_scenario\\\\val\\\\40X\\\\benign\\\\SOB_B_PT-14-22704-40-037.png', 'binary_scenario\\\\val\\\\40X\\\\benign\\\\SOB_B_PT-14-29315EF-40-009.png', 'binary_scenario\\\\val\\\\40X\\\\benign\\\\SOB_B_PT-14-29315EF-40-010.png', 'binary_scenario\\\\val\\\\40X\\\\benign\\\\SOB_B_TA-14-13200-40-002.png', 'binary_scenario\\\\val\\\\40X\\\\benign\\\\SOB_B_TA-14-13200-40-007.png', 'binary_scenario\\\\val\\\\40X\\\\benign\\\\SOB_B_TA-14-13200-40-013.png', 'binary_scenario\\\\val\\\\40X\\\\benign\\\\SOB_B_TA-14-15275-40-005.png', 'binary_scenario\\\\val\\\\40X\\\\benign\\\\SOB_B_TA-14-16184-40-002.png', 'binary_scenario\\\\val\\\\40X\\\\benign\\\\SOB_B_TA-14-16184-40-013.png', 'binary_scenario\\\\val\\\\40X\\\\benign\\\\SOB_B_TA-14-16184-40-014.png', 'binary_scenario\\\\val\\\\40X\\\\benign\\\\SOB_B_TA-14-16184-40-019.png', 'binary_scenario\\\\val\\\\40X\\\\benign\\\\SOB_B_TA-14-16184-40-024.png', 'binary_scenario\\\\val\\\\40X\\\\benign\\\\SOB_B_TA-14-16184-40-034.png', 'binary_scenario\\\\val\\\\40X\\\\benign\\\\SOB_B_TA-14-16184-40-038.png', 'binary_scenario\\\\val\\\\40X\\\\benign\\\\SOB_B_TA-14-19854C-40-001.png', 'binary_scenario\\\\val\\\\40X\\\\benign\\\\SOB_B_TA-14-21978AB-40-008.png', 'binary_scenario\\\\val\\\\40X\\\\malignant\\\\SOB_M_DC-14-10926-40-003.png', 'binary_scenario\\\\val\\\\40X\\\\malignant\\\\SOB_M_DC-14-10926-40-011.png', 'binary_scenario\\\\val\\\\40X\\\\malignant\\\\SOB_M_DC-14-11031-40-010.png', 'binary_scenario\\\\val\\\\40X\\\\malignant\\\\SOB_M_DC-14-11520-40-002.png', 'binary_scenario\\\\val\\\\40X\\\\malignant\\\\SOB_M_DC-14-11951-40-006.png', 'binary_scenario\\\\val\\\\40X\\\\malignant\\\\SOB_M_DC-14-11951-40-015.png', 'binary_scenario\\\\val\\\\40X\\\\malignant\\\\SOB_M_DC-14-12312-40-006.png', 'binary_scenario\\\\val\\\\40X\\\\malignant\\\\SOB_M_DC-14-12312-40-022.png', 'binary_scenario\\\\val\\\\40X\\\\malignant\\\\SOB_M_DC-14-12312-40-027.png', 'binary_scenario\\\\val\\\\40X\\\\malignant\\\\SOB_M_DC-14-13412-40-020.png', 'binary_scenario\\\\val\\\\40X\\\\malignant\\\\SOB_M_DC-14-13412-40-022.png', 'binary_scenario\\\\val\\\\40X\\\\malignant\\\\SOB_M_DC-14-13412-40-032.png', 'binary_scenario\\\\val\\\\40X\\\\malignant\\\\SOB_M_DC-14-13993-40-005.png', 'binary_scenario\\\\val\\\\40X\\\\malignant\\\\SOB_M_DC-14-13993-40-022.png', 'binary_scenario\\\\val\\\\40X\\\\malignant\\\\SOB_M_DC-14-13993-40-023.png', 'binary_scenario\\\\val\\\\40X\\\\malignant\\\\SOB_M_DC-14-13993-40-037.png', 'binary_scenario\\\\val\\\\40X\\\\malignant\\\\SOB_M_DC-14-14015-40-005.png', 'binary_scenario\\\\val\\\\40X\\\\malignant\\\\SOB_M_DC-14-14015-40-009.png', 'binary_scenario\\\\val\\\\40X\\\\malignant\\\\SOB_M_DC-14-14946-40-018.png', 'binary_scenario\\\\val\\\\40X\\\\malignant\\\\SOB_M_DC-14-14946-40-026.png', 'binary_scenario\\\\val\\\\40X\\\\malignant\\\\SOB_M_DC-14-15572-40-006.png', 'binary_scenario\\\\val\\\\40X\\\\malignant\\\\SOB_M_DC-14-15572-40-010.png', 'binary_scenario\\\\val\\\\40X\\\\malignant\\\\SOB_M_DC-14-15572-40-015.png', 'binary_scenario\\\\val\\\\40X\\\\malignant\\\\SOB_M_DC-14-15572-40-018.png', 'binary_scenario\\\\val\\\\40X\\\\malignant\\\\SOB_M_DC-14-15792-40-011.png', 'binary_scenario\\\\val\\\\40X\\\\malignant\\\\SOB_M_DC-14-15792-40-013.png', 'binary_scenario\\\\val\\\\40X\\\\malignant\\\\SOB_M_DC-14-16188-40-008.png', 'binary_scenario\\\\val\\\\40X\\\\malignant\\\\SOB_M_DC-14-16188-40-017.png', 'binary_scenario\\\\val\\\\40X\\\\malignant\\\\SOB_M_DC-14-16188-40-022.png', 'binary_scenario\\\\val\\\\40X\\\\malignant\\\\SOB_M_DC-14-16336-40-004.png', 'binary_scenario\\\\val\\\\40X\\\\malignant\\\\SOB_M_DC-14-16601-40-001.png', 'binary_scenario\\\\val\\\\40X\\\\malignant\\\\SOB_M_DC-14-16601-40-006.png', 'binary_scenario\\\\val\\\\40X\\\\malignant\\\\SOB_M_DC-14-16601-40-011.png', 'binary_scenario\\\\val\\\\40X\\\\malignant\\\\SOB_M_DC-14-16716-40-005.png', 'binary_scenario\\\\val\\\\40X\\\\malignant\\\\SOB_M_DC-14-16716-40-015.png', 'binary_scenario\\\\val\\\\40X\\\\malignant\\\\SOB_M_DC-14-16716-40-026.png', 'binary_scenario\\\\val\\\\40X\\\\malignant\\\\SOB_M_DC-14-16875-40-006.png', 'binary_scenario\\\\val\\\\40X\\\\malignant\\\\SOB_M_DC-14-16875-40-014.png', 'binary_scenario\\\\val\\\\40X\\\\malignant\\\\SOB_M_DC-14-17614-40-003.png', 'binary_scenario\\\\val\\\\40X\\\\malignant\\\\SOB_M_DC-14-17614-40-016.png', 'binary_scenario\\\\val\\\\40X\\\\malignant\\\\SOB_M_DC-14-17614-40-020.png', 'binary_scenario\\\\val\\\\40X\\\\malignant\\\\SOB_M_DC-14-17614-40-024.png', 'binary_scenario\\\\val\\\\40X\\\\malignant\\\\SOB_M_DC-14-17901-40-003.png', 'binary_scenario\\\\val\\\\40X\\\\malignant\\\\SOB_M_DC-14-17901-40-004.png', 'binary_scenario\\\\val\\\\40X\\\\malignant\\\\SOB_M_DC-14-17901-40-007.png', 'binary_scenario\\\\val\\\\40X\\\\malignant\\\\SOB_M_DC-14-17901-40-011.png', 'binary_scenario\\\\val\\\\40X\\\\malignant\\\\SOB_M_DC-14-17901-40-024.png', 'binary_scenario\\\\val\\\\40X\\\\malignant\\\\SOB_M_DC-14-17915-40-007.png', 'binary_scenario\\\\val\\\\40X\\\\malignant\\\\SOB_M_DC-14-17915-40-019.png', 'binary_scenario\\\\val\\\\40X\\\\malignant\\\\SOB_M_DC-14-18650-40-019.png', 'binary_scenario\\\\val\\\\40X\\\\malignant\\\\SOB_M_DC-14-20629-40-004.png', 'binary_scenario\\\\val\\\\40X\\\\malignant\\\\SOB_M_DC-14-20629-40-010.png', 'binary_scenario\\\\val\\\\40X\\\\malignant\\\\SOB_M_DC-14-20629-40-013.png', 'binary_scenario\\\\val\\\\40X\\\\malignant\\\\SOB_M_DC-14-20629-40-021.png', 'binary_scenario\\\\val\\\\40X\\\\malignant\\\\SOB_M_DC-14-20629-40-028.png', 'binary_scenario\\\\val\\\\40X\\\\malignant\\\\SOB_M_DC-14-20636-40-001.png', 'binary_scenario\\\\val\\\\40X\\\\malignant\\\\SOB_M_DC-14-20636-40-025.png', 'binary_scenario\\\\val\\\\40X\\\\malignant\\\\SOB_M_DC-14-2773-40-007.png', 'binary_scenario\\\\val\\\\40X\\\\malignant\\\\SOB_M_DC-14-2773-40-010.png', 'binary_scenario\\\\val\\\\40X\\\\malignant\\\\SOB_M_DC-14-2773-40-012.png', 'binary_scenario\\\\val\\\\40X\\\\malignant\\\\SOB_M_DC-14-2773-40-015.png', 'binary_scenario\\\\val\\\\40X\\\\malignant\\\\SOB_M_DC-14-2773-40-020.png', 'binary_scenario\\\\val\\\\40X\\\\malignant\\\\SOB_M_DC-14-2773-40-029.png', 'binary_scenario\\\\val\\\\40X\\\\malignant\\\\SOB_M_DC-14-2980-40-003.png', 'binary_scenario\\\\val\\\\40X\\\\malignant\\\\SOB_M_DC-14-2980-40-008.png', 'binary_scenario\\\\val\\\\40X\\\\malignant\\\\SOB_M_DC-14-2985-40-002.png', 'binary_scenario\\\\val\\\\40X\\\\malignant\\\\SOB_M_DC-14-2985-40-016.png', 'binary_scenario\\\\val\\\\40X\\\\malignant\\\\SOB_M_DC-14-4372-40-011.png', 'binary_scenario\\\\val\\\\40X\\\\malignant\\\\SOB_M_DC-14-4372-40-014.png', 'binary_scenario\\\\val\\\\40X\\\\malignant\\\\SOB_M_DC-14-5287-40-005.png', 'binary_scenario\\\\val\\\\40X\\\\malignant\\\\SOB_M_DC-14-5694-40-003.png', 'binary_scenario\\\\val\\\\40X\\\\malignant\\\\SOB_M_DC-14-5694-40-010.png', 'binary_scenario\\\\val\\\\40X\\\\malignant\\\\SOB_M_DC-14-5694-40-015.png', 'binary_scenario\\\\val\\\\40X\\\\malignant\\\\SOB_M_DC-14-5695-40-014.png', 'binary_scenario\\\\val\\\\40X\\\\malignant\\\\SOB_M_DC-14-5695-40-021.png', 'binary_scenario\\\\val\\\\40X\\\\malignant\\\\SOB_M_DC-14-5695-40-022.png', 'binary_scenario\\\\val\\\\40X\\\\malignant\\\\SOB_M_DC-14-6241-40-020.png', 'binary_scenario\\\\val\\\\40X\\\\malignant\\\\SOB_M_DC-14-6241-40-024.png', 'binary_scenario\\\\val\\\\40X\\\\malignant\\\\SOB_M_DC-14-6241-40-032.png', 'binary_scenario\\\\val\\\\40X\\\\malignant\\\\SOB_M_DC-14-6241-40-049.png', 'binary_scenario\\\\val\\\\40X\\\\malignant\\\\SOB_M_DC-14-8168-40-005.png', 'binary_scenario\\\\val\\\\40X\\\\malignant\\\\SOB_M_DC-14-8168-40-008.png', 'binary_scenario\\\\val\\\\40X\\\\malignant\\\\SOB_M_DC-14-8168-40-009.png', 'binary_scenario\\\\val\\\\40X\\\\malignant\\\\SOB_M_DC-14-9461-40-002.png', 'binary_scenario\\\\val\\\\40X\\\\malignant\\\\SOB_M_DC-14-9461-40-014.png', 'binary_scenario\\\\val\\\\40X\\\\malignant\\\\SOB_M_DC-14-9461-40-019.png', 'binary_scenario\\\\val\\\\40X\\\\malignant\\\\SOB_M_DC-14-9461-40-024.png', 'binary_scenario\\\\val\\\\40X\\\\malignant\\\\SOB_M_LC-14-12204-40-002.png', 'binary_scenario\\\\val\\\\40X\\\\malignant\\\\SOB_M_LC-14-13412-40-002.png', 'binary_scenario\\\\val\\\\40X\\\\malignant\\\\SOB_M_LC-14-13412-40-007.png', 'binary_scenario\\\\val\\\\40X\\\\malignant\\\\SOB_M_LC-14-13412-40-015.png', 'binary_scenario\\\\val\\\\40X\\\\malignant\\\\SOB_M_LC-14-13412-40-025.png', 'binary_scenario\\\\val\\\\40X\\\\malignant\\\\SOB_M_LC-14-13412-40-031.png', 'binary_scenario\\\\val\\\\40X\\\\malignant\\\\SOB_M_LC-14-15570-40-006.png', 'binary_scenario\\\\val\\\\40X\\\\malignant\\\\SOB_M_LC-14-15570-40-007.png', 'binary_scenario\\\\val\\\\40X\\\\malignant\\\\SOB_M_LC-14-15570-40-025.png', 'binary_scenario\\\\val\\\\40X\\\\malignant\\\\SOB_M_LC-14-15570-40-033.png', 'binary_scenario\\\\val\\\\40X\\\\malignant\\\\SOB_M_LC-14-15570C-40-002.png', 'binary_scenario\\\\val\\\\40X\\\\malignant\\\\SOB_M_LC-14-15570C-40-009.png', 'binary_scenario\\\\val\\\\40X\\\\malignant\\\\SOB_M_LC-14-15570C-40-029.png', 'binary_scenario\\\\val\\\\40X\\\\malignant\\\\SOB_M_MC-14-12773-40-004.png', 'binary_scenario\\\\val\\\\40X\\\\malignant\\\\SOB_M_MC-14-13413-40-007.png', 'binary_scenario\\\\val\\\\40X\\\\malignant\\\\SOB_M_MC-14-13413-40-018.png', 'binary_scenario\\\\val\\\\40X\\\\malignant\\\\SOB_M_MC-14-13418DE-40-001.png', 'binary_scenario\\\\val\\\\40X\\\\malignant\\\\SOB_M_MC-14-13418DE-40-002.png', 'binary_scenario\\\\val\\\\40X\\\\malignant\\\\SOB_M_MC-14-13418DE-40-013.png', 'binary_scenario\\\\val\\\\40X\\\\malignant\\\\SOB_M_MC-14-13418DE-40-014.png', 'binary_scenario\\\\val\\\\40X\\\\malignant\\\\SOB_M_MC-14-16456-40-004.png', 'binary_scenario\\\\val\\\\40X\\\\malignant\\\\SOB_M_MC-14-16456-40-005.png', 'binary_scenario\\\\val\\\\40X\\\\malignant\\\\SOB_M_MC-14-16456-40-062.png', 'binary_scenario\\\\val\\\\40X\\\\malignant\\\\SOB_M_MC-14-16456-40-070.png', 'binary_scenario\\\\val\\\\40X\\\\malignant\\\\SOB_M_MC-14-16456-40-071.png', 'binary_scenario\\\\val\\\\40X\\\\malignant\\\\SOB_M_MC-14-18842-40-003.png', 'binary_scenario\\\\val\\\\40X\\\\malignant\\\\SOB_M_MC-14-18842-40-009.png', 'binary_scenario\\\\val\\\\40X\\\\malignant\\\\SOB_M_MC-14-18842D-40-010.png', 'binary_scenario\\\\val\\\\40X\\\\malignant\\\\SOB_M_MC-14-18842D-40-011.png', 'binary_scenario\\\\val\\\\40X\\\\malignant\\\\SOB_M_MC-14-19979-40-014.png', 'binary_scenario\\\\val\\\\40X\\\\malignant\\\\SOB_M_MC-14-19979C-40-001.png', 'binary_scenario\\\\val\\\\40X\\\\malignant\\\\SOB_M_PC-14-12465-40-017.png', 'binary_scenario\\\\val\\\\40X\\\\malignant\\\\SOB_M_PC-14-15704-40-004.png', 'binary_scenario\\\\val\\\\40X\\\\malignant\\\\SOB_M_PC-14-15704-40-030.png', 'binary_scenario\\\\val\\\\40X\\\\malignant\\\\SOB_M_PC-14-19440-40-008.png', 'binary_scenario\\\\val\\\\40X\\\\malignant\\\\SOB_M_PC-14-19440-40-028.png']\n"
     ]
    }
   ],
   "source": [
    "print(\"[INFO] indexing file images BreaKHis dataset...\")\n",
    "type_dataset = ['val', 'train']\n",
    "dataset_train = []\n",
    "dataset_val = []\n",
    "for type_set in type_dataset:\n",
    "    for class_item in class_dir:\n",
    "        cur_dir = os.path.join(base_dataset, type_set, magnification ,class_item)\n",
    "        for file in os.listdir(cur_dir):\n",
    "            if type_set == 'train':\n",
    "                dataset_train.append(os.path.join(cur_dir, file))\n",
    "            else:\n",
    "                dataset_val.append(os.path.join(cur_dir, file))\n",
    "\n",
    "print(\"[INFO] load images BreaKHis dataset...\")\n",
    "#  load images\n",
    "train_images = []\n",
    "val_images = []\n",
    "for type_set in type_dataset:\n",
    "    cur_dataset = dataset_train if type_set == 'train' else dataset_val\n",
    "    for image_path in cur_dataset:\n",
    "        if \".png\" in image_path:\n",
    "            image = cv2.imread(image_path)\n",
    "            image = cv2.resize(image, IMAGE_SIZE)\n",
    "            if type_set == 'train':\n",
    "                train_images.append(image)\n",
    "            else:\n",
    "                val_images.append(image)\n",
    "                \n",
    "print(dataset_train)\n",
    "print(dataset_val)"
   ]
  },
  {
   "cell_type": "markdown",
   "metadata": {
    "id": "JfUuMzmi1wDX"
   },
   "source": [
    "## Normalization"
   ]
  },
  {
   "cell_type": "code",
   "execution_count": 6,
   "metadata": {
    "colab": {
     "base_uri": "https://localhost:8080/"
    },
    "executionInfo": {
     "elapsed": 700,
     "status": "ok",
     "timestamp": 1634455924945,
     "user": {
      "displayName": "Kharisma Muzaki Ghufron",
      "photoUrl": "https://lh3.googleusercontent.com/a/default-user=s64",
      "userId": "14730718725881384856"
     },
     "user_tz": -420
    },
    "id": "v2QoMnHC1zWV",
    "outputId": "3a8164c7-f1a2-445d-a639-8b631cc5fa75"
   },
   "outputs": [
    {
     "name": "stdout",
     "output_type": "stream",
     "text": [
      "[INFO] normalization...\n"
     ]
    }
   ],
   "source": [
    "# normalization\n",
    "print(\"[INFO] normalization...\")\n",
    "train_x = np.array(train_images).astype(\"float32\") / 255.0\n",
    "val_x = np.array(val_images).astype(\"float32\") / 255.0"
   ]
  },
  {
   "cell_type": "markdown",
   "metadata": {
    "id": "ahHRLqBo11pO"
   },
   "source": [
    "## Buiding Model based ConvAutoEncoder Class"
   ]
  },
  {
   "cell_type": "code",
   "execution_count": 8,
   "metadata": {
    "colab": {
     "base_uri": "https://localhost:8080/"
    },
    "executionInfo": {
     "elapsed": 5625,
     "status": "ok",
     "timestamp": 1634455930569,
     "user": {
      "displayName": "Kharisma Muzaki Ghufron",
      "photoUrl": "https://lh3.googleusercontent.com/a/default-user=s64",
      "userId": "14730718725881384856"
     },
     "user_tz": -420
    },
    "id": "aFgpsuG814_2",
    "outputId": "bbe01b32-a8b0-4013-85d9-12a2c2fafbc9"
   },
   "outputs": [
    {
     "name": "stdout",
     "output_type": "stream",
     "text": [
      "[INFO] building auto encoder...\n"
     ]
    },
    {
     "data": {
      "text/html": [
       "<pre style=\"white-space:pre;overflow-x:auto;line-height:normal;font-family:Menlo,'DejaVu Sans Mono',consolas,'Courier New',monospace\"><span style=\"font-weight: bold\">Model: \"auto_encoder\"</span>\n",
       "</pre>\n"
      ],
      "text/plain": [
       "\u001b[1mModel: \"auto_encoder\"\u001b[0m\n"
      ]
     },
     "metadata": {},
     "output_type": "display_data"
    },
    {
     "data": {
      "text/html": [
       "<pre style=\"white-space:pre;overflow-x:auto;line-height:normal;font-family:Menlo,'DejaVu Sans Mono',consolas,'Courier New',monospace\">┏━━━━━━━━━━━━━━━━━━━━━━━━━━━━━━━━━┳━━━━━━━━━━━━━━━━━━━━━━━━┳━━━━━━━━━━━━━━━┓\n",
       "┃<span style=\"font-weight: bold\"> Layer (type)                    </span>┃<span style=\"font-weight: bold\"> Output Shape           </span>┃<span style=\"font-weight: bold\">       Param # </span>┃\n",
       "┡━━━━━━━━━━━━━━━━━━━━━━━━━━━━━━━━━╇━━━━━━━━━━━━━━━━━━━━━━━━╇━━━━━━━━━━━━━━━┩\n",
       "│ input_layer_1 (<span style=\"color: #0087ff; text-decoration-color: #0087ff\">InputLayer</span>)      │ (<span style=\"color: #00d7ff; text-decoration-color: #00d7ff\">None</span>, <span style=\"color: #00af00; text-decoration-color: #00af00\">256</span>, <span style=\"color: #00af00; text-decoration-color: #00af00\">256</span>, <span style=\"color: #00af00; text-decoration-color: #00af00\">3</span>)    │             <span style=\"color: #00af00; text-decoration-color: #00af00\">0</span> │\n",
       "├─────────────────────────────────┼────────────────────────┼───────────────┤\n",
       "│ conv2d_1 (<span style=\"color: #0087ff; text-decoration-color: #0087ff\">Conv2D</span>)               │ (<span style=\"color: #00d7ff; text-decoration-color: #00d7ff\">None</span>, <span style=\"color: #00af00; text-decoration-color: #00af00\">128</span>, <span style=\"color: #00af00; text-decoration-color: #00af00\">128</span>, <span style=\"color: #00af00; text-decoration-color: #00af00\">128</span>)  │         <span style=\"color: #00af00; text-decoration-color: #00af00\">3,584</span> │\n",
       "├─────────────────────────────────┼────────────────────────┼───────────────┤\n",
       "│ leaky_re_lu_2 (<span style=\"color: #0087ff; text-decoration-color: #0087ff\">LeakyReLU</span>)       │ (<span style=\"color: #00d7ff; text-decoration-color: #00d7ff\">None</span>, <span style=\"color: #00af00; text-decoration-color: #00af00\">128</span>, <span style=\"color: #00af00; text-decoration-color: #00af00\">128</span>, <span style=\"color: #00af00; text-decoration-color: #00af00\">128</span>)  │             <span style=\"color: #00af00; text-decoration-color: #00af00\">0</span> │\n",
       "├─────────────────────────────────┼────────────────────────┼───────────────┤\n",
       "│ enc_filter_128                  │ (<span style=\"color: #00d7ff; text-decoration-color: #00d7ff\">None</span>, <span style=\"color: #00af00; text-decoration-color: #00af00\">128</span>, <span style=\"color: #00af00; text-decoration-color: #00af00\">128</span>, <span style=\"color: #00af00; text-decoration-color: #00af00\">128</span>)  │           <span style=\"color: #00af00; text-decoration-color: #00af00\">512</span> │\n",
       "│ (<span style=\"color: #0087ff; text-decoration-color: #0087ff\">BatchNormalization</span>)            │                        │               │\n",
       "├─────────────────────────────────┼────────────────────────┼───────────────┤\n",
       "│ flatten_1 (<span style=\"color: #0087ff; text-decoration-color: #0087ff\">Flatten</span>)             │ (<span style=\"color: #00d7ff; text-decoration-color: #00d7ff\">None</span>, <span style=\"color: #00af00; text-decoration-color: #00af00\">2097152</span>)        │             <span style=\"color: #00af00; text-decoration-color: #00af00\">0</span> │\n",
       "├─────────────────────────────────┼────────────────────────┼───────────────┤\n",
       "│ encoded (<span style=\"color: #0087ff; text-decoration-color: #0087ff\">Dense</span>)                 │ (<span style=\"color: #00d7ff; text-decoration-color: #00d7ff\">None</span>, <span style=\"color: #00af00; text-decoration-color: #00af00\">48</span>)             │   <span style=\"color: #00af00; text-decoration-color: #00af00\">100,663,344</span> │\n",
       "├─────────────────────────────────┼────────────────────────┼───────────────┤\n",
       "│ dense_1 (<span style=\"color: #0087ff; text-decoration-color: #0087ff\">Dense</span>)                 │ (<span style=\"color: #00d7ff; text-decoration-color: #00d7ff\">None</span>, <span style=\"color: #00af00; text-decoration-color: #00af00\">2097152</span>)        │   <span style=\"color: #00af00; text-decoration-color: #00af00\">102,760,448</span> │\n",
       "├─────────────────────────────────┼────────────────────────┼───────────────┤\n",
       "│ reshape_1 (<span style=\"color: #0087ff; text-decoration-color: #0087ff\">Reshape</span>)             │ (<span style=\"color: #00d7ff; text-decoration-color: #00d7ff\">None</span>, <span style=\"color: #00af00; text-decoration-color: #00af00\">128</span>, <span style=\"color: #00af00; text-decoration-color: #00af00\">128</span>, <span style=\"color: #00af00; text-decoration-color: #00af00\">128</span>)  │             <span style=\"color: #00af00; text-decoration-color: #00af00\">0</span> │\n",
       "├─────────────────────────────────┼────────────────────────┼───────────────┤\n",
       "│ conv2d_transpose_2              │ (<span style=\"color: #00d7ff; text-decoration-color: #00d7ff\">None</span>, <span style=\"color: #00af00; text-decoration-color: #00af00\">256</span>, <span style=\"color: #00af00; text-decoration-color: #00af00\">256</span>, <span style=\"color: #00af00; text-decoration-color: #00af00\">128</span>)  │       <span style=\"color: #00af00; text-decoration-color: #00af00\">147,584</span> │\n",
       "│ (<span style=\"color: #0087ff; text-decoration-color: #0087ff\">Conv2DTranspose</span>)               │                        │               │\n",
       "├─────────────────────────────────┼────────────────────────┼───────────────┤\n",
       "│ leaky_re_lu_3 (<span style=\"color: #0087ff; text-decoration-color: #0087ff\">LeakyReLU</span>)       │ (<span style=\"color: #00d7ff; text-decoration-color: #00d7ff\">None</span>, <span style=\"color: #00af00; text-decoration-color: #00af00\">256</span>, <span style=\"color: #00af00; text-decoration-color: #00af00\">256</span>, <span style=\"color: #00af00; text-decoration-color: #00af00\">128</span>)  │             <span style=\"color: #00af00; text-decoration-color: #00af00\">0</span> │\n",
       "├─────────────────────────────────┼────────────────────────┼───────────────┤\n",
       "│ dec_filter_128                  │ (<span style=\"color: #00d7ff; text-decoration-color: #00d7ff\">None</span>, <span style=\"color: #00af00; text-decoration-color: #00af00\">256</span>, <span style=\"color: #00af00; text-decoration-color: #00af00\">256</span>, <span style=\"color: #00af00; text-decoration-color: #00af00\">128</span>)  │           <span style=\"color: #00af00; text-decoration-color: #00af00\">512</span> │\n",
       "│ (<span style=\"color: #0087ff; text-decoration-color: #0087ff\">BatchNormalization</span>)            │                        │               │\n",
       "├─────────────────────────────────┼────────────────────────┼───────────────┤\n",
       "│ conv2d_transpose_3              │ (<span style=\"color: #00d7ff; text-decoration-color: #00d7ff\">None</span>, <span style=\"color: #00af00; text-decoration-color: #00af00\">256</span>, <span style=\"color: #00af00; text-decoration-color: #00af00\">256</span>, <span style=\"color: #00af00; text-decoration-color: #00af00\">3</span>)    │         <span style=\"color: #00af00; text-decoration-color: #00af00\">3,459</span> │\n",
       "│ (<span style=\"color: #0087ff; text-decoration-color: #0087ff\">Conv2DTranspose</span>)               │                        │               │\n",
       "├─────────────────────────────────┼────────────────────────┼───────────────┤\n",
       "│ decoded (<span style=\"color: #0087ff; text-decoration-color: #0087ff\">Activation</span>)            │ (<span style=\"color: #00d7ff; text-decoration-color: #00d7ff\">None</span>, <span style=\"color: #00af00; text-decoration-color: #00af00\">256</span>, <span style=\"color: #00af00; text-decoration-color: #00af00\">256</span>, <span style=\"color: #00af00; text-decoration-color: #00af00\">3</span>)    │             <span style=\"color: #00af00; text-decoration-color: #00af00\">0</span> │\n",
       "└─────────────────────────────────┴────────────────────────┴───────────────┘\n",
       "</pre>\n"
      ],
      "text/plain": [
       "┏━━━━━━━━━━━━━━━━━━━━━━━━━━━━━━━━━┳━━━━━━━━━━━━━━━━━━━━━━━━┳━━━━━━━━━━━━━━━┓\n",
       "┃\u001b[1m \u001b[0m\u001b[1mLayer (type)                   \u001b[0m\u001b[1m \u001b[0m┃\u001b[1m \u001b[0m\u001b[1mOutput Shape          \u001b[0m\u001b[1m \u001b[0m┃\u001b[1m \u001b[0m\u001b[1m      Param #\u001b[0m\u001b[1m \u001b[0m┃\n",
       "┡━━━━━━━━━━━━━━━━━━━━━━━━━━━━━━━━━╇━━━━━━━━━━━━━━━━━━━━━━━━╇━━━━━━━━━━━━━━━┩\n",
       "│ input_layer_1 (\u001b[38;5;33mInputLayer\u001b[0m)      │ (\u001b[38;5;45mNone\u001b[0m, \u001b[38;5;34m256\u001b[0m, \u001b[38;5;34m256\u001b[0m, \u001b[38;5;34m3\u001b[0m)    │             \u001b[38;5;34m0\u001b[0m │\n",
       "├─────────────────────────────────┼────────────────────────┼───────────────┤\n",
       "│ conv2d_1 (\u001b[38;5;33mConv2D\u001b[0m)               │ (\u001b[38;5;45mNone\u001b[0m, \u001b[38;5;34m128\u001b[0m, \u001b[38;5;34m128\u001b[0m, \u001b[38;5;34m128\u001b[0m)  │         \u001b[38;5;34m3,584\u001b[0m │\n",
       "├─────────────────────────────────┼────────────────────────┼───────────────┤\n",
       "│ leaky_re_lu_2 (\u001b[38;5;33mLeakyReLU\u001b[0m)       │ (\u001b[38;5;45mNone\u001b[0m, \u001b[38;5;34m128\u001b[0m, \u001b[38;5;34m128\u001b[0m, \u001b[38;5;34m128\u001b[0m)  │             \u001b[38;5;34m0\u001b[0m │\n",
       "├─────────────────────────────────┼────────────────────────┼───────────────┤\n",
       "│ enc_filter_128                  │ (\u001b[38;5;45mNone\u001b[0m, \u001b[38;5;34m128\u001b[0m, \u001b[38;5;34m128\u001b[0m, \u001b[38;5;34m128\u001b[0m)  │           \u001b[38;5;34m512\u001b[0m │\n",
       "│ (\u001b[38;5;33mBatchNormalization\u001b[0m)            │                        │               │\n",
       "├─────────────────────────────────┼────────────────────────┼───────────────┤\n",
       "│ flatten_1 (\u001b[38;5;33mFlatten\u001b[0m)             │ (\u001b[38;5;45mNone\u001b[0m, \u001b[38;5;34m2097152\u001b[0m)        │             \u001b[38;5;34m0\u001b[0m │\n",
       "├─────────────────────────────────┼────────────────────────┼───────────────┤\n",
       "│ encoded (\u001b[38;5;33mDense\u001b[0m)                 │ (\u001b[38;5;45mNone\u001b[0m, \u001b[38;5;34m48\u001b[0m)             │   \u001b[38;5;34m100,663,344\u001b[0m │\n",
       "├─────────────────────────────────┼────────────────────────┼───────────────┤\n",
       "│ dense_1 (\u001b[38;5;33mDense\u001b[0m)                 │ (\u001b[38;5;45mNone\u001b[0m, \u001b[38;5;34m2097152\u001b[0m)        │   \u001b[38;5;34m102,760,448\u001b[0m │\n",
       "├─────────────────────────────────┼────────────────────────┼───────────────┤\n",
       "│ reshape_1 (\u001b[38;5;33mReshape\u001b[0m)             │ (\u001b[38;5;45mNone\u001b[0m, \u001b[38;5;34m128\u001b[0m, \u001b[38;5;34m128\u001b[0m, \u001b[38;5;34m128\u001b[0m)  │             \u001b[38;5;34m0\u001b[0m │\n",
       "├─────────────────────────────────┼────────────────────────┼───────────────┤\n",
       "│ conv2d_transpose_2              │ (\u001b[38;5;45mNone\u001b[0m, \u001b[38;5;34m256\u001b[0m, \u001b[38;5;34m256\u001b[0m, \u001b[38;5;34m128\u001b[0m)  │       \u001b[38;5;34m147,584\u001b[0m │\n",
       "│ (\u001b[38;5;33mConv2DTranspose\u001b[0m)               │                        │               │\n",
       "├─────────────────────────────────┼────────────────────────┼───────────────┤\n",
       "│ leaky_re_lu_3 (\u001b[38;5;33mLeakyReLU\u001b[0m)       │ (\u001b[38;5;45mNone\u001b[0m, \u001b[38;5;34m256\u001b[0m, \u001b[38;5;34m256\u001b[0m, \u001b[38;5;34m128\u001b[0m)  │             \u001b[38;5;34m0\u001b[0m │\n",
       "├─────────────────────────────────┼────────────────────────┼───────────────┤\n",
       "│ dec_filter_128                  │ (\u001b[38;5;45mNone\u001b[0m, \u001b[38;5;34m256\u001b[0m, \u001b[38;5;34m256\u001b[0m, \u001b[38;5;34m128\u001b[0m)  │           \u001b[38;5;34m512\u001b[0m │\n",
       "│ (\u001b[38;5;33mBatchNormalization\u001b[0m)            │                        │               │\n",
       "├─────────────────────────────────┼────────────────────────┼───────────────┤\n",
       "│ conv2d_transpose_3              │ (\u001b[38;5;45mNone\u001b[0m, \u001b[38;5;34m256\u001b[0m, \u001b[38;5;34m256\u001b[0m, \u001b[38;5;34m3\u001b[0m)    │         \u001b[38;5;34m3,459\u001b[0m │\n",
       "│ (\u001b[38;5;33mConv2DTranspose\u001b[0m)               │                        │               │\n",
       "├─────────────────────────────────┼────────────────────────┼───────────────┤\n",
       "│ decoded (\u001b[38;5;33mActivation\u001b[0m)            │ (\u001b[38;5;45mNone\u001b[0m, \u001b[38;5;34m256\u001b[0m, \u001b[38;5;34m256\u001b[0m, \u001b[38;5;34m3\u001b[0m)    │             \u001b[38;5;34m0\u001b[0m │\n",
       "└─────────────────────────────────┴────────────────────────┴───────────────┘\n"
      ]
     },
     "metadata": {},
     "output_type": "display_data"
    },
    {
     "data": {
      "text/html": [
       "<pre style=\"white-space:pre;overflow-x:auto;line-height:normal;font-family:Menlo,'DejaVu Sans Mono',consolas,'Courier New',monospace\"><span style=\"font-weight: bold\"> Total params: </span><span style=\"color: #00af00; text-decoration-color: #00af00\">203,579,443</span> (776.59 MB)\n",
       "</pre>\n"
      ],
      "text/plain": [
       "\u001b[1m Total params: \u001b[0m\u001b[38;5;34m203,579,443\u001b[0m (776.59 MB)\n"
      ]
     },
     "metadata": {},
     "output_type": "display_data"
    },
    {
     "data": {
      "text/html": [
       "<pre style=\"white-space:pre;overflow-x:auto;line-height:normal;font-family:Menlo,'DejaVu Sans Mono',consolas,'Courier New',monospace\"><span style=\"font-weight: bold\"> Trainable params: </span><span style=\"color: #00af00; text-decoration-color: #00af00\">203,578,931</span> (776.59 MB)\n",
       "</pre>\n"
      ],
      "text/plain": [
       "\u001b[1m Trainable params: \u001b[0m\u001b[38;5;34m203,578,931\u001b[0m (776.59 MB)\n"
      ]
     },
     "metadata": {},
     "output_type": "display_data"
    },
    {
     "data": {
      "text/html": [
       "<pre style=\"white-space:pre;overflow-x:auto;line-height:normal;font-family:Menlo,'DejaVu Sans Mono',consolas,'Courier New',monospace\"><span style=\"font-weight: bold\"> Non-trainable params: </span><span style=\"color: #00af00; text-decoration-color: #00af00\">512</span> (2.00 KB)\n",
       "</pre>\n"
      ],
      "text/plain": [
       "\u001b[1m Non-trainable params: \u001b[0m\u001b[38;5;34m512\u001b[0m (2.00 KB)\n"
      ]
     },
     "metadata": {},
     "output_type": "display_data"
    }
   ],
   "source": [
    "print(\"[INFO] building auto encoder...\")\n",
    "auto_encoder = ConvAutoEncoder.build(IMAGE_SIZE[0], IMAGE_SIZE[1], 3)\n",
    "opt = Adam(learning_rate=INIT_LR)\n",
    "checkpoint_callback = ModelCheckpoint(\n",
    "    filepath=checkpoint_path + \".keras\",\n",
    "    monitor=\"val_loss\",\n",
    "    verbose = 1,\n",
    "    mode='min',\n",
    "    save_best_only=True)\n",
    "auto_encoder.compile(loss=\"mse\", optimizer=opt)\n",
    "auto_encoder.summary()"
   ]
  },
  {
   "cell_type": "markdown",
   "metadata": {
    "id": "AHk07pZL2DdQ"
   },
   "source": [
    "## Training The Model"
   ]
  },
  {
   "cell_type": "code",
   "execution_count": 9,
   "metadata": {
    "colab": {
     "base_uri": "https://localhost:8080/"
    },
    "executionInfo": {
     "elapsed": 3926380,
     "status": "ok",
     "timestamp": 1634459856945,
     "user": {
      "displayName": "Kharisma Muzaki Ghufron",
      "photoUrl": "https://lh3.googleusercontent.com/a/default-user=s64",
      "userId": "14730718725881384856"
     },
     "user_tz": -420
    },
    "id": "iR1qEEyX2J8-",
    "outputId": "e21d3490-9768-4944-e2a5-ddbe49f975c7"
   },
   "outputs": [
    {
     "name": "stdout",
     "output_type": "stream",
     "text": [
      "[INFO] training auto encoder...\n",
      "Epoch 1/20\n",
      "\u001b[1m102/102\u001b[0m \u001b[32m━━━━━━━━━━━━━━━━━━━━\u001b[0m\u001b[37m\u001b[0m \u001b[1m0s\u001b[0m 4s/step - loss: 0.0715\n",
      "Epoch 1: val_loss improved from inf to 0.01686, saving model to training_1_40_binary_cp/cp.ckpt.keras\n",
      "\u001b[1m102/102\u001b[0m \u001b[32m━━━━━━━━━━━━━━━━━━━━\u001b[0m\u001b[37m\u001b[0m \u001b[1m460s\u001b[0m 4s/step - loss: 0.0712 - val_loss: 0.0169\n",
      "Epoch 2/20\n",
      "\u001b[1m102/102\u001b[0m \u001b[32m━━━━━━━━━━━━━━━━━━━━\u001b[0m\u001b[37m\u001b[0m \u001b[1m0s\u001b[0m 5s/step - loss: 0.0115\n",
      "Epoch 2: val_loss did not improve from 0.01686\n",
      "\u001b[1m102/102\u001b[0m \u001b[32m━━━━━━━━━━━━━━━━━━━━\u001b[0m\u001b[37m\u001b[0m \u001b[1m467s\u001b[0m 5s/step - loss: 0.0115 - val_loss: 0.0179\n",
      "Epoch 3/20\n",
      "\u001b[1m102/102\u001b[0m \u001b[32m━━━━━━━━━━━━━━━━━━━━\u001b[0m\u001b[37m\u001b[0m \u001b[1m0s\u001b[0m 4s/step - loss: 0.0108\n",
      "Epoch 3: val_loss did not improve from 0.01686\n",
      "\u001b[1m102/102\u001b[0m \u001b[32m━━━━━━━━━━━━━━━━━━━━\u001b[0m\u001b[37m\u001b[0m \u001b[1m461s\u001b[0m 5s/step - loss: 0.0108 - val_loss: 0.0208\n",
      "Epoch 4/20\n",
      "\u001b[1m102/102\u001b[0m \u001b[32m━━━━━━━━━━━━━━━━━━━━\u001b[0m\u001b[37m\u001b[0m \u001b[1m0s\u001b[0m 4s/step - loss: 0.0106\n",
      "Epoch 4: val_loss did not improve from 0.01686\n",
      "\u001b[1m102/102\u001b[0m \u001b[32m━━━━━━━━━━━━━━━━━━━━\u001b[0m\u001b[37m\u001b[0m \u001b[1m460s\u001b[0m 5s/step - loss: 0.0106 - val_loss: 0.0199\n",
      "Epoch 5/20\n",
      "\u001b[1m102/102\u001b[0m \u001b[32m━━━━━━━━━━━━━━━━━━━━\u001b[0m\u001b[37m\u001b[0m \u001b[1m0s\u001b[0m 4s/step - loss: 0.0104\n",
      "Epoch 5: val_loss did not improve from 0.01686\n",
      "\u001b[1m102/102\u001b[0m \u001b[32m━━━━━━━━━━━━━━━━━━━━\u001b[0m\u001b[37m\u001b[0m \u001b[1m460s\u001b[0m 5s/step - loss: 0.0104 - val_loss: 0.0184\n",
      "Epoch 6/20\n",
      "\u001b[1m102/102\u001b[0m \u001b[32m━━━━━━━━━━━━━━━━━━━━\u001b[0m\u001b[37m\u001b[0m \u001b[1m0s\u001b[0m 4s/step - loss: 0.0101\n",
      "Epoch 6: val_loss improved from 0.01686 to 0.01210, saving model to training_1_40_binary_cp/cp.ckpt.keras\n",
      "\u001b[1m102/102\u001b[0m \u001b[32m━━━━━━━━━━━━━━━━━━━━\u001b[0m\u001b[37m\u001b[0m \u001b[1m468s\u001b[0m 5s/step - loss: 0.0101 - val_loss: 0.0121\n",
      "Epoch 7/20\n",
      "\u001b[1m102/102\u001b[0m \u001b[32m━━━━━━━━━━━━━━━━━━━━\u001b[0m\u001b[37m\u001b[0m \u001b[1m0s\u001b[0m 4s/step - loss: 0.0096\n",
      "Epoch 7: val_loss improved from 0.01210 to 0.01207, saving model to training_1_40_binary_cp/cp.ckpt.keras\n",
      "\u001b[1m102/102\u001b[0m \u001b[32m━━━━━━━━━━━━━━━━━━━━\u001b[0m\u001b[37m\u001b[0m \u001b[1m467s\u001b[0m 5s/step - loss: 0.0096 - val_loss: 0.0121\n",
      "Epoch 8/20\n",
      "\u001b[1m102/102\u001b[0m \u001b[32m━━━━━━━━━━━━━━━━━━━━\u001b[0m\u001b[37m\u001b[0m \u001b[1m0s\u001b[0m 4s/step - loss: 0.0099\n",
      "Epoch 8: val_loss improved from 0.01207 to 0.01049, saving model to training_1_40_binary_cp/cp.ckpt.keras\n",
      "\u001b[1m102/102\u001b[0m \u001b[32m━━━━━━━━━━━━━━━━━━━━\u001b[0m\u001b[37m\u001b[0m \u001b[1m469s\u001b[0m 5s/step - loss: 0.0099 - val_loss: 0.0105\n",
      "Epoch 9/20\n",
      "\u001b[1m102/102\u001b[0m \u001b[32m━━━━━━━━━━━━━━━━━━━━\u001b[0m\u001b[37m\u001b[0m \u001b[1m0s\u001b[0m 4s/step - loss: 0.0098\n",
      "Epoch 9: val_loss improved from 0.01049 to 0.01012, saving model to training_1_40_binary_cp/cp.ckpt.keras\n",
      "\u001b[1m102/102\u001b[0m \u001b[32m━━━━━━━━━━━━━━━━━━━━\u001b[0m\u001b[37m\u001b[0m \u001b[1m468s\u001b[0m 5s/step - loss: 0.0098 - val_loss: 0.0101\n",
      "Epoch 10/20\n",
      "\u001b[1m102/102\u001b[0m \u001b[32m━━━━━━━━━━━━━━━━━━━━\u001b[0m\u001b[37m\u001b[0m \u001b[1m0s\u001b[0m 4s/step - loss: 0.0099\n",
      "Epoch 10: val_loss improved from 0.01012 to 0.00964, saving model to training_1_40_binary_cp/cp.ckpt.keras\n",
      "\u001b[1m102/102\u001b[0m \u001b[32m━━━━━━━━━━━━━━━━━━━━\u001b[0m\u001b[37m\u001b[0m \u001b[1m469s\u001b[0m 5s/step - loss: 0.0099 - val_loss: 0.0096\n",
      "Epoch 11/20\n",
      "\u001b[1m102/102\u001b[0m \u001b[32m━━━━━━━━━━━━━━━━━━━━\u001b[0m\u001b[37m\u001b[0m \u001b[1m0s\u001b[0m 4s/step - loss: 0.0096\n",
      "Epoch 11: val_loss improved from 0.00964 to 0.00952, saving model to training_1_40_binary_cp/cp.ckpt.keras\n",
      "\u001b[1m102/102\u001b[0m \u001b[32m━━━━━━━━━━━━━━━━━━━━\u001b[0m\u001b[37m\u001b[0m \u001b[1m468s\u001b[0m 5s/step - loss: 0.0096 - val_loss: 0.0095\n",
      "Epoch 12/20\n",
      "\u001b[1m102/102\u001b[0m \u001b[32m━━━━━━━━━━━━━━━━━━━━\u001b[0m\u001b[37m\u001b[0m \u001b[1m0s\u001b[0m 4s/step - loss: 0.0094\n",
      "Epoch 12: val_loss did not improve from 0.00952\n",
      "\u001b[1m102/102\u001b[0m \u001b[32m━━━━━━━━━━━━━━━━━━━━\u001b[0m\u001b[37m\u001b[0m \u001b[1m460s\u001b[0m 5s/step - loss: 0.0094 - val_loss: 0.0099\n",
      "Epoch 13/20\n",
      "\u001b[1m102/102\u001b[0m \u001b[32m━━━━━━━━━━━━━━━━━━━━\u001b[0m\u001b[37m\u001b[0m \u001b[1m0s\u001b[0m 4s/step - loss: 0.0095\n",
      "Epoch 13: val_loss improved from 0.00952 to 0.00939, saving model to training_1_40_binary_cp/cp.ckpt.keras\n",
      "\u001b[1m102/102\u001b[0m \u001b[32m━━━━━━━━━━━━━━━━━━━━\u001b[0m\u001b[37m\u001b[0m \u001b[1m468s\u001b[0m 5s/step - loss: 0.0095 - val_loss: 0.0094\n",
      "Epoch 14/20\n",
      "\u001b[1m102/102\u001b[0m \u001b[32m━━━━━━━━━━━━━━━━━━━━\u001b[0m\u001b[37m\u001b[0m \u001b[1m0s\u001b[0m 4s/step - loss: 0.0095\n",
      "Epoch 14: val_loss did not improve from 0.00939\n",
      "\u001b[1m102/102\u001b[0m \u001b[32m━━━━━━━━━━━━━━━━━━━━\u001b[0m\u001b[37m\u001b[0m \u001b[1m461s\u001b[0m 5s/step - loss: 0.0095 - val_loss: 0.0103\n",
      "Epoch 15/20\n",
      "\u001b[1m102/102\u001b[0m \u001b[32m━━━━━━━━━━━━━━━━━━━━\u001b[0m\u001b[37m\u001b[0m \u001b[1m0s\u001b[0m 4s/step - loss: 0.0094\n",
      "Epoch 15: val_loss did not improve from 0.00939\n",
      "\u001b[1m102/102\u001b[0m \u001b[32m━━━━━━━━━━━━━━━━━━━━\u001b[0m\u001b[37m\u001b[0m \u001b[1m461s\u001b[0m 5s/step - loss: 0.0094 - val_loss: 0.0098\n",
      "Epoch 16/20\n",
      "\u001b[1m102/102\u001b[0m \u001b[32m━━━━━━━━━━━━━━━━━━━━\u001b[0m\u001b[37m\u001b[0m \u001b[1m0s\u001b[0m 4s/step - loss: 0.0095\n",
      "Epoch 16: val_loss did not improve from 0.00939\n",
      "\u001b[1m102/102\u001b[0m \u001b[32m━━━━━━━━━━━━━━━━━━━━\u001b[0m\u001b[37m\u001b[0m \u001b[1m462s\u001b[0m 5s/step - loss: 0.0095 - val_loss: 0.0657\n",
      "Epoch 17/20\n",
      "\u001b[1m102/102\u001b[0m \u001b[32m━━━━━━━━━━━━━━━━━━━━\u001b[0m\u001b[37m\u001b[0m \u001b[1m0s\u001b[0m 4s/step - loss: 0.0101\n",
      "Epoch 17: val_loss did not improve from 0.00939\n",
      "\u001b[1m102/102\u001b[0m \u001b[32m━━━━━━━━━━━━━━━━━━━━\u001b[0m\u001b[37m\u001b[0m \u001b[1m462s\u001b[0m 5s/step - loss: 0.0101 - val_loss: 0.0374\n",
      "Epoch 18/20\n",
      "\u001b[1m102/102\u001b[0m \u001b[32m━━━━━━━━━━━━━━━━━━━━\u001b[0m\u001b[37m\u001b[0m \u001b[1m0s\u001b[0m 4s/step - loss: 0.0093\n",
      "Epoch 18: val_loss did not improve from 0.00939\n",
      "\u001b[1m102/102\u001b[0m \u001b[32m━━━━━━━━━━━━━━━━━━━━\u001b[0m\u001b[37m\u001b[0m \u001b[1m461s\u001b[0m 5s/step - loss: 0.0093 - val_loss: 0.0098\n",
      "Epoch 19/20\n",
      "\u001b[1m102/102\u001b[0m \u001b[32m━━━━━━━━━━━━━━━━━━━━\u001b[0m\u001b[37m\u001b[0m \u001b[1m0s\u001b[0m 4s/step - loss: 0.0091\n",
      "Epoch 19: val_loss did not improve from 0.00939\n",
      "\u001b[1m102/102\u001b[0m \u001b[32m━━━━━━━━━━━━━━━━━━━━\u001b[0m\u001b[37m\u001b[0m \u001b[1m462s\u001b[0m 5s/step - loss: 0.0091 - val_loss: 0.0097\n",
      "Epoch 20/20\n",
      "\u001b[1m102/102\u001b[0m \u001b[32m━━━━━━━━━━━━━━━━━━━━\u001b[0m\u001b[37m\u001b[0m \u001b[1m0s\u001b[0m 4s/step - loss: 0.0091\n",
      "Epoch 20: val_loss did not improve from 0.00939\n",
      "\u001b[1m102/102\u001b[0m \u001b[32m━━━━━━━━━━━━━━━━━━━━\u001b[0m\u001b[37m\u001b[0m \u001b[1m462s\u001b[0m 5s/step - loss: 0.0091 - val_loss: 0.0097\n"
     ]
    }
   ],
   "source": [
    "# train the convolutional auto encoder\n",
    "print(\"[INFO] training auto encoder...\")\n",
    "H = auto_encoder.fit(\n",
    "    train_x, train_x,\n",
    "    shuffle=True,\n",
    "    validation_data=(val_x, val_x),\n",
    "    epochs=EPOCHS,\n",
    "    callbacks = [checkpoint_callback], batch_size=BS)"
   ]
  },
  {
   "cell_type": "markdown",
   "metadata": {
    "id": "NGP0dXvg2Lze"
   },
   "source": [
    "## Saved Result Graphic (.json) and Model Trained (h5)"
   ]
  },
  {
   "cell_type": "code",
   "execution_count": 10,
   "metadata": {
    "executionInfo": {
     "elapsed": 29984,
     "status": "ok",
     "timestamp": 1634459886922,
     "user": {
      "displayName": "Kharisma Muzaki Ghufron",
      "photoUrl": "https://lh3.googleusercontent.com/a/default-user=s64",
      "userId": "14730718725881384856"
     },
     "user_tz": -420
    },
    "id": "4W49P0jq2Zt-"
   },
   "outputs": [
    {
     "name": "stderr",
     "output_type": "stream",
     "text": [
      "WARNING:absl:You are saving your model as an HDF5 file via `model.save()` or `keras.saving.save_model(model)`. This file format is considered legacy. We recommend using instead the native Keras format, e.g. `model.save('my_model.keras')` or `keras.saving.save_model(model, 'my_model.keras')`. \n"
     ]
    }
   ],
   "source": [
    "with open(history_path, 'w') as f:\n",
    "    json.dump(H.history, f)\n",
    "auto_encoder.save(model_path)"
   ]
  },
  {
   "cell_type": "markdown",
   "metadata": {
    "id": "YiaL-r9o3wMW"
   },
   "source": [
    "# Extract Feature Stage"
   ]
  },
  {
   "cell_type": "markdown",
   "metadata": {
    "id": "WDJy4NT43-tO"
   },
   "source": [
    "## Load already trained model and extracting feature\n"
   ]
  },
  {
   "cell_type": "code",
   "execution_count": 12,
   "metadata": {
    "colab": {
     "base_uri": "https://localhost:8080/"
    },
    "executionInfo": {
     "elapsed": 30833,
     "status": "ok",
     "timestamp": 1634459917745,
     "user": {
      "displayName": "Kharisma Muzaki Ghufron",
      "photoUrl": "https://lh3.googleusercontent.com/a/default-user=s64",
      "userId": "14730718725881384856"
     },
     "user_tz": -420
    },
    "id": "eN11l1iF4DUW",
    "outputId": "c1b5cd23-5746-4e86-b1c5-5e1abc415979"
   },
   "outputs": [
    {
     "name": "stdout",
     "output_type": "stream",
     "text": [
      "[INFO] loading auto encoder model...\n",
      "[INFO] encoding images...\n",
      "\u001b[1m51/51\u001b[0m \u001b[32m━━━━━━━━━━━━━━━━━━━━\u001b[0m\u001b[37m\u001b[0m \u001b[1m7s\u001b[0m 141ms/step\n"
     ]
    }
   ],
   "source": [
    "auto_encoder = ConvAutoEncoder.build(IMAGE_SIZE[0], IMAGE_SIZE[1], 3)\n",
    "# load our auto_encoder from disk\n",
    "print(\"[INFO] loading auto encoder model...\")\n",
    "auto_encoder.load_weights(checkpoint_path + \".keras\")\n",
    "\n",
    "# create the encoder model which consists of *just* the encoder\n",
    "# portion of the auto encoder\n",
    "encoder = Model(inputs=auto_encoder.input,\n",
    "\toutputs=auto_encoder.get_layer(\"encoded\").output)\n",
    "\n",
    "# quantify the contents of our input images using the encoder\n",
    "print(\"[INFO] encoding images...\")\n",
    "features = encoder.predict(train_x)"
   ]
  },
  {
   "cell_type": "markdown",
   "metadata": {
    "id": "RwRiJP-84VaP"
   },
   "source": [
    "## Create mapping feature included location images, label, feature and indexing number"
   ]
  },
  {
   "cell_type": "code",
   "execution_count": 16,
   "metadata": {
    "executionInfo": {
     "elapsed": 8,
     "status": "ok",
     "timestamp": 1634459917745,
     "user": {
      "displayName": "Kharisma Muzaki Ghufron",
      "photoUrl": "https://lh3.googleusercontent.com/a/default-user=s64",
      "userId": "14730718725881384856"
     },
     "user_tz": -420
    },
    "id": "ItHAs9Aj4fm_"
   },
   "outputs": [],
   "source": [
    "indexes = list(range(0, train_x.shape[0]))\n",
    "features_array = [[float(x) for x in y] for y in features]\n",
    "labels = [path.split(\"\\\\\")[3] for path in dataset_train]\n",
    "data = {\"indexes\": indexes, \"features\": features_array, \"locations\": dataset_train, \"labels\":labels}"
   ]
  },
  {
   "cell_type": "markdown",
   "metadata": {
    "id": "-Hb3KBS-4hS3"
   },
   "source": [
    "## Saved model feature (already mapped) as json"
   ]
  },
  {
   "cell_type": "code",
   "execution_count": 17,
   "metadata": {
    "executionInfo": {
     "elapsed": 446,
     "status": "ok",
     "timestamp": 1634459918184,
     "user": {
      "displayName": "Kharisma Muzaki Ghufron",
      "photoUrl": "https://lh3.googleusercontent.com/a/default-user=s64",
      "userId": "14730718725881384856"
     },
     "user_tz": -420
    },
    "id": "gHqqNqSV4mun"
   },
   "outputs": [],
   "source": [
    "with open(feature_path, 'w') as f:\n",
    "    json.dump(data, f)"
   ]
  },
  {
   "cell_type": "markdown",
   "metadata": {
    "id": "mEKpKr-G6VAO"
   },
   "source": [
    "# Retrieval Test Stage"
   ]
  },
  {
   "cell_type": "markdown",
   "metadata": {
    "id": "JtD8TrpR7cVe"
   },
   "source": [
    "## Euclidean function"
   ]
  },
  {
   "cell_type": "code",
   "execution_count": 18,
   "metadata": {
    "executionInfo": {
     "elapsed": 23,
     "status": "ok",
     "timestamp": 1634459918185,
     "user": {
      "displayName": "Kharisma Muzaki Ghufron",
      "photoUrl": "https://lh3.googleusercontent.com/a/default-user=s64",
      "userId": "14730718725881384856"
     },
     "user_tz": -420
    },
    "id": "GZq6CCE77XHA"
   },
   "outputs": [],
   "source": [
    "def euclidean(a, b):\n",
    "\t# compute and return the euclidean distance between two vectors\n",
    "\treturn np.linalg.norm(a - b)"
   ]
  },
  {
   "cell_type": "markdown",
   "metadata": {
    "id": "bac1xbma7ew-"
   },
   "source": [
    "## Perform search function\n",
    "```\n",
    "Default max result from search is 5\n",
    "```\n",
    "\n",
    "\n"
   ]
  },
  {
   "cell_type": "code",
   "execution_count": 19,
   "metadata": {
    "executionInfo": {
     "elapsed": 23,
     "status": "ok",
     "timestamp": 1634459918185,
     "user": {
      "displayName": "Kharisma Muzaki Ghufron",
      "photoUrl": "https://lh3.googleusercontent.com/a/default-user=s64",
      "userId": "14730718725881384856"
     },
     "user_tz": -420
    },
    "id": "H_aMevGo7g--"
   },
   "outputs": [],
   "source": [
    "def perform_search(query_features, indexed_train, max_results=5):\n",
    "\tretrieved = []\n",
    "\tfor idx in range(0, len(indexed_train[\"features\"])):\n",
    "\t\tdistance = euclidean(query_features, indexed_train[\"features\"][idx])\n",
    "\t\tretrieved.append((distance, idx))\n",
    "\tretrieved = sorted(retrieved)[:max_results]\n",
    "\treturn retrieved"
   ]
  },
  {
   "cell_type": "markdown",
   "metadata": {
    "id": "YgnbuFOa7pi_"
   },
   "source": [
    "## Load test images"
   ]
  },
  {
   "cell_type": "code",
   "execution_count": 20,
   "metadata": {
    "colab": {
     "base_uri": "https://localhost:8080/"
    },
    "executionInfo": {
     "elapsed": 156101,
     "status": "ok",
     "timestamp": 1634460074264,
     "user": {
      "displayName": "Kharisma Muzaki Ghufron",
      "photoUrl": "https://lh3.googleusercontent.com/a/default-user=s64",
      "userId": "14730718725881384856"
     },
     "user_tz": -420
    },
    "id": "O7JbLMvV7sCu",
    "outputId": "5475e1fa-2602-4e07-c8d2-b5b2448f322e"
   },
   "outputs": [
    {
     "name": "stdout",
     "output_type": "stream",
     "text": [
      "[INFO] indexing file images BreaKHis dataset...\n",
      "test len to retrieving: 199\n",
      "[INFO] load test images BreaKHis dataset...\n"
     ]
    }
   ],
   "source": [
    "print(\"[INFO] indexing file images BreaKHis dataset...\")\n",
    "# indexing file images\n",
    "dataset = []\n",
    "for class_item in class_dir:\n",
    "    cur_dir = os.path.join(base_dataset, 'test', magnification, class_item)\n",
    "    for file in os.listdir(cur_dir):\n",
    "        dataset.append(os.path.join(cur_dir, file))\n",
    "print(\"test len to retrieving:\", len(dataset))\n",
    "print(\"[INFO] load test images BreaKHis dataset...\")\n",
    "#  load images\n",
    "images = []\n",
    "for image_path in dataset:\n",
    "    if \".png\" in image_path:\n",
    "        image = cv2.imread(image_path)\n",
    "        image = cv2.resize(image, IMAGE_SIZE)\n",
    "        images.append(image)"
   ]
  },
  {
   "cell_type": "markdown",
   "metadata": {
    "id": "5Top26XB71IG"
   },
   "source": [
    "## Normalization"
   ]
  },
  {
   "cell_type": "code",
   "execution_count": 21,
   "metadata": {
    "colab": {
     "base_uri": "https://localhost:8080/"
    },
    "executionInfo": {
     "elapsed": 16,
     "status": "ok",
     "timestamp": 1634460074264,
     "user": {
      "displayName": "Kharisma Muzaki Ghufron",
      "photoUrl": "https://lh3.googleusercontent.com/a/default-user=s64",
      "userId": "14730718725881384856"
     },
     "user_tz": -420
    },
    "id": "RzXdG9GH7v4O",
    "outputId": "832fd228-7e57-48fe-e39b-d15e5319b00e"
   },
   "outputs": [
    {
     "name": "stdout",
     "output_type": "stream",
     "text": [
      "[INFO] normalization...\n"
     ]
    }
   ],
   "source": [
    "# normalization\n",
    "print(\"[INFO] normalization...\")\n",
    "test_x = np.array(images).astype(\"float32\") / 255.0"
   ]
  },
  {
   "cell_type": "markdown",
   "metadata": {
    "id": "zWU1LO2L725_"
   },
   "source": [
    "## Load the model and feature already extracted"
   ]
  },
  {
   "cell_type": "code",
   "execution_count": 23,
   "metadata": {
    "colab": {
     "base_uri": "https://localhost:8080/"
    },
    "executionInfo": {
     "elapsed": 21348,
     "status": "ok",
     "timestamp": 1634460095599,
     "user": {
      "displayName": "Kharisma Muzaki Ghufron",
      "photoUrl": "https://lh3.googleusercontent.com/a/default-user=s64",
      "userId": "14730718725881384856"
     },
     "user_tz": -420
    },
    "id": "l0yvC_Fm8Bo_",
    "outputId": "046dc82a-7970-4f8f-982c-7f1fe4454023"
   },
   "outputs": [
    {
     "name": "stdout",
     "output_type": "stream",
     "text": [
      "[INFO] loading auto encoder model...\n",
      "[INFO] encoding images...\n",
      "\u001b[1m7/7\u001b[0m \u001b[32m━━━━━━━━━━━━━━━━━━━━\u001b[0m\u001b[37m\u001b[0m \u001b[1m1s\u001b[0m 115ms/step\n"
     ]
    }
   ],
   "source": [
    "auto_encoder = ConvAutoEncoder.build(IMAGE_SIZE[0], IMAGE_SIZE[1], 3)\n",
    "# load our auto_encoder from disk\n",
    "print(\"[INFO] loading auto encoder model...\")\n",
    "auto_encoder.load_weights(checkpoint_path + \".keras\")\n",
    "with open(feature_path) as f:\n",
    "  training_indexed = json.load(f)\n",
    "\n",
    "# create the encoder model which consists of *just* the encoder\n",
    "# portion of the auto encoder\n",
    "encoder = Model(inputs=auto_encoder.input,\n",
    "\toutputs=auto_encoder.get_layer(\"encoded\").output)\n",
    "\n",
    "# quantify the contents of our input images using the encoder\n",
    "print(\"[INFO] encoding images...\")\n",
    "features_retrieved = encoder.predict(test_x)"
   ]
  },
  {
   "cell_type": "markdown",
   "metadata": {
    "id": "VFt2q2eg8KkO"
   },
   "source": [
    "## Perform search and retrieval based test images"
   ]
  },
  {
   "cell_type": "code",
   "execution_count": 25,
   "metadata": {
    "colab": {
     "base_uri": "https://localhost:8080/"
    },
    "executionInfo": {
     "elapsed": 6060,
     "status": "ok",
     "timestamp": 1634460101650,
     "user": {
      "displayName": "Kharisma Muzaki Ghufron",
      "photoUrl": "https://lh3.googleusercontent.com/a/default-user=s64",
      "userId": "14730718725881384856"
     },
     "user_tz": -420
    },
    "id": "SDoI3M9P8QXu",
    "outputId": "93e9ebef-40f4-4c55-c387-64f557f24995"
   },
   "outputs": [
    {
     "name": "stderr",
     "output_type": "stream",
     "text": [
      "c:\\Users\\juamo\\Desktop\\PID_PROJECT\\venv\\Lib\\site-packages\\sklearn\\metrics\\_classification.py:1565: UndefinedMetricWarning: Recall is ill-defined and being set to 0.0 in labels with no true samples. Use `zero_division` parameter to control this behavior.\n",
      "  _warn_prf(average, modifier, f\"{metric.capitalize()} is\", len(result))\n",
      "c:\\Users\\juamo\\Desktop\\PID_PROJECT\\venv\\Lib\\site-packages\\sklearn\\metrics\\_classification.py:1565: UndefinedMetricWarning: Recall is ill-defined and being set to 0.0 in labels with no true samples. Use `zero_division` parameter to control this behavior.\n",
      "  _warn_prf(average, modifier, f\"{metric.capitalize()} is\", len(result))\n",
      "c:\\Users\\juamo\\Desktop\\PID_PROJECT\\venv\\Lib\\site-packages\\sklearn\\metrics\\_classification.py:1565: UndefinedMetricWarning: Recall is ill-defined and being set to 0.0 in labels with no true samples. Use `zero_division` parameter to control this behavior.\n",
      "  _warn_prf(average, modifier, f\"{metric.capitalize()} is\", len(result))\n",
      "c:\\Users\\juamo\\Desktop\\PID_PROJECT\\venv\\Lib\\site-packages\\sklearn\\metrics\\_classification.py:1565: UndefinedMetricWarning: Recall is ill-defined and being set to 0.0 in labels with no true samples. Use `zero_division` parameter to control this behavior.\n",
      "  _warn_prf(average, modifier, f\"{metric.capitalize()} is\", len(result))\n",
      "c:\\Users\\juamo\\Desktop\\PID_PROJECT\\venv\\Lib\\site-packages\\sklearn\\metrics\\_classification.py:1565: UndefinedMetricWarning: Recall is ill-defined and being set to 0.0 in labels with no true samples. Use `zero_division` parameter to control this behavior.\n",
      "  _warn_prf(average, modifier, f\"{metric.capitalize()} is\", len(result))\n",
      "c:\\Users\\juamo\\Desktop\\PID_PROJECT\\venv\\Lib\\site-packages\\sklearn\\metrics\\_classification.py:1565: UndefinedMetricWarning: Recall is ill-defined and being set to 0.0 in labels with no true samples. Use `zero_division` parameter to control this behavior.\n",
      "  _warn_prf(average, modifier, f\"{metric.capitalize()} is\", len(result))\n",
      "c:\\Users\\juamo\\Desktop\\PID_PROJECT\\venv\\Lib\\site-packages\\sklearn\\metrics\\_classification.py:1565: UndefinedMetricWarning: Recall is ill-defined and being set to 0.0 in labels with no true samples. Use `zero_division` parameter to control this behavior.\n",
      "  _warn_prf(average, modifier, f\"{metric.capitalize()} is\", len(result))\n",
      "c:\\Users\\juamo\\Desktop\\PID_PROJECT\\venv\\Lib\\site-packages\\sklearn\\metrics\\_classification.py:1565: UndefinedMetricWarning: Precision is ill-defined and being set to 0.0 in labels with no predicted samples. Use `zero_division` parameter to control this behavior.\n",
      "  _warn_prf(average, modifier, f\"{metric.capitalize()} is\", len(result))\n",
      "c:\\Users\\juamo\\Desktop\\PID_PROJECT\\venv\\Lib\\site-packages\\sklearn\\metrics\\_classification.py:1565: UndefinedMetricWarning: Recall is ill-defined and being set to 0.0 in labels with no true samples. Use `zero_division` parameter to control this behavior.\n",
      "  _warn_prf(average, modifier, f\"{metric.capitalize()} is\", len(result))\n",
      "c:\\Users\\juamo\\Desktop\\PID_PROJECT\\venv\\Lib\\site-packages\\sklearn\\metrics\\_classification.py:1565: UndefinedMetricWarning: Recall is ill-defined and being set to 0.0 in labels with no true samples. Use `zero_division` parameter to control this behavior.\n",
      "  _warn_prf(average, modifier, f\"{metric.capitalize()} is\", len(result))\n",
      "c:\\Users\\juamo\\Desktop\\PID_PROJECT\\venv\\Lib\\site-packages\\sklearn\\metrics\\_classification.py:1565: UndefinedMetricWarning: Recall is ill-defined and being set to 0.0 in labels with no true samples. Use `zero_division` parameter to control this behavior.\n",
      "  _warn_prf(average, modifier, f\"{metric.capitalize()} is\", len(result))\n",
      "c:\\Users\\juamo\\Desktop\\PID_PROJECT\\venv\\Lib\\site-packages\\sklearn\\metrics\\_classification.py:1565: UndefinedMetricWarning: Recall is ill-defined and being set to 0.0 in labels with no true samples. Use `zero_division` parameter to control this behavior.\n",
      "  _warn_prf(average, modifier, f\"{metric.capitalize()} is\", len(result))\n",
      "c:\\Users\\juamo\\Desktop\\PID_PROJECT\\venv\\Lib\\site-packages\\sklearn\\metrics\\_classification.py:1565: UndefinedMetricWarning: Recall is ill-defined and being set to 0.0 in labels with no true samples. Use `zero_division` parameter to control this behavior.\n",
      "  _warn_prf(average, modifier, f\"{metric.capitalize()} is\", len(result))\n",
      "c:\\Users\\juamo\\Desktop\\PID_PROJECT\\venv\\Lib\\site-packages\\sklearn\\metrics\\_classification.py:1565: UndefinedMetricWarning: Recall is ill-defined and being set to 0.0 in labels with no true samples. Use `zero_division` parameter to control this behavior.\n",
      "  _warn_prf(average, modifier, f\"{metric.capitalize()} is\", len(result))\n",
      "c:\\Users\\juamo\\Desktop\\PID_PROJECT\\venv\\Lib\\site-packages\\sklearn\\metrics\\_classification.py:1565: UndefinedMetricWarning: Recall is ill-defined and being set to 0.0 in labels with no true samples. Use `zero_division` parameter to control this behavior.\n",
      "  _warn_prf(average, modifier, f\"{metric.capitalize()} is\", len(result))\n",
      "c:\\Users\\juamo\\Desktop\\PID_PROJECT\\venv\\Lib\\site-packages\\sklearn\\metrics\\_classification.py:1565: UndefinedMetricWarning: Recall is ill-defined and being set to 0.0 in labels with no true samples. Use `zero_division` parameter to control this behavior.\n",
      "  _warn_prf(average, modifier, f\"{metric.capitalize()} is\", len(result))\n",
      "c:\\Users\\juamo\\Desktop\\PID_PROJECT\\venv\\Lib\\site-packages\\sklearn\\metrics\\_classification.py:1565: UndefinedMetricWarning: Recall is ill-defined and being set to 0.0 in labels with no true samples. Use `zero_division` parameter to control this behavior.\n",
      "  _warn_prf(average, modifier, f\"{metric.capitalize()} is\", len(result))\n",
      "c:\\Users\\juamo\\Desktop\\PID_PROJECT\\venv\\Lib\\site-packages\\sklearn\\metrics\\_classification.py:1565: UndefinedMetricWarning: Recall is ill-defined and being set to 0.0 in labels with no true samples. Use `zero_division` parameter to control this behavior.\n",
      "  _warn_prf(average, modifier, f\"{metric.capitalize()} is\", len(result))\n",
      "c:\\Users\\juamo\\Desktop\\PID_PROJECT\\venv\\Lib\\site-packages\\sklearn\\metrics\\_classification.py:1565: UndefinedMetricWarning: Recall is ill-defined and being set to 0.0 in labels with no true samples. Use `zero_division` parameter to control this behavior.\n",
      "  _warn_prf(average, modifier, f\"{metric.capitalize()} is\", len(result))\n",
      "c:\\Users\\juamo\\Desktop\\PID_PROJECT\\venv\\Lib\\site-packages\\sklearn\\metrics\\_classification.py:1565: UndefinedMetricWarning: Recall is ill-defined and being set to 0.0 in labels with no true samples. Use `zero_division` parameter to control this behavior.\n",
      "  _warn_prf(average, modifier, f\"{metric.capitalize()} is\", len(result))\n",
      "c:\\Users\\juamo\\Desktop\\PID_PROJECT\\venv\\Lib\\site-packages\\sklearn\\metrics\\_classification.py:1565: UndefinedMetricWarning: Recall is ill-defined and being set to 0.0 in labels with no true samples. Use `zero_division` parameter to control this behavior.\n",
      "  _warn_prf(average, modifier, f\"{metric.capitalize()} is\", len(result))\n",
      "c:\\Users\\juamo\\Desktop\\PID_PROJECT\\venv\\Lib\\site-packages\\sklearn\\metrics\\_classification.py:1565: UndefinedMetricWarning: Recall is ill-defined and being set to 0.0 in labels with no true samples. Use `zero_division` parameter to control this behavior.\n",
      "  _warn_prf(average, modifier, f\"{metric.capitalize()} is\", len(result))\n",
      "c:\\Users\\juamo\\Desktop\\PID_PROJECT\\venv\\Lib\\site-packages\\sklearn\\metrics\\_classification.py:1565: UndefinedMetricWarning: Recall is ill-defined and being set to 0.0 in labels with no true samples. Use `zero_division` parameter to control this behavior.\n",
      "  _warn_prf(average, modifier, f\"{metric.capitalize()} is\", len(result))\n",
      "c:\\Users\\juamo\\Desktop\\PID_PROJECT\\venv\\Lib\\site-packages\\sklearn\\metrics\\_classification.py:1565: UndefinedMetricWarning: Recall is ill-defined and being set to 0.0 in labels with no true samples. Use `zero_division` parameter to control this behavior.\n",
      "  _warn_prf(average, modifier, f\"{metric.capitalize()} is\", len(result))\n",
      "c:\\Users\\juamo\\Desktop\\PID_PROJECT\\venv\\Lib\\site-packages\\sklearn\\metrics\\_classification.py:1565: UndefinedMetricWarning: Recall is ill-defined and being set to 0.0 in labels with no true samples. Use `zero_division` parameter to control this behavior.\n",
      "  _warn_prf(average, modifier, f\"{metric.capitalize()} is\", len(result))\n",
      "c:\\Users\\juamo\\Desktop\\PID_PROJECT\\venv\\Lib\\site-packages\\sklearn\\metrics\\_classification.py:1565: UndefinedMetricWarning: Recall is ill-defined and being set to 0.0 in labels with no true samples. Use `zero_division` parameter to control this behavior.\n",
      "  _warn_prf(average, modifier, f\"{metric.capitalize()} is\", len(result))\n",
      "c:\\Users\\juamo\\Desktop\\PID_PROJECT\\venv\\Lib\\site-packages\\sklearn\\metrics\\_classification.py:1565: UndefinedMetricWarning: Recall is ill-defined and being set to 0.0 in labels with no true samples. Use `zero_division` parameter to control this behavior.\n",
      "  _warn_prf(average, modifier, f\"{metric.capitalize()} is\", len(result))\n",
      "c:\\Users\\juamo\\Desktop\\PID_PROJECT\\venv\\Lib\\site-packages\\sklearn\\metrics\\_classification.py:1565: UndefinedMetricWarning: Recall is ill-defined and being set to 0.0 in labels with no true samples. Use `zero_division` parameter to control this behavior.\n",
      "  _warn_prf(average, modifier, f\"{metric.capitalize()} is\", len(result))\n",
      "c:\\Users\\juamo\\Desktop\\PID_PROJECT\\venv\\Lib\\site-packages\\sklearn\\metrics\\_classification.py:1565: UndefinedMetricWarning: Recall is ill-defined and being set to 0.0 in labels with no true samples. Use `zero_division` parameter to control this behavior.\n",
      "  _warn_prf(average, modifier, f\"{metric.capitalize()} is\", len(result))\n",
      "c:\\Users\\juamo\\Desktop\\PID_PROJECT\\venv\\Lib\\site-packages\\sklearn\\metrics\\_classification.py:1565: UndefinedMetricWarning: Recall is ill-defined and being set to 0.0 in labels with no true samples. Use `zero_division` parameter to control this behavior.\n",
      "  _warn_prf(average, modifier, f\"{metric.capitalize()} is\", len(result))\n",
      "c:\\Users\\juamo\\Desktop\\PID_PROJECT\\venv\\Lib\\site-packages\\sklearn\\metrics\\_classification.py:1565: UndefinedMetricWarning: Recall is ill-defined and being set to 0.0 in labels with no true samples. Use `zero_division` parameter to control this behavior.\n",
      "  _warn_prf(average, modifier, f\"{metric.capitalize()} is\", len(result))\n",
      "c:\\Users\\juamo\\Desktop\\PID_PROJECT\\venv\\Lib\\site-packages\\sklearn\\metrics\\_classification.py:1565: UndefinedMetricWarning: Recall is ill-defined and being set to 0.0 in labels with no true samples. Use `zero_division` parameter to control this behavior.\n",
      "  _warn_prf(average, modifier, f\"{metric.capitalize()} is\", len(result))\n",
      "c:\\Users\\juamo\\Desktop\\PID_PROJECT\\venv\\Lib\\site-packages\\sklearn\\metrics\\_classification.py:1565: UndefinedMetricWarning: Recall is ill-defined and being set to 0.0 in labels with no true samples. Use `zero_division` parameter to control this behavior.\n",
      "  _warn_prf(average, modifier, f\"{metric.capitalize()} is\", len(result))\n",
      "c:\\Users\\juamo\\Desktop\\PID_PROJECT\\venv\\Lib\\site-packages\\sklearn\\metrics\\_classification.py:1565: UndefinedMetricWarning: Recall is ill-defined and being set to 0.0 in labels with no true samples. Use `zero_division` parameter to control this behavior.\n",
      "  _warn_prf(average, modifier, f\"{metric.capitalize()} is\", len(result))\n",
      "c:\\Users\\juamo\\Desktop\\PID_PROJECT\\venv\\Lib\\site-packages\\sklearn\\metrics\\_classification.py:1565: UndefinedMetricWarning: Recall is ill-defined and being set to 0.0 in labels with no true samples. Use `zero_division` parameter to control this behavior.\n",
      "  _warn_prf(average, modifier, f\"{metric.capitalize()} is\", len(result))\n",
      "c:\\Users\\juamo\\Desktop\\PID_PROJECT\\venv\\Lib\\site-packages\\sklearn\\metrics\\_classification.py:1565: UndefinedMetricWarning: Recall is ill-defined and being set to 0.0 in labels with no true samples. Use `zero_division` parameter to control this behavior.\n",
      "  _warn_prf(average, modifier, f\"{metric.capitalize()} is\", len(result))\n",
      "c:\\Users\\juamo\\Desktop\\PID_PROJECT\\venv\\Lib\\site-packages\\sklearn\\metrics\\_classification.py:1565: UndefinedMetricWarning: Recall is ill-defined and being set to 0.0 in labels with no true samples. Use `zero_division` parameter to control this behavior.\n",
      "  _warn_prf(average, modifier, f\"{metric.capitalize()} is\", len(result))\n",
      "c:\\Users\\juamo\\Desktop\\PID_PROJECT\\venv\\Lib\\site-packages\\sklearn\\metrics\\_classification.py:1565: UndefinedMetricWarning: Recall is ill-defined and being set to 0.0 in labels with no true samples. Use `zero_division` parameter to control this behavior.\n",
      "  _warn_prf(average, modifier, f\"{metric.capitalize()} is\", len(result))\n",
      "c:\\Users\\juamo\\Desktop\\PID_PROJECT\\venv\\Lib\\site-packages\\sklearn\\metrics\\_classification.py:1565: UndefinedMetricWarning: Recall is ill-defined and being set to 0.0 in labels with no true samples. Use `zero_division` parameter to control this behavior.\n",
      "  _warn_prf(average, modifier, f\"{metric.capitalize()} is\", len(result))\n",
      "c:\\Users\\juamo\\Desktop\\PID_PROJECT\\venv\\Lib\\site-packages\\sklearn\\metrics\\_classification.py:1565: UndefinedMetricWarning: Recall is ill-defined and being set to 0.0 in labels with no true samples. Use `zero_division` parameter to control this behavior.\n",
      "  _warn_prf(average, modifier, f\"{metric.capitalize()} is\", len(result))\n",
      "c:\\Users\\juamo\\Desktop\\PID_PROJECT\\venv\\Lib\\site-packages\\sklearn\\metrics\\_classification.py:1565: UndefinedMetricWarning: Recall is ill-defined and being set to 0.0 in labels with no true samples. Use `zero_division` parameter to control this behavior.\n",
      "  _warn_prf(average, modifier, f\"{metric.capitalize()} is\", len(result))\n",
      "c:\\Users\\juamo\\Desktop\\PID_PROJECT\\venv\\Lib\\site-packages\\sklearn\\metrics\\_classification.py:1565: UndefinedMetricWarning: Recall is ill-defined and being set to 0.0 in labels with no true samples. Use `zero_division` parameter to control this behavior.\n",
      "  _warn_prf(average, modifier, f\"{metric.capitalize()} is\", len(result))\n",
      "c:\\Users\\juamo\\Desktop\\PID_PROJECT\\venv\\Lib\\site-packages\\sklearn\\metrics\\_classification.py:1565: UndefinedMetricWarning: Recall is ill-defined and being set to 0.0 in labels with no true samples. Use `zero_division` parameter to control this behavior.\n",
      "  _warn_prf(average, modifier, f\"{metric.capitalize()} is\", len(result))\n",
      "c:\\Users\\juamo\\Desktop\\PID_PROJECT\\venv\\Lib\\site-packages\\sklearn\\metrics\\_classification.py:1565: UndefinedMetricWarning: Recall is ill-defined and being set to 0.0 in labels with no true samples. Use `zero_division` parameter to control this behavior.\n",
      "  _warn_prf(average, modifier, f\"{metric.capitalize()} is\", len(result))\n",
      "c:\\Users\\juamo\\Desktop\\PID_PROJECT\\venv\\Lib\\site-packages\\sklearn\\metrics\\_classification.py:1565: UndefinedMetricWarning: Recall is ill-defined and being set to 0.0 in labels with no true samples. Use `zero_division` parameter to control this behavior.\n",
      "  _warn_prf(average, modifier, f\"{metric.capitalize()} is\", len(result))\n",
      "c:\\Users\\juamo\\Desktop\\PID_PROJECT\\venv\\Lib\\site-packages\\sklearn\\metrics\\_classification.py:1565: UndefinedMetricWarning: Recall is ill-defined and being set to 0.0 in labels with no true samples. Use `zero_division` parameter to control this behavior.\n",
      "  _warn_prf(average, modifier, f\"{metric.capitalize()} is\", len(result))\n",
      "c:\\Users\\juamo\\Desktop\\PID_PROJECT\\venv\\Lib\\site-packages\\sklearn\\metrics\\_classification.py:1565: UndefinedMetricWarning: Recall is ill-defined and being set to 0.0 in labels with no true samples. Use `zero_division` parameter to control this behavior.\n",
      "  _warn_prf(average, modifier, f\"{metric.capitalize()} is\", len(result))\n",
      "c:\\Users\\juamo\\Desktop\\PID_PROJECT\\venv\\Lib\\site-packages\\sklearn\\metrics\\_classification.py:1565: UndefinedMetricWarning: Recall is ill-defined and being set to 0.0 in labels with no true samples. Use `zero_division` parameter to control this behavior.\n",
      "  _warn_prf(average, modifier, f\"{metric.capitalize()} is\", len(result))\n",
      "c:\\Users\\juamo\\Desktop\\PID_PROJECT\\venv\\Lib\\site-packages\\sklearn\\metrics\\_classification.py:1565: UndefinedMetricWarning: Recall is ill-defined and being set to 0.0 in labels with no true samples. Use `zero_division` parameter to control this behavior.\n",
      "  _warn_prf(average, modifier, f\"{metric.capitalize()} is\", len(result))\n",
      "c:\\Users\\juamo\\Desktop\\PID_PROJECT\\venv\\Lib\\site-packages\\sklearn\\metrics\\_classification.py:1565: UndefinedMetricWarning: Recall is ill-defined and being set to 0.0 in labels with no true samples. Use `zero_division` parameter to control this behavior.\n",
      "  _warn_prf(average, modifier, f\"{metric.capitalize()} is\", len(result))\n",
      "c:\\Users\\juamo\\Desktop\\PID_PROJECT\\venv\\Lib\\site-packages\\sklearn\\metrics\\_classification.py:1565: UndefinedMetricWarning: Recall is ill-defined and being set to 0.0 in labels with no true samples. Use `zero_division` parameter to control this behavior.\n",
      "  _warn_prf(average, modifier, f\"{metric.capitalize()} is\", len(result))\n",
      "c:\\Users\\juamo\\Desktop\\PID_PROJECT\\venv\\Lib\\site-packages\\sklearn\\metrics\\_classification.py:1565: UndefinedMetricWarning: Recall is ill-defined and being set to 0.0 in labels with no true samples. Use `zero_division` parameter to control this behavior.\n",
      "  _warn_prf(average, modifier, f\"{metric.capitalize()} is\", len(result))\n",
      "c:\\Users\\juamo\\Desktop\\PID_PROJECT\\venv\\Lib\\site-packages\\sklearn\\metrics\\_classification.py:1565: UndefinedMetricWarning: Recall is ill-defined and being set to 0.0 in labels with no true samples. Use `zero_division` parameter to control this behavior.\n",
      "  _warn_prf(average, modifier, f\"{metric.capitalize()} is\", len(result))\n",
      "c:\\Users\\juamo\\Desktop\\PID_PROJECT\\venv\\Lib\\site-packages\\sklearn\\metrics\\_classification.py:1565: UndefinedMetricWarning: Recall is ill-defined and being set to 0.0 in labels with no true samples. Use `zero_division` parameter to control this behavior.\n",
      "  _warn_prf(average, modifier, f\"{metric.capitalize()} is\", len(result))\n",
      "c:\\Users\\juamo\\Desktop\\PID_PROJECT\\venv\\Lib\\site-packages\\sklearn\\metrics\\_classification.py:1565: UndefinedMetricWarning: Recall is ill-defined and being set to 0.0 in labels with no true samples. Use `zero_division` parameter to control this behavior.\n",
      "  _warn_prf(average, modifier, f\"{metric.capitalize()} is\", len(result))\n",
      "c:\\Users\\juamo\\Desktop\\PID_PROJECT\\venv\\Lib\\site-packages\\sklearn\\metrics\\_classification.py:1565: UndefinedMetricWarning: Recall is ill-defined and being set to 0.0 in labels with no true samples. Use `zero_division` parameter to control this behavior.\n",
      "  _warn_prf(average, modifier, f\"{metric.capitalize()} is\", len(result))\n",
      "c:\\Users\\juamo\\Desktop\\PID_PROJECT\\venv\\Lib\\site-packages\\sklearn\\metrics\\_classification.py:1565: UndefinedMetricWarning: Recall is ill-defined and being set to 0.0 in labels with no true samples. Use `zero_division` parameter to control this behavior.\n",
      "  _warn_prf(average, modifier, f\"{metric.capitalize()} is\", len(result))\n",
      "c:\\Users\\juamo\\Desktop\\PID_PROJECT\\venv\\Lib\\site-packages\\sklearn\\metrics\\_classification.py:1565: UndefinedMetricWarning: Recall is ill-defined and being set to 0.0 in labels with no true samples. Use `zero_division` parameter to control this behavior.\n",
      "  _warn_prf(average, modifier, f\"{metric.capitalize()} is\", len(result))\n",
      "c:\\Users\\juamo\\Desktop\\PID_PROJECT\\venv\\Lib\\site-packages\\sklearn\\metrics\\_classification.py:1565: UndefinedMetricWarning: Recall is ill-defined and being set to 0.0 in labels with no true samples. Use `zero_division` parameter to control this behavior.\n",
      "  _warn_prf(average, modifier, f\"{metric.capitalize()} is\", len(result))\n",
      "c:\\Users\\juamo\\Desktop\\PID_PROJECT\\venv\\Lib\\site-packages\\sklearn\\metrics\\_classification.py:1565: UndefinedMetricWarning: Recall is ill-defined and being set to 0.0 in labels with no true samples. Use `zero_division` parameter to control this behavior.\n",
      "  _warn_prf(average, modifier, f\"{metric.capitalize()} is\", len(result))\n",
      "c:\\Users\\juamo\\Desktop\\PID_PROJECT\\venv\\Lib\\site-packages\\sklearn\\metrics\\_classification.py:1565: UndefinedMetricWarning: Recall is ill-defined and being set to 0.0 in labels with no true samples. Use `zero_division` parameter to control this behavior.\n",
      "  _warn_prf(average, modifier, f\"{metric.capitalize()} is\", len(result))\n",
      "c:\\Users\\juamo\\Desktop\\PID_PROJECT\\venv\\Lib\\site-packages\\sklearn\\metrics\\_classification.py:1565: UndefinedMetricWarning: Recall is ill-defined and being set to 0.0 in labels with no true samples. Use `zero_division` parameter to control this behavior.\n",
      "  _warn_prf(average, modifier, f\"{metric.capitalize()} is\", len(result))\n",
      "c:\\Users\\juamo\\Desktop\\PID_PROJECT\\venv\\Lib\\site-packages\\sklearn\\metrics\\_classification.py:1565: UndefinedMetricWarning: Recall is ill-defined and being set to 0.0 in labels with no true samples. Use `zero_division` parameter to control this behavior.\n",
      "  _warn_prf(average, modifier, f\"{metric.capitalize()} is\", len(result))\n",
      "c:\\Users\\juamo\\Desktop\\PID_PROJECT\\venv\\Lib\\site-packages\\sklearn\\metrics\\_classification.py:1565: UndefinedMetricWarning: Recall is ill-defined and being set to 0.0 in labels with no true samples. Use `zero_division` parameter to control this behavior.\n",
      "  _warn_prf(average, modifier, f\"{metric.capitalize()} is\", len(result))\n",
      "c:\\Users\\juamo\\Desktop\\PID_PROJECT\\venv\\Lib\\site-packages\\sklearn\\metrics\\_classification.py:1565: UndefinedMetricWarning: Recall is ill-defined and being set to 0.0 in labels with no true samples. Use `zero_division` parameter to control this behavior.\n",
      "  _warn_prf(average, modifier, f\"{metric.capitalize()} is\", len(result))\n",
      "c:\\Users\\juamo\\Desktop\\PID_PROJECT\\venv\\Lib\\site-packages\\sklearn\\metrics\\_classification.py:1565: UndefinedMetricWarning: Recall is ill-defined and being set to 0.0 in labels with no true samples. Use `zero_division` parameter to control this behavior.\n",
      "  _warn_prf(average, modifier, f\"{metric.capitalize()} is\", len(result))\n",
      "c:\\Users\\juamo\\Desktop\\PID_PROJECT\\venv\\Lib\\site-packages\\sklearn\\metrics\\_classification.py:1565: UndefinedMetricWarning: Recall is ill-defined and being set to 0.0 in labels with no true samples. Use `zero_division` parameter to control this behavior.\n",
      "  _warn_prf(average, modifier, f\"{metric.capitalize()} is\", len(result))\n",
      "c:\\Users\\juamo\\Desktop\\PID_PROJECT\\venv\\Lib\\site-packages\\sklearn\\metrics\\_classification.py:1565: UndefinedMetricWarning: Recall is ill-defined and being set to 0.0 in labels with no true samples. Use `zero_division` parameter to control this behavior.\n",
      "  _warn_prf(average, modifier, f\"{metric.capitalize()} is\", len(result))\n",
      "c:\\Users\\juamo\\Desktop\\PID_PROJECT\\venv\\Lib\\site-packages\\sklearn\\metrics\\_classification.py:1565: UndefinedMetricWarning: Recall is ill-defined and being set to 0.0 in labels with no true samples. Use `zero_division` parameter to control this behavior.\n",
      "  _warn_prf(average, modifier, f\"{metric.capitalize()} is\", len(result))\n",
      "c:\\Users\\juamo\\Desktop\\PID_PROJECT\\venv\\Lib\\site-packages\\sklearn\\metrics\\_classification.py:1565: UndefinedMetricWarning: Recall is ill-defined and being set to 0.0 in labels with no true samples. Use `zero_division` parameter to control this behavior.\n",
      "  _warn_prf(average, modifier, f\"{metric.capitalize()} is\", len(result))\n",
      "c:\\Users\\juamo\\Desktop\\PID_PROJECT\\venv\\Lib\\site-packages\\sklearn\\metrics\\_classification.py:1565: UndefinedMetricWarning: Recall is ill-defined and being set to 0.0 in labels with no true samples. Use `zero_division` parameter to control this behavior.\n",
      "  _warn_prf(average, modifier, f\"{metric.capitalize()} is\", len(result))\n",
      "c:\\Users\\juamo\\Desktop\\PID_PROJECT\\venv\\Lib\\site-packages\\sklearn\\metrics\\_classification.py:1565: UndefinedMetricWarning: Recall is ill-defined and being set to 0.0 in labels with no true samples. Use `zero_division` parameter to control this behavior.\n",
      "  _warn_prf(average, modifier, f\"{metric.capitalize()} is\", len(result))\n",
      "c:\\Users\\juamo\\Desktop\\PID_PROJECT\\venv\\Lib\\site-packages\\sklearn\\metrics\\_classification.py:1565: UndefinedMetricWarning: Recall is ill-defined and being set to 0.0 in labels with no true samples. Use `zero_division` parameter to control this behavior.\n",
      "  _warn_prf(average, modifier, f\"{metric.capitalize()} is\", len(result))\n",
      "c:\\Users\\juamo\\Desktop\\PID_PROJECT\\venv\\Lib\\site-packages\\sklearn\\metrics\\_classification.py:1565: UndefinedMetricWarning: Recall is ill-defined and being set to 0.0 in labels with no true samples. Use `zero_division` parameter to control this behavior.\n",
      "  _warn_prf(average, modifier, f\"{metric.capitalize()} is\", len(result))\n",
      "c:\\Users\\juamo\\Desktop\\PID_PROJECT\\venv\\Lib\\site-packages\\sklearn\\metrics\\_classification.py:1565: UndefinedMetricWarning: Recall is ill-defined and being set to 0.0 in labels with no true samples. Use `zero_division` parameter to control this behavior.\n",
      "  _warn_prf(average, modifier, f\"{metric.capitalize()} is\", len(result))\n",
      "c:\\Users\\juamo\\Desktop\\PID_PROJECT\\venv\\Lib\\site-packages\\sklearn\\metrics\\_classification.py:1565: UndefinedMetricWarning: Recall is ill-defined and being set to 0.0 in labels with no true samples. Use `zero_division` parameter to control this behavior.\n",
      "  _warn_prf(average, modifier, f\"{metric.capitalize()} is\", len(result))\n",
      "c:\\Users\\juamo\\Desktop\\PID_PROJECT\\venv\\Lib\\site-packages\\sklearn\\metrics\\_classification.py:1565: UndefinedMetricWarning: Recall is ill-defined and being set to 0.0 in labels with no true samples. Use `zero_division` parameter to control this behavior.\n",
      "  _warn_prf(average, modifier, f\"{metric.capitalize()} is\", len(result))\n",
      "c:\\Users\\juamo\\Desktop\\PID_PROJECT\\venv\\Lib\\site-packages\\sklearn\\metrics\\_classification.py:1565: UndefinedMetricWarning: Recall is ill-defined and being set to 0.0 in labels with no true samples. Use `zero_division` parameter to control this behavior.\n",
      "  _warn_prf(average, modifier, f\"{metric.capitalize()} is\", len(result))\n",
      "c:\\Users\\juamo\\Desktop\\PID_PROJECT\\venv\\Lib\\site-packages\\sklearn\\metrics\\_classification.py:1565: UndefinedMetricWarning: Recall is ill-defined and being set to 0.0 in labels with no true samples. Use `zero_division` parameter to control this behavior.\n",
      "  _warn_prf(average, modifier, f\"{metric.capitalize()} is\", len(result))\n",
      "c:\\Users\\juamo\\Desktop\\PID_PROJECT\\venv\\Lib\\site-packages\\sklearn\\metrics\\_classification.py:1565: UndefinedMetricWarning: Recall is ill-defined and being set to 0.0 in labels with no true samples. Use `zero_division` parameter to control this behavior.\n",
      "  _warn_prf(average, modifier, f\"{metric.capitalize()} is\", len(result))\n",
      "c:\\Users\\juamo\\Desktop\\PID_PROJECT\\venv\\Lib\\site-packages\\sklearn\\metrics\\_classification.py:1565: UndefinedMetricWarning: Recall is ill-defined and being set to 0.0 in labels with no true samples. Use `zero_division` parameter to control this behavior.\n",
      "  _warn_prf(average, modifier, f\"{metric.capitalize()} is\", len(result))\n",
      "c:\\Users\\juamo\\Desktop\\PID_PROJECT\\venv\\Lib\\site-packages\\sklearn\\metrics\\_classification.py:1565: UndefinedMetricWarning: Recall is ill-defined and being set to 0.0 in labels with no true samples. Use `zero_division` parameter to control this behavior.\n",
      "  _warn_prf(average, modifier, f\"{metric.capitalize()} is\", len(result))\n",
      "c:\\Users\\juamo\\Desktop\\PID_PROJECT\\venv\\Lib\\site-packages\\sklearn\\metrics\\_classification.py:1565: UndefinedMetricWarning: Recall is ill-defined and being set to 0.0 in labels with no true samples. Use `zero_division` parameter to control this behavior.\n",
      "  _warn_prf(average, modifier, f\"{metric.capitalize()} is\", len(result))\n",
      "c:\\Users\\juamo\\Desktop\\PID_PROJECT\\venv\\Lib\\site-packages\\sklearn\\metrics\\_classification.py:1565: UndefinedMetricWarning: Recall is ill-defined and being set to 0.0 in labels with no true samples. Use `zero_division` parameter to control this behavior.\n",
      "  _warn_prf(average, modifier, f\"{metric.capitalize()} is\", len(result))\n"
     ]
    }
   ],
   "source": [
    "query_indexes = list(range(0, test_x.shape[0]))\n",
    "label_builder = list(np.unique(training_indexed[\"labels\"]))\n",
    "class_builder = {label_unique:[] for label_unique in label_builder}\n",
    "recalls = copy.deepcopy(class_builder)\n",
    "precisions = copy.deepcopy(class_builder)\n",
    "# loop over the testing indexes\n",
    "for i in query_indexes:\n",
    "    queryFeatures = features_retrieved[i]\n",
    "    results = perform_search(queryFeatures, training_indexed, max_results=5)\n",
    "    labels_ret = [training_indexed[\"labels\"][r[1]] for r in results]\n",
    "    label_true = dataset[i].split(\"\\\\\")[3]\n",
    "    label_trues = [label_true for _ in labels_ret]\n",
    "    recall = metric.recall_score(label_trues, labels_ret, average='weighted')\n",
    "    precision = metric.precision_score(label_trues, labels_ret, average='weighted')\n",
    "    recalls[label_true].append(recall)\n",
    "    precisions[label_true].append(precision)"
   ]
  },
  {
   "cell_type": "markdown",
   "metadata": {
    "id": "UA6W88ki8SLP"
   },
   "source": [
    "## Print the recall and precision values"
   ]
  },
  {
   "cell_type": "code",
   "execution_count": 26,
   "metadata": {
    "colab": {
     "base_uri": "https://localhost:8080/"
    },
    "executionInfo": {
     "elapsed": 14,
     "status": "ok",
     "timestamp": 1634460101651,
     "user": {
      "displayName": "Kharisma Muzaki Ghufron",
      "photoUrl": "https://lh3.googleusercontent.com/a/default-user=s64",
      "userId": "14730718725881384856"
     },
     "user_tz": -420
    },
    "id": "1ViD6suW8WnW",
    "outputId": "46c8b7ff-e926-43eb-f7a3-77752c4dedbb"
   },
   "outputs": [
    {
     "name": "stdout",
     "output_type": "stream",
     "text": [
      "recall values:\n",
      "benign 0.7838709677419355\n",
      "malignant 0.8540145985401459\n",
      "combined recall 0.8189427831410407\n",
      "\n",
      "precision values:\n",
      "benign 0.9838709677419355\n",
      "malignant 1.0\n",
      "combined precision 0.9919354838709677\n"
     ]
    }
   ],
   "source": [
    "print(\"recall values:\")\n",
    "comb_recall, comb_precision = [], []\n",
    "for key in recalls.keys():\n",
    "    average_val = np.average(recalls[key])\n",
    "    print(key, average_val)\n",
    "    comb_recall.append(average_val)\n",
    "print(\"combined recall\", np.average(comb_recall))\n",
    "\n",
    "print(\"\\nprecision values:\")\n",
    "for key in precisions.keys():\n",
    "    average_val = np.average(precisions[key])\n",
    "    print(key, average_val)\n",
    "    comb_precision.append(average_val)\n",
    "print(\"combined precision\", np.average(comb_precision))"
   ]
  },
  {
   "cell_type": "code",
   "execution_count": null,
   "metadata": {
    "executionInfo": {
     "elapsed": 25,
     "status": "ok",
     "timestamp": 1634460101665,
     "user": {
      "displayName": "Kharisma Muzaki Ghufron",
      "photoUrl": "https://lh3.googleusercontent.com/a/default-user=s64",
      "userId": "14730718725881384856"
     },
     "user_tz": -420
    },
    "id": "sCxOAAUTwG7D"
   },
   "outputs": [],
   "source": []
  }
 ],
 "metadata": {
  "accelerator": "GPU",
  "colab": {
   "collapsed_sections": [],
   "name": "Example Usage of CNN Autoencoder Breast Cancer Image Retrieval Binary.ipynb",
   "provenance": []
  },
  "kernelspec": {
   "display_name": "venv",
   "language": "python",
   "name": "python3"
  },
  "language_info": {
   "codemirror_mode": {
    "name": "ipython",
    "version": 3
   },
   "file_extension": ".py",
   "mimetype": "text/x-python",
   "name": "python",
   "nbconvert_exporter": "python",
   "pygments_lexer": "ipython3",
   "version": "3.11.0"
  }
 },
 "nbformat": 4,
 "nbformat_minor": 0
}
